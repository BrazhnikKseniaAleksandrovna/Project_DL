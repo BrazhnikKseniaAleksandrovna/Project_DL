{
  "cells": [
    {
      "cell_type": "markdown",
      "metadata": {
        "id": "9BsPhYlrknjl"
      },
      "source": [
        "Установка зависимостей"
      ]
    },
    {
      "cell_type": "code",
      "execution_count": 1,
      "metadata": {
        "colab": {
          "base_uri": "https://localhost:8080/"
        },
        "id": "SwcjmjV0j38U",
        "outputId": "42682526-940d-42f6-f01c-2e4f222f7062"
      },
      "outputs": [
        {
          "output_type": "stream",
          "name": "stdout",
          "text": [
            "Requirement already satisfied: torch in /usr/local/lib/python3.11/dist-packages (2.6.0+cu124)\n",
            "Requirement already satisfied: torchaudio in /usr/local/lib/python3.11/dist-packages (2.6.0+cu124)\n",
            "Requirement already satisfied: librosa in /usr/local/lib/python3.11/dist-packages (0.11.0)\n",
            "Requirement already satisfied: tqdm in /usr/local/lib/python3.11/dist-packages (4.67.1)\n",
            "Collecting streamlit\n",
            "  Downloading streamlit-1.45.1-py3-none-any.whl.metadata (8.9 kB)\n",
            "Requirement already satisfied: filelock in /usr/local/lib/python3.11/dist-packages (from torch) (3.18.0)\n",
            "Requirement already satisfied: typing-extensions>=4.10.0 in /usr/local/lib/python3.11/dist-packages (from torch) (4.13.2)\n",
            "Requirement already satisfied: networkx in /usr/local/lib/python3.11/dist-packages (from torch) (3.4.2)\n",
            "Requirement already satisfied: jinja2 in /usr/local/lib/python3.11/dist-packages (from torch) (3.1.6)\n",
            "Requirement already satisfied: fsspec in /usr/local/lib/python3.11/dist-packages (from torch) (2025.3.2)\n",
            "Collecting nvidia-cuda-nvrtc-cu12==12.4.127 (from torch)\n",
            "  Downloading nvidia_cuda_nvrtc_cu12-12.4.127-py3-none-manylinux2014_x86_64.whl.metadata (1.5 kB)\n",
            "Collecting nvidia-cuda-runtime-cu12==12.4.127 (from torch)\n",
            "  Downloading nvidia_cuda_runtime_cu12-12.4.127-py3-none-manylinux2014_x86_64.whl.metadata (1.5 kB)\n",
            "Collecting nvidia-cuda-cupti-cu12==12.4.127 (from torch)\n",
            "  Downloading nvidia_cuda_cupti_cu12-12.4.127-py3-none-manylinux2014_x86_64.whl.metadata (1.6 kB)\n",
            "Collecting nvidia-cudnn-cu12==9.1.0.70 (from torch)\n",
            "  Downloading nvidia_cudnn_cu12-9.1.0.70-py3-none-manylinux2014_x86_64.whl.metadata (1.6 kB)\n",
            "Collecting nvidia-cublas-cu12==12.4.5.8 (from torch)\n",
            "  Downloading nvidia_cublas_cu12-12.4.5.8-py3-none-manylinux2014_x86_64.whl.metadata (1.5 kB)\n",
            "Collecting nvidia-cufft-cu12==11.2.1.3 (from torch)\n",
            "  Downloading nvidia_cufft_cu12-11.2.1.3-py3-none-manylinux2014_x86_64.whl.metadata (1.5 kB)\n",
            "Collecting nvidia-curand-cu12==10.3.5.147 (from torch)\n",
            "  Downloading nvidia_curand_cu12-10.3.5.147-py3-none-manylinux2014_x86_64.whl.metadata (1.5 kB)\n",
            "Collecting nvidia-cusolver-cu12==11.6.1.9 (from torch)\n",
            "  Downloading nvidia_cusolver_cu12-11.6.1.9-py3-none-manylinux2014_x86_64.whl.metadata (1.6 kB)\n",
            "Collecting nvidia-cusparse-cu12==12.3.1.170 (from torch)\n",
            "  Downloading nvidia_cusparse_cu12-12.3.1.170-py3-none-manylinux2014_x86_64.whl.metadata (1.6 kB)\n",
            "Requirement already satisfied: nvidia-cusparselt-cu12==0.6.2 in /usr/local/lib/python3.11/dist-packages (from torch) (0.6.2)\n",
            "Requirement already satisfied: nvidia-nccl-cu12==2.21.5 in /usr/local/lib/python3.11/dist-packages (from torch) (2.21.5)\n",
            "Requirement already satisfied: nvidia-nvtx-cu12==12.4.127 in /usr/local/lib/python3.11/dist-packages (from torch) (12.4.127)\n",
            "Collecting nvidia-nvjitlink-cu12==12.4.127 (from torch)\n",
            "  Downloading nvidia_nvjitlink_cu12-12.4.127-py3-none-manylinux2014_x86_64.whl.metadata (1.5 kB)\n",
            "Requirement already satisfied: triton==3.2.0 in /usr/local/lib/python3.11/dist-packages (from torch) (3.2.0)\n",
            "Requirement already satisfied: sympy==1.13.1 in /usr/local/lib/python3.11/dist-packages (from torch) (1.13.1)\n",
            "Requirement already satisfied: mpmath<1.4,>=1.1.0 in /usr/local/lib/python3.11/dist-packages (from sympy==1.13.1->torch) (1.3.0)\n",
            "Requirement already satisfied: audioread>=2.1.9 in /usr/local/lib/python3.11/dist-packages (from librosa) (3.0.1)\n",
            "Requirement already satisfied: numba>=0.51.0 in /usr/local/lib/python3.11/dist-packages (from librosa) (0.60.0)\n",
            "Requirement already satisfied: numpy>=1.22.3 in /usr/local/lib/python3.11/dist-packages (from librosa) (2.0.2)\n",
            "Requirement already satisfied: scipy>=1.6.0 in /usr/local/lib/python3.11/dist-packages (from librosa) (1.15.3)\n",
            "Requirement already satisfied: scikit-learn>=1.1.0 in /usr/local/lib/python3.11/dist-packages (from librosa) (1.6.1)\n",
            "Requirement already satisfied: joblib>=1.0 in /usr/local/lib/python3.11/dist-packages (from librosa) (1.5.0)\n",
            "Requirement already satisfied: decorator>=4.3.0 in /usr/local/lib/python3.11/dist-packages (from librosa) (4.4.2)\n",
            "Requirement already satisfied: soundfile>=0.12.1 in /usr/local/lib/python3.11/dist-packages (from librosa) (0.13.1)\n",
            "Requirement already satisfied: pooch>=1.1 in /usr/local/lib/python3.11/dist-packages (from librosa) (1.8.2)\n",
            "Requirement already satisfied: soxr>=0.3.2 in /usr/local/lib/python3.11/dist-packages (from librosa) (0.5.0.post1)\n",
            "Requirement already satisfied: lazy_loader>=0.1 in /usr/local/lib/python3.11/dist-packages (from librosa) (0.4)\n",
            "Requirement already satisfied: msgpack>=1.0 in /usr/local/lib/python3.11/dist-packages (from librosa) (1.1.0)\n",
            "Requirement already satisfied: altair<6,>=4.0 in /usr/local/lib/python3.11/dist-packages (from streamlit) (5.5.0)\n",
            "Requirement already satisfied: blinker<2,>=1.5.0 in /usr/local/lib/python3.11/dist-packages (from streamlit) (1.9.0)\n",
            "Requirement already satisfied: cachetools<6,>=4.0 in /usr/local/lib/python3.11/dist-packages (from streamlit) (5.5.2)\n",
            "Requirement already satisfied: click<9,>=7.0 in /usr/local/lib/python3.11/dist-packages (from streamlit) (8.2.0)\n",
            "Requirement already satisfied: packaging<25,>=20 in /usr/local/lib/python3.11/dist-packages (from streamlit) (24.2)\n",
            "Requirement already satisfied: pandas<3,>=1.4.0 in /usr/local/lib/python3.11/dist-packages (from streamlit) (2.2.2)\n",
            "Requirement already satisfied: pillow<12,>=7.1.0 in /usr/local/lib/python3.11/dist-packages (from streamlit) (11.2.1)\n",
            "Requirement already satisfied: protobuf<7,>=3.20 in /usr/local/lib/python3.11/dist-packages (from streamlit) (5.29.4)\n",
            "Requirement already satisfied: pyarrow>=7.0 in /usr/local/lib/python3.11/dist-packages (from streamlit) (18.1.0)\n",
            "Requirement already satisfied: requests<3,>=2.27 in /usr/local/lib/python3.11/dist-packages (from streamlit) (2.32.3)\n",
            "Requirement already satisfied: tenacity<10,>=8.1.0 in /usr/local/lib/python3.11/dist-packages (from streamlit) (9.1.2)\n",
            "Requirement already satisfied: toml<2,>=0.10.1 in /usr/local/lib/python3.11/dist-packages (from streamlit) (0.10.2)\n",
            "Collecting watchdog<7,>=2.1.5 (from streamlit)\n",
            "  Downloading watchdog-6.0.0-py3-none-manylinux2014_x86_64.whl.metadata (44 kB)\n",
            "\u001b[2K     \u001b[90m━━━━━━━━━━━━━━━━━━━━━━━━━━━━━━━━━━━━━━━━\u001b[0m \u001b[32m44.3/44.3 kB\u001b[0m \u001b[31m1.9 MB/s\u001b[0m eta \u001b[36m0:00:00\u001b[0m\n",
            "\u001b[?25hRequirement already satisfied: gitpython!=3.1.19,<4,>=3.0.7 in /usr/local/lib/python3.11/dist-packages (from streamlit) (3.1.44)\n",
            "Collecting pydeck<1,>=0.8.0b4 (from streamlit)\n",
            "  Downloading pydeck-0.9.1-py2.py3-none-any.whl.metadata (4.1 kB)\n",
            "Requirement already satisfied: tornado<7,>=6.0.3 in /usr/local/lib/python3.11/dist-packages (from streamlit) (6.4.2)\n",
            "Requirement already satisfied: jsonschema>=3.0 in /usr/local/lib/python3.11/dist-packages (from altair<6,>=4.0->streamlit) (4.23.0)\n",
            "Requirement already satisfied: narwhals>=1.14.2 in /usr/local/lib/python3.11/dist-packages (from altair<6,>=4.0->streamlit) (1.39.0)\n",
            "Requirement already satisfied: gitdb<5,>=4.0.1 in /usr/local/lib/python3.11/dist-packages (from gitpython!=3.1.19,<4,>=3.0.7->streamlit) (4.0.12)\n",
            "Requirement already satisfied: llvmlite<0.44,>=0.43.0dev0 in /usr/local/lib/python3.11/dist-packages (from numba>=0.51.0->librosa) (0.43.0)\n",
            "Requirement already satisfied: python-dateutil>=2.8.2 in /usr/local/lib/python3.11/dist-packages (from pandas<3,>=1.4.0->streamlit) (2.9.0.post0)\n",
            "Requirement already satisfied: pytz>=2020.1 in /usr/local/lib/python3.11/dist-packages (from pandas<3,>=1.4.0->streamlit) (2025.2)\n",
            "Requirement already satisfied: tzdata>=2022.7 in /usr/local/lib/python3.11/dist-packages (from pandas<3,>=1.4.0->streamlit) (2025.2)\n",
            "Requirement already satisfied: platformdirs>=2.5.0 in /usr/local/lib/python3.11/dist-packages (from pooch>=1.1->librosa) (4.3.8)\n",
            "Requirement already satisfied: MarkupSafe>=2.0 in /usr/local/lib/python3.11/dist-packages (from jinja2->torch) (3.0.2)\n",
            "Requirement already satisfied: charset-normalizer<4,>=2 in /usr/local/lib/python3.11/dist-packages (from requests<3,>=2.27->streamlit) (3.4.2)\n",
            "Requirement already satisfied: idna<4,>=2.5 in /usr/local/lib/python3.11/dist-packages (from requests<3,>=2.27->streamlit) (3.10)\n",
            "Requirement already satisfied: urllib3<3,>=1.21.1 in /usr/local/lib/python3.11/dist-packages (from requests<3,>=2.27->streamlit) (2.4.0)\n",
            "Requirement already satisfied: certifi>=2017.4.17 in /usr/local/lib/python3.11/dist-packages (from requests<3,>=2.27->streamlit) (2025.4.26)\n",
            "Requirement already satisfied: threadpoolctl>=3.1.0 in /usr/local/lib/python3.11/dist-packages (from scikit-learn>=1.1.0->librosa) (3.6.0)\n",
            "Requirement already satisfied: cffi>=1.0 in /usr/local/lib/python3.11/dist-packages (from soundfile>=0.12.1->librosa) (1.17.1)\n",
            "Requirement already satisfied: pycparser in /usr/local/lib/python3.11/dist-packages (from cffi>=1.0->soundfile>=0.12.1->librosa) (2.22)\n",
            "Requirement already satisfied: smmap<6,>=3.0.1 in /usr/local/lib/python3.11/dist-packages (from gitdb<5,>=4.0.1->gitpython!=3.1.19,<4,>=3.0.7->streamlit) (5.0.2)\n",
            "Requirement already satisfied: attrs>=22.2.0 in /usr/local/lib/python3.11/dist-packages (from jsonschema>=3.0->altair<6,>=4.0->streamlit) (25.3.0)\n",
            "Requirement already satisfied: jsonschema-specifications>=2023.03.6 in /usr/local/lib/python3.11/dist-packages (from jsonschema>=3.0->altair<6,>=4.0->streamlit) (2025.4.1)\n",
            "Requirement already satisfied: referencing>=0.28.4 in /usr/local/lib/python3.11/dist-packages (from jsonschema>=3.0->altair<6,>=4.0->streamlit) (0.36.2)\n",
            "Requirement already satisfied: rpds-py>=0.7.1 in /usr/local/lib/python3.11/dist-packages (from jsonschema>=3.0->altair<6,>=4.0->streamlit) (0.24.0)\n",
            "Requirement already satisfied: six>=1.5 in /usr/local/lib/python3.11/dist-packages (from python-dateutil>=2.8.2->pandas<3,>=1.4.0->streamlit) (1.17.0)\n",
            "Downloading nvidia_cublas_cu12-12.4.5.8-py3-none-manylinux2014_x86_64.whl (363.4 MB)\n",
            "\u001b[2K   \u001b[90m━━━━━━━━━━━━━━━━━━━━━━━━━━━━━━━━━━━━━━━━\u001b[0m \u001b[32m363.4/363.4 MB\u001b[0m \u001b[31m4.1 MB/s\u001b[0m eta \u001b[36m0:00:00\u001b[0m\n",
            "\u001b[?25hDownloading nvidia_cuda_cupti_cu12-12.4.127-py3-none-manylinux2014_x86_64.whl (13.8 MB)\n",
            "\u001b[2K   \u001b[90m━━━━━━━━━━━━━━━━━━━━━━━━━━━━━━━━━━━━━━━━\u001b[0m \u001b[32m13.8/13.8 MB\u001b[0m \u001b[31m74.9 MB/s\u001b[0m eta \u001b[36m0:00:00\u001b[0m\n",
            "\u001b[?25hDownloading nvidia_cuda_nvrtc_cu12-12.4.127-py3-none-manylinux2014_x86_64.whl (24.6 MB)\n",
            "\u001b[2K   \u001b[90m━━━━━━━━━━━━━━━━━━━━━━━━━━━━━━━━━━━━━━━━\u001b[0m \u001b[32m24.6/24.6 MB\u001b[0m \u001b[31m73.8 MB/s\u001b[0m eta \u001b[36m0:00:00\u001b[0m\n",
            "\u001b[?25hDownloading nvidia_cuda_runtime_cu12-12.4.127-py3-none-manylinux2014_x86_64.whl (883 kB)\n",
            "\u001b[2K   \u001b[90m━━━━━━━━━━━━━━━━━━━━━━━━━━━━━━━━━━━━━━━━\u001b[0m \u001b[32m883.7/883.7 kB\u001b[0m \u001b[31m23.5 MB/s\u001b[0m eta \u001b[36m0:00:00\u001b[0m\n",
            "\u001b[?25hDownloading nvidia_cudnn_cu12-9.1.0.70-py3-none-manylinux2014_x86_64.whl (664.8 MB)\n",
            "\u001b[2K   \u001b[90m━━━━━━━━━━━━━━━━━━━━━━━━━━━━━━━━━━━━━━━━\u001b[0m \u001b[32m664.8/664.8 MB\u001b[0m \u001b[31m2.2 MB/s\u001b[0m eta \u001b[36m0:00:00\u001b[0m\n",
            "\u001b[?25hDownloading nvidia_cufft_cu12-11.2.1.3-py3-none-manylinux2014_x86_64.whl (211.5 MB)\n",
            "\u001b[2K   \u001b[90m━━━━━━━━━━━━━━━━━━━━━━━━━━━━━━━━━━━━━━━━\u001b[0m \u001b[32m211.5/211.5 MB\u001b[0m \u001b[31m5.5 MB/s\u001b[0m eta \u001b[36m0:00:00\u001b[0m\n",
            "\u001b[?25hDownloading nvidia_curand_cu12-10.3.5.147-py3-none-manylinux2014_x86_64.whl (56.3 MB)\n",
            "\u001b[2K   \u001b[90m━━━━━━━━━━━━━━━━━━━━━━━━━━━━━━━━━━━━━━━━\u001b[0m \u001b[32m56.3/56.3 MB\u001b[0m \u001b[31m12.4 MB/s\u001b[0m eta \u001b[36m0:00:00\u001b[0m\n",
            "\u001b[?25hDownloading nvidia_cusolver_cu12-11.6.1.9-py3-none-manylinux2014_x86_64.whl (127.9 MB)\n",
            "\u001b[2K   \u001b[90m━━━━━━━━━━━━━━━━━━━━━━━━━━━━━━━━━━━━━━━━\u001b[0m \u001b[32m127.9/127.9 MB\u001b[0m \u001b[31m7.6 MB/s\u001b[0m eta \u001b[36m0:00:00\u001b[0m\n",
            "\u001b[?25hDownloading nvidia_cusparse_cu12-12.3.1.170-py3-none-manylinux2014_x86_64.whl (207.5 MB)\n",
            "\u001b[2K   \u001b[90m━━━━━━━━━━━━━━━━━━━━━━━━━━━━━━━━━━━━━━━━\u001b[0m \u001b[32m207.5/207.5 MB\u001b[0m \u001b[31m5.5 MB/s\u001b[0m eta \u001b[36m0:00:00\u001b[0m\n",
            "\u001b[?25hDownloading nvidia_nvjitlink_cu12-12.4.127-py3-none-manylinux2014_x86_64.whl (21.1 MB)\n",
            "\u001b[2K   \u001b[90m━━━━━━━━━━━━━━━━━━━━━━━━━━━━━━━━━━━━━━━━\u001b[0m \u001b[32m21.1/21.1 MB\u001b[0m \u001b[31m96.4 MB/s\u001b[0m eta \u001b[36m0:00:00\u001b[0m\n",
            "\u001b[?25hDownloading streamlit-1.45.1-py3-none-any.whl (9.9 MB)\n",
            "\u001b[2K   \u001b[90m━━━━━━━━━━━━━━━━━━━━━━━━━━━━━━━━━━━━━━━━\u001b[0m \u001b[32m9.9/9.9 MB\u001b[0m \u001b[31m118.1 MB/s\u001b[0m eta \u001b[36m0:00:00\u001b[0m\n",
            "\u001b[?25hDownloading pydeck-0.9.1-py2.py3-none-any.whl (6.9 MB)\n",
            "\u001b[2K   \u001b[90m━━━━━━━━━━━━━━━━━━━━━━━━━━━━━━━━━━━━━━━━\u001b[0m \u001b[32m6.9/6.9 MB\u001b[0m \u001b[31m112.3 MB/s\u001b[0m eta \u001b[36m0:00:00\u001b[0m\n",
            "\u001b[?25hDownloading watchdog-6.0.0-py3-none-manylinux2014_x86_64.whl (79 kB)\n",
            "\u001b[2K   \u001b[90m━━━━━━━━━━━━━━━━━━━━━━━━━━━━━━━━━━━━━━━━\u001b[0m \u001b[32m79.1/79.1 kB\u001b[0m \u001b[31m6.2 MB/s\u001b[0m eta \u001b[36m0:00:00\u001b[0m\n",
            "\u001b[?25hInstalling collected packages: watchdog, nvidia-nvjitlink-cu12, nvidia-curand-cu12, nvidia-cufft-cu12, nvidia-cuda-runtime-cu12, nvidia-cuda-nvrtc-cu12, nvidia-cuda-cupti-cu12, nvidia-cublas-cu12, pydeck, nvidia-cusparse-cu12, nvidia-cudnn-cu12, nvidia-cusolver-cu12, streamlit\n",
            "  Attempting uninstall: nvidia-nvjitlink-cu12\n",
            "    Found existing installation: nvidia-nvjitlink-cu12 12.5.82\n",
            "    Uninstalling nvidia-nvjitlink-cu12-12.5.82:\n",
            "      Successfully uninstalled nvidia-nvjitlink-cu12-12.5.82\n",
            "  Attempting uninstall: nvidia-curand-cu12\n",
            "    Found existing installation: nvidia-curand-cu12 10.3.6.82\n",
            "    Uninstalling nvidia-curand-cu12-10.3.6.82:\n",
            "      Successfully uninstalled nvidia-curand-cu12-10.3.6.82\n",
            "  Attempting uninstall: nvidia-cufft-cu12\n",
            "    Found existing installation: nvidia-cufft-cu12 11.2.3.61\n",
            "    Uninstalling nvidia-cufft-cu12-11.2.3.61:\n",
            "      Successfully uninstalled nvidia-cufft-cu12-11.2.3.61\n",
            "  Attempting uninstall: nvidia-cuda-runtime-cu12\n",
            "    Found existing installation: nvidia-cuda-runtime-cu12 12.5.82\n",
            "    Uninstalling nvidia-cuda-runtime-cu12-12.5.82:\n",
            "      Successfully uninstalled nvidia-cuda-runtime-cu12-12.5.82\n",
            "  Attempting uninstall: nvidia-cuda-nvrtc-cu12\n",
            "    Found existing installation: nvidia-cuda-nvrtc-cu12 12.5.82\n",
            "    Uninstalling nvidia-cuda-nvrtc-cu12-12.5.82:\n",
            "      Successfully uninstalled nvidia-cuda-nvrtc-cu12-12.5.82\n",
            "  Attempting uninstall: nvidia-cuda-cupti-cu12\n",
            "    Found existing installation: nvidia-cuda-cupti-cu12 12.5.82\n",
            "    Uninstalling nvidia-cuda-cupti-cu12-12.5.82:\n",
            "      Successfully uninstalled nvidia-cuda-cupti-cu12-12.5.82\n",
            "  Attempting uninstall: nvidia-cublas-cu12\n",
            "    Found existing installation: nvidia-cublas-cu12 12.5.3.2\n",
            "    Uninstalling nvidia-cublas-cu12-12.5.3.2:\n",
            "      Successfully uninstalled nvidia-cublas-cu12-12.5.3.2\n",
            "  Attempting uninstall: nvidia-cusparse-cu12\n",
            "    Found existing installation: nvidia-cusparse-cu12 12.5.1.3\n",
            "    Uninstalling nvidia-cusparse-cu12-12.5.1.3:\n",
            "      Successfully uninstalled nvidia-cusparse-cu12-12.5.1.3\n",
            "  Attempting uninstall: nvidia-cudnn-cu12\n",
            "    Found existing installation: nvidia-cudnn-cu12 9.3.0.75\n",
            "    Uninstalling nvidia-cudnn-cu12-9.3.0.75:\n",
            "      Successfully uninstalled nvidia-cudnn-cu12-9.3.0.75\n",
            "  Attempting uninstall: nvidia-cusolver-cu12\n",
            "    Found existing installation: nvidia-cusolver-cu12 11.6.3.83\n",
            "    Uninstalling nvidia-cusolver-cu12-11.6.3.83:\n",
            "      Successfully uninstalled nvidia-cusolver-cu12-11.6.3.83\n",
            "Successfully installed nvidia-cublas-cu12-12.4.5.8 nvidia-cuda-cupti-cu12-12.4.127 nvidia-cuda-nvrtc-cu12-12.4.127 nvidia-cuda-runtime-cu12-12.4.127 nvidia-cudnn-cu12-9.1.0.70 nvidia-cufft-cu12-11.2.1.3 nvidia-curand-cu12-10.3.5.147 nvidia-cusolver-cu12-11.6.1.9 nvidia-cusparse-cu12-12.3.1.170 nvidia-nvjitlink-cu12-12.4.127 pydeck-0.9.1 streamlit-1.45.1 watchdog-6.0.0\n"
          ]
        }
      ],
      "source": [
        "# # Устанавливаем необходимые библиотеки\n",
        "!pip install torch torchaudio librosa tqdm streamlit\n"
      ]
    },
    {
      "cell_type": "code",
      "execution_count": 2,
      "metadata": {
        "colab": {
          "base_uri": "https://localhost:8080/"
        },
        "id": "cG7zc3jBEdGJ",
        "outputId": "832b3e04-61fe-49f9-d331-33c0e2951d08"
      },
      "outputs": [
        {
          "output_type": "stream",
          "name": "stdout",
          "text": [
            "Collecting pydub\n",
            "  Downloading pydub-0.25.1-py2.py3-none-any.whl.metadata (1.4 kB)\n",
            "Downloading pydub-0.25.1-py2.py3-none-any.whl (32 kB)\n",
            "Installing collected packages: pydub\n",
            "Successfully installed pydub-0.25.1\n",
            "Reading package lists... Done\n",
            "Building dependency tree... Done\n",
            "Reading state information... Done\n",
            "ffmpeg is already the newest version (7:4.4.2-0ubuntu0.22.04.1).\n",
            "0 upgraded, 0 newly installed, 0 to remove and 34 not upgraded.\n"
          ]
        }
      ],
      "source": [
        "!pip install pydub\n",
        "!apt-get install -y ffmpeg\n",
        "import os\n",
        "os.environ[\"PATH\"] += os.pathsep + \"/usr/bin\"\n"
      ]
    },
    {
      "cell_type": "code",
      "execution_count": 3,
      "metadata": {
        "colab": {
          "base_uri": "https://localhost:8080/"
        },
        "id": "oQSukyS2tl3O",
        "outputId": "edab0f55-6049-44b0-86a6-7656d6001233"
      },
      "outputs": [
        {
          "output_type": "stream",
          "name": "stdout",
          "text": [
            "Collecting pyngrok\n",
            "  Downloading pyngrok-7.2.8-py3-none-any.whl.metadata (10 kB)\n",
            "Requirement already satisfied: PyYAML>=5.1 in /usr/local/lib/python3.11/dist-packages (from pyngrok) (6.0.2)\n",
            "Downloading pyngrok-7.2.8-py3-none-any.whl (25 kB)\n",
            "Installing collected packages: pyngrok\n",
            "Successfully installed pyngrok-7.2.8\n"
          ]
        }
      ],
      "source": [
        "!pip install pyngrok\n"
      ]
    },
    {
      "cell_type": "code",
      "execution_count": 4,
      "metadata": {
        "colab": {
          "base_uri": "https://localhost:8080/"
        },
        "id": "TvcFZgpY2CJL",
        "outputId": "111d1cfd-703f-4150-c65e-cb496503bc6d"
      },
      "outputs": [
        {
          "output_type": "stream",
          "name": "stdout",
          "text": [
            "Requirement already satisfied: opencv-python-headless in /usr/local/lib/python3.11/dist-packages (4.11.0.86)\n",
            "Requirement already satisfied: numpy>=1.21.2 in /usr/local/lib/python3.11/dist-packages (from opencv-python-headless) (2.0.2)\n"
          ]
        }
      ],
      "source": [
        "!pip install opencv-python-headless\n"
      ]
    },
    {
      "cell_type": "code",
      "execution_count": 5,
      "metadata": {
        "colab": {
          "base_uri": "https://localhost:8080/"
        },
        "id": "KeX9Ol1526Fp",
        "outputId": "9eae4a8e-65bf-4e20-abe2-f6e10471ded4"
      },
      "outputs": [
        {
          "output_type": "stream",
          "name": "stdout",
          "text": [
            "Collecting streamlit-audiorec\n",
            "  Downloading streamlit_audiorec-0.1.3-py3-none-any.whl.metadata (2.4 kB)\n",
            "Requirement already satisfied: streamlit>=0.63 in /usr/local/lib/python3.11/dist-packages (from streamlit-audiorec) (1.45.1)\n",
            "Requirement already satisfied: altair<6,>=4.0 in /usr/local/lib/python3.11/dist-packages (from streamlit>=0.63->streamlit-audiorec) (5.5.0)\n",
            "Requirement already satisfied: blinker<2,>=1.5.0 in /usr/local/lib/python3.11/dist-packages (from streamlit>=0.63->streamlit-audiorec) (1.9.0)\n",
            "Requirement already satisfied: cachetools<6,>=4.0 in /usr/local/lib/python3.11/dist-packages (from streamlit>=0.63->streamlit-audiorec) (5.5.2)\n",
            "Requirement already satisfied: click<9,>=7.0 in /usr/local/lib/python3.11/dist-packages (from streamlit>=0.63->streamlit-audiorec) (8.2.0)\n",
            "Requirement already satisfied: numpy<3,>=1.23 in /usr/local/lib/python3.11/dist-packages (from streamlit>=0.63->streamlit-audiorec) (2.0.2)\n",
            "Requirement already satisfied: packaging<25,>=20 in /usr/local/lib/python3.11/dist-packages (from streamlit>=0.63->streamlit-audiorec) (24.2)\n",
            "Requirement already satisfied: pandas<3,>=1.4.0 in /usr/local/lib/python3.11/dist-packages (from streamlit>=0.63->streamlit-audiorec) (2.2.2)\n",
            "Requirement already satisfied: pillow<12,>=7.1.0 in /usr/local/lib/python3.11/dist-packages (from streamlit>=0.63->streamlit-audiorec) (11.2.1)\n",
            "Requirement already satisfied: protobuf<7,>=3.20 in /usr/local/lib/python3.11/dist-packages (from streamlit>=0.63->streamlit-audiorec) (5.29.4)\n",
            "Requirement already satisfied: pyarrow>=7.0 in /usr/local/lib/python3.11/dist-packages (from streamlit>=0.63->streamlit-audiorec) (18.1.0)\n",
            "Requirement already satisfied: requests<3,>=2.27 in /usr/local/lib/python3.11/dist-packages (from streamlit>=0.63->streamlit-audiorec) (2.32.3)\n",
            "Requirement already satisfied: tenacity<10,>=8.1.0 in /usr/local/lib/python3.11/dist-packages (from streamlit>=0.63->streamlit-audiorec) (9.1.2)\n",
            "Requirement already satisfied: toml<2,>=0.10.1 in /usr/local/lib/python3.11/dist-packages (from streamlit>=0.63->streamlit-audiorec) (0.10.2)\n",
            "Requirement already satisfied: typing-extensions<5,>=4.4.0 in /usr/local/lib/python3.11/dist-packages (from streamlit>=0.63->streamlit-audiorec) (4.13.2)\n",
            "Requirement already satisfied: watchdog<7,>=2.1.5 in /usr/local/lib/python3.11/dist-packages (from streamlit>=0.63->streamlit-audiorec) (6.0.0)\n",
            "Requirement already satisfied: gitpython!=3.1.19,<4,>=3.0.7 in /usr/local/lib/python3.11/dist-packages (from streamlit>=0.63->streamlit-audiorec) (3.1.44)\n",
            "Requirement already satisfied: pydeck<1,>=0.8.0b4 in /usr/local/lib/python3.11/dist-packages (from streamlit>=0.63->streamlit-audiorec) (0.9.1)\n",
            "Requirement already satisfied: tornado<7,>=6.0.3 in /usr/local/lib/python3.11/dist-packages (from streamlit>=0.63->streamlit-audiorec) (6.4.2)\n",
            "Requirement already satisfied: jinja2 in /usr/local/lib/python3.11/dist-packages (from altair<6,>=4.0->streamlit>=0.63->streamlit-audiorec) (3.1.6)\n",
            "Requirement already satisfied: jsonschema>=3.0 in /usr/local/lib/python3.11/dist-packages (from altair<6,>=4.0->streamlit>=0.63->streamlit-audiorec) (4.23.0)\n",
            "Requirement already satisfied: narwhals>=1.14.2 in /usr/local/lib/python3.11/dist-packages (from altair<6,>=4.0->streamlit>=0.63->streamlit-audiorec) (1.39.0)\n",
            "Requirement already satisfied: gitdb<5,>=4.0.1 in /usr/local/lib/python3.11/dist-packages (from gitpython!=3.1.19,<4,>=3.0.7->streamlit>=0.63->streamlit-audiorec) (4.0.12)\n",
            "Requirement already satisfied: python-dateutil>=2.8.2 in /usr/local/lib/python3.11/dist-packages (from pandas<3,>=1.4.0->streamlit>=0.63->streamlit-audiorec) (2.9.0.post0)\n",
            "Requirement already satisfied: pytz>=2020.1 in /usr/local/lib/python3.11/dist-packages (from pandas<3,>=1.4.0->streamlit>=0.63->streamlit-audiorec) (2025.2)\n",
            "Requirement already satisfied: tzdata>=2022.7 in /usr/local/lib/python3.11/dist-packages (from pandas<3,>=1.4.0->streamlit>=0.63->streamlit-audiorec) (2025.2)\n",
            "Requirement already satisfied: charset-normalizer<4,>=2 in /usr/local/lib/python3.11/dist-packages (from requests<3,>=2.27->streamlit>=0.63->streamlit-audiorec) (3.4.2)\n",
            "Requirement already satisfied: idna<4,>=2.5 in /usr/local/lib/python3.11/dist-packages (from requests<3,>=2.27->streamlit>=0.63->streamlit-audiorec) (3.10)\n",
            "Requirement already satisfied: urllib3<3,>=1.21.1 in /usr/local/lib/python3.11/dist-packages (from requests<3,>=2.27->streamlit>=0.63->streamlit-audiorec) (2.4.0)\n",
            "Requirement already satisfied: certifi>=2017.4.17 in /usr/local/lib/python3.11/dist-packages (from requests<3,>=2.27->streamlit>=0.63->streamlit-audiorec) (2025.4.26)\n",
            "Requirement already satisfied: smmap<6,>=3.0.1 in /usr/local/lib/python3.11/dist-packages (from gitdb<5,>=4.0.1->gitpython!=3.1.19,<4,>=3.0.7->streamlit>=0.63->streamlit-audiorec) (5.0.2)\n",
            "Requirement already satisfied: MarkupSafe>=2.0 in /usr/local/lib/python3.11/dist-packages (from jinja2->altair<6,>=4.0->streamlit>=0.63->streamlit-audiorec) (3.0.2)\n",
            "Requirement already satisfied: attrs>=22.2.0 in /usr/local/lib/python3.11/dist-packages (from jsonschema>=3.0->altair<6,>=4.0->streamlit>=0.63->streamlit-audiorec) (25.3.0)\n",
            "Requirement already satisfied: jsonschema-specifications>=2023.03.6 in /usr/local/lib/python3.11/dist-packages (from jsonschema>=3.0->altair<6,>=4.0->streamlit>=0.63->streamlit-audiorec) (2025.4.1)\n",
            "Requirement already satisfied: referencing>=0.28.4 in /usr/local/lib/python3.11/dist-packages (from jsonschema>=3.0->altair<6,>=4.0->streamlit>=0.63->streamlit-audiorec) (0.36.2)\n",
            "Requirement already satisfied: rpds-py>=0.7.1 in /usr/local/lib/python3.11/dist-packages (from jsonschema>=3.0->altair<6,>=4.0->streamlit>=0.63->streamlit-audiorec) (0.24.0)\n",
            "Requirement already satisfied: six>=1.5 in /usr/local/lib/python3.11/dist-packages (from python-dateutil>=2.8.2->pandas<3,>=1.4.0->streamlit>=0.63->streamlit-audiorec) (1.17.0)\n",
            "Downloading streamlit_audiorec-0.1.3-py3-none-any.whl (872 kB)\n",
            "\u001b[2K   \u001b[90m━━━━━━━━━━━━━━━━━━━━━━━━━━━━━━━━━━━━━━━━\u001b[0m \u001b[32m872.8/872.8 kB\u001b[0m \u001b[31m15.2 MB/s\u001b[0m eta \u001b[36m0:00:00\u001b[0m\n",
            "\u001b[?25hInstalling collected packages: streamlit-audiorec\n",
            "Successfully installed streamlit-audiorec-0.1.3\n"
          ]
        }
      ],
      "source": [
        "!pip install streamlit-audiorec\n"
      ]
    },
    {
      "cell_type": "code",
      "execution_count": 6,
      "metadata": {
        "colab": {
          "base_uri": "https://localhost:8080/"
        },
        "id": "-wsNLj9K4l7c",
        "outputId": "55ae8dce-9a64-4a1c-f5b2-feb9ff06b401"
      },
      "outputs": [
        {
          "output_type": "stream",
          "name": "stdout",
          "text": [
            "Collecting streamlit-webrtc\n",
            "  Downloading streamlit_webrtc-0.62.4-py3-none-any.whl.metadata (18 kB)\n",
            "Collecting aioice>=0.10.0 (from streamlit-webrtc)\n",
            "  Downloading aioice-0.10.1-py3-none-any.whl.metadata (4.1 kB)\n",
            "Collecting aiortc>=1.11.0 (from streamlit-webrtc)\n",
            "  Downloading aiortc-1.12.0-py3-none-any.whl.metadata (4.9 kB)\n",
            "Requirement already satisfied: packaging>=20.0 in /usr/local/lib/python3.11/dist-packages (from streamlit-webrtc) (24.2)\n",
            "Requirement already satisfied: streamlit>=0.89.0 in /usr/local/lib/python3.11/dist-packages (from streamlit-webrtc) (1.45.1)\n",
            "Collecting dnspython>=2.0.0 (from aioice>=0.10.0->streamlit-webrtc)\n",
            "  Downloading dnspython-2.7.0-py3-none-any.whl.metadata (5.8 kB)\n",
            "Collecting ifaddr>=0.2.0 (from aioice>=0.10.0->streamlit-webrtc)\n",
            "  Downloading ifaddr-0.2.0-py3-none-any.whl.metadata (4.9 kB)\n",
            "Collecting av<15.0.0,>=14.0.0 (from aiortc>=1.11.0->streamlit-webrtc)\n",
            "  Downloading av-14.4.0-cp311-cp311-manylinux_2_17_x86_64.manylinux2014_x86_64.whl.metadata (4.6 kB)\n",
            "Requirement already satisfied: cffi>=1.0.0 in /usr/local/lib/python3.11/dist-packages (from aiortc>=1.11.0->streamlit-webrtc) (1.17.1)\n",
            "Collecting cryptography>=44.0.0 (from aiortc>=1.11.0->streamlit-webrtc)\n",
            "  Downloading cryptography-45.0.3-cp311-abi3-manylinux_2_34_x86_64.whl.metadata (5.7 kB)\n",
            "Requirement already satisfied: google-crc32c>=1.1 in /usr/local/lib/python3.11/dist-packages (from aiortc>=1.11.0->streamlit-webrtc) (1.7.1)\n",
            "Collecting pyee>=13.0.0 (from aiortc>=1.11.0->streamlit-webrtc)\n",
            "  Downloading pyee-13.0.0-py3-none-any.whl.metadata (2.9 kB)\n",
            "Collecting pylibsrtp>=0.10.0 (from aiortc>=1.11.0->streamlit-webrtc)\n",
            "  Downloading pylibsrtp-0.12.0-cp39-abi3-manylinux_2_17_x86_64.manylinux2014_x86_64.whl.metadata (4.1 kB)\n",
            "Collecting pyopenssl>=25.0.0 (from aiortc>=1.11.0->streamlit-webrtc)\n",
            "  Downloading pyopenssl-25.1.0-py3-none-any.whl.metadata (17 kB)\n",
            "Requirement already satisfied: altair<6,>=4.0 in /usr/local/lib/python3.11/dist-packages (from streamlit>=0.89.0->streamlit-webrtc) (5.5.0)\n",
            "Requirement already satisfied: blinker<2,>=1.5.0 in /usr/local/lib/python3.11/dist-packages (from streamlit>=0.89.0->streamlit-webrtc) (1.9.0)\n",
            "Requirement already satisfied: cachetools<6,>=4.0 in /usr/local/lib/python3.11/dist-packages (from streamlit>=0.89.0->streamlit-webrtc) (5.5.2)\n",
            "Requirement already satisfied: click<9,>=7.0 in /usr/local/lib/python3.11/dist-packages (from streamlit>=0.89.0->streamlit-webrtc) (8.2.0)\n",
            "Requirement already satisfied: numpy<3,>=1.23 in /usr/local/lib/python3.11/dist-packages (from streamlit>=0.89.0->streamlit-webrtc) (2.0.2)\n",
            "Requirement already satisfied: pandas<3,>=1.4.0 in /usr/local/lib/python3.11/dist-packages (from streamlit>=0.89.0->streamlit-webrtc) (2.2.2)\n",
            "Requirement already satisfied: pillow<12,>=7.1.0 in /usr/local/lib/python3.11/dist-packages (from streamlit>=0.89.0->streamlit-webrtc) (11.2.1)\n",
            "Requirement already satisfied: protobuf<7,>=3.20 in /usr/local/lib/python3.11/dist-packages (from streamlit>=0.89.0->streamlit-webrtc) (5.29.4)\n",
            "Requirement already satisfied: pyarrow>=7.0 in /usr/local/lib/python3.11/dist-packages (from streamlit>=0.89.0->streamlit-webrtc) (18.1.0)\n",
            "Requirement already satisfied: requests<3,>=2.27 in /usr/local/lib/python3.11/dist-packages (from streamlit>=0.89.0->streamlit-webrtc) (2.32.3)\n",
            "Requirement already satisfied: tenacity<10,>=8.1.0 in /usr/local/lib/python3.11/dist-packages (from streamlit>=0.89.0->streamlit-webrtc) (9.1.2)\n",
            "Requirement already satisfied: toml<2,>=0.10.1 in /usr/local/lib/python3.11/dist-packages (from streamlit>=0.89.0->streamlit-webrtc) (0.10.2)\n",
            "Requirement already satisfied: typing-extensions<5,>=4.4.0 in /usr/local/lib/python3.11/dist-packages (from streamlit>=0.89.0->streamlit-webrtc) (4.13.2)\n",
            "Requirement already satisfied: watchdog<7,>=2.1.5 in /usr/local/lib/python3.11/dist-packages (from streamlit>=0.89.0->streamlit-webrtc) (6.0.0)\n",
            "Requirement already satisfied: gitpython!=3.1.19,<4,>=3.0.7 in /usr/local/lib/python3.11/dist-packages (from streamlit>=0.89.0->streamlit-webrtc) (3.1.44)\n",
            "Requirement already satisfied: pydeck<1,>=0.8.0b4 in /usr/local/lib/python3.11/dist-packages (from streamlit>=0.89.0->streamlit-webrtc) (0.9.1)\n",
            "Requirement already satisfied: tornado<7,>=6.0.3 in /usr/local/lib/python3.11/dist-packages (from streamlit>=0.89.0->streamlit-webrtc) (6.4.2)\n",
            "Requirement already satisfied: jinja2 in /usr/local/lib/python3.11/dist-packages (from altair<6,>=4.0->streamlit>=0.89.0->streamlit-webrtc) (3.1.6)\n",
            "Requirement already satisfied: jsonschema>=3.0 in /usr/local/lib/python3.11/dist-packages (from altair<6,>=4.0->streamlit>=0.89.0->streamlit-webrtc) (4.23.0)\n",
            "Requirement already satisfied: narwhals>=1.14.2 in /usr/local/lib/python3.11/dist-packages (from altair<6,>=4.0->streamlit>=0.89.0->streamlit-webrtc) (1.39.0)\n",
            "Requirement already satisfied: pycparser in /usr/local/lib/python3.11/dist-packages (from cffi>=1.0.0->aiortc>=1.11.0->streamlit-webrtc) (2.22)\n",
            "Requirement already satisfied: gitdb<5,>=4.0.1 in /usr/local/lib/python3.11/dist-packages (from gitpython!=3.1.19,<4,>=3.0.7->streamlit>=0.89.0->streamlit-webrtc) (4.0.12)\n",
            "Requirement already satisfied: python-dateutil>=2.8.2 in /usr/local/lib/python3.11/dist-packages (from pandas<3,>=1.4.0->streamlit>=0.89.0->streamlit-webrtc) (2.9.0.post0)\n",
            "Requirement already satisfied: pytz>=2020.1 in /usr/local/lib/python3.11/dist-packages (from pandas<3,>=1.4.0->streamlit>=0.89.0->streamlit-webrtc) (2025.2)\n",
            "Requirement already satisfied: tzdata>=2022.7 in /usr/local/lib/python3.11/dist-packages (from pandas<3,>=1.4.0->streamlit>=0.89.0->streamlit-webrtc) (2025.2)\n",
            "Requirement already satisfied: charset-normalizer<4,>=2 in /usr/local/lib/python3.11/dist-packages (from requests<3,>=2.27->streamlit>=0.89.0->streamlit-webrtc) (3.4.2)\n",
            "Requirement already satisfied: idna<4,>=2.5 in /usr/local/lib/python3.11/dist-packages (from requests<3,>=2.27->streamlit>=0.89.0->streamlit-webrtc) (3.10)\n",
            "Requirement already satisfied: urllib3<3,>=1.21.1 in /usr/local/lib/python3.11/dist-packages (from requests<3,>=2.27->streamlit>=0.89.0->streamlit-webrtc) (2.4.0)\n",
            "Requirement already satisfied: certifi>=2017.4.17 in /usr/local/lib/python3.11/dist-packages (from requests<3,>=2.27->streamlit>=0.89.0->streamlit-webrtc) (2025.4.26)\n",
            "Requirement already satisfied: smmap<6,>=3.0.1 in /usr/local/lib/python3.11/dist-packages (from gitdb<5,>=4.0.1->gitpython!=3.1.19,<4,>=3.0.7->streamlit>=0.89.0->streamlit-webrtc) (5.0.2)\n",
            "Requirement already satisfied: MarkupSafe>=2.0 in /usr/local/lib/python3.11/dist-packages (from jinja2->altair<6,>=4.0->streamlit>=0.89.0->streamlit-webrtc) (3.0.2)\n",
            "Requirement already satisfied: attrs>=22.2.0 in /usr/local/lib/python3.11/dist-packages (from jsonschema>=3.0->altair<6,>=4.0->streamlit>=0.89.0->streamlit-webrtc) (25.3.0)\n",
            "Requirement already satisfied: jsonschema-specifications>=2023.03.6 in /usr/local/lib/python3.11/dist-packages (from jsonschema>=3.0->altair<6,>=4.0->streamlit>=0.89.0->streamlit-webrtc) (2025.4.1)\n",
            "Requirement already satisfied: referencing>=0.28.4 in /usr/local/lib/python3.11/dist-packages (from jsonschema>=3.0->altair<6,>=4.0->streamlit>=0.89.0->streamlit-webrtc) (0.36.2)\n",
            "Requirement already satisfied: rpds-py>=0.7.1 in /usr/local/lib/python3.11/dist-packages (from jsonschema>=3.0->altair<6,>=4.0->streamlit>=0.89.0->streamlit-webrtc) (0.24.0)\n",
            "Requirement already satisfied: six>=1.5 in /usr/local/lib/python3.11/dist-packages (from python-dateutil>=2.8.2->pandas<3,>=1.4.0->streamlit>=0.89.0->streamlit-webrtc) (1.17.0)\n",
            "Downloading streamlit_webrtc-0.62.4-py3-none-any.whl (217 kB)\n",
            "\u001b[2K   \u001b[90m━━━━━━━━━━━━━━━━━━━━━━━━━━━━━━━━━━━━━━━━\u001b[0m \u001b[32m217.3/217.3 kB\u001b[0m \u001b[31m9.9 MB/s\u001b[0m eta \u001b[36m0:00:00\u001b[0m\n",
            "\u001b[?25hDownloading aioice-0.10.1-py3-none-any.whl (24 kB)\n",
            "Downloading aiortc-1.12.0-py3-none-any.whl (90 kB)\n",
            "\u001b[2K   \u001b[90m━━━━━━━━━━━━━━━━━━━━━━━━━━━━━━━━━━━━━━━━\u001b[0m \u001b[32m90.1/90.1 kB\u001b[0m \u001b[31m10.0 MB/s\u001b[0m eta \u001b[36m0:00:00\u001b[0m\n",
            "\u001b[?25hDownloading av-14.4.0-cp311-cp311-manylinux_2_17_x86_64.manylinux2014_x86_64.whl (35.3 MB)\n",
            "\u001b[2K   \u001b[90m━━━━━━━━━━━━━━━━━━━━━━━━━━━━━━━━━━━━━━━━\u001b[0m \u001b[32m35.3/35.3 MB\u001b[0m \u001b[31m64.6 MB/s\u001b[0m eta \u001b[36m0:00:00\u001b[0m\n",
            "\u001b[?25hDownloading cryptography-45.0.3-cp311-abi3-manylinux_2_34_x86_64.whl (4.5 MB)\n",
            "\u001b[2K   \u001b[90m━━━━━━━━━━━━━━━━━━━━━━━━━━━━━━━━━━━━━━━━\u001b[0m \u001b[32m4.5/4.5 MB\u001b[0m \u001b[31m116.9 MB/s\u001b[0m eta \u001b[36m0:00:00\u001b[0m\n",
            "\u001b[?25hDownloading dnspython-2.7.0-py3-none-any.whl (313 kB)\n",
            "\u001b[2K   \u001b[90m━━━━━━━━━━━━━━━━━━━━━━━━━━━━━━━━━━━━━━━━\u001b[0m \u001b[32m313.6/313.6 kB\u001b[0m \u001b[31m28.1 MB/s\u001b[0m eta \u001b[36m0:00:00\u001b[0m\n",
            "\u001b[?25hDownloading ifaddr-0.2.0-py3-none-any.whl (12 kB)\n",
            "Downloading pyee-13.0.0-py3-none-any.whl (15 kB)\n",
            "Downloading pylibsrtp-0.12.0-cp39-abi3-manylinux_2_17_x86_64.manylinux2014_x86_64.whl (2.2 MB)\n",
            "\u001b[2K   \u001b[90m━━━━━━━━━━━━━━━━━━━━━━━━━━━━━━━━━━━━━━━━\u001b[0m \u001b[32m2.2/2.2 MB\u001b[0m \u001b[31m97.7 MB/s\u001b[0m eta \u001b[36m0:00:00\u001b[0m\n",
            "\u001b[?25hDownloading pyopenssl-25.1.0-py3-none-any.whl (56 kB)\n",
            "\u001b[2K   \u001b[90m━━━━━━━━━━━━━━━━━━━━━━━━━━━━━━━━━━━━━━━━\u001b[0m \u001b[32m56.8/56.8 kB\u001b[0m \u001b[31m6.1 MB/s\u001b[0m eta \u001b[36m0:00:00\u001b[0m\n",
            "\u001b[?25hInstalling collected packages: ifaddr, pyee, dnspython, av, pylibsrtp, cryptography, aioice, pyopenssl, aiortc, streamlit-webrtc\n",
            "  Attempting uninstall: cryptography\n",
            "    Found existing installation: cryptography 43.0.3\n",
            "    Uninstalling cryptography-43.0.3:\n",
            "      Successfully uninstalled cryptography-43.0.3\n",
            "  Attempting uninstall: pyopenssl\n",
            "    Found existing installation: pyOpenSSL 24.2.1\n",
            "    Uninstalling pyOpenSSL-24.2.1:\n",
            "      Successfully uninstalled pyOpenSSL-24.2.1\n",
            "\u001b[31mERROR: pip's dependency resolver does not currently take into account all the packages that are installed. This behaviour is the source of the following dependency conflicts.\n",
            "pydrive2 1.21.3 requires cryptography<44, but you have cryptography 45.0.3 which is incompatible.\n",
            "pydrive2 1.21.3 requires pyOpenSSL<=24.2.1,>=19.1.0, but you have pyopenssl 25.1.0 which is incompatible.\u001b[0m\u001b[31m\n",
            "\u001b[0mSuccessfully installed aioice-0.10.1 aiortc-1.12.0 av-14.4.0 cryptography-45.0.3 dnspython-2.7.0 ifaddr-0.2.0 pyee-13.0.0 pylibsrtp-0.12.0 pyopenssl-25.1.0 streamlit-webrtc-0.62.4\n"
          ]
        }
      ],
      "source": [
        "!pip install streamlit-webrtc\n"
      ]
    },
    {
      "cell_type": "markdown",
      "metadata": {
        "id": "wlcVKqySkrQc"
      },
      "source": [
        "Импорт библиотек"
      ]
    },
    {
      "cell_type": "code",
      "execution_count": 7,
      "metadata": {
        "id": "HV0rSjxij6Rv"
      },
      "outputs": [],
      "source": [
        "import os\n",
        "import torch\n",
        "import torchaudio\n",
        "from torch.utils.data import Dataset, DataLoader\n",
        "import torch.nn as nn\n",
        "import torch.optim as optim\n",
        "import numpy as np\n",
        "import random\n",
        "from tqdm import tqdm\n",
        "import pickle"
      ]
    },
    {
      "cell_type": "markdown",
      "metadata": {
        "id": "gBtutCe5ktvZ"
      },
      "source": [
        "Загрузка датасета Google Speech Commands"
      ]
    },
    {
      "cell_type": "code",
      "execution_count": 9,
      "metadata": {
        "colab": {
          "base_uri": "https://localhost:8080/"
        },
        "id": "EyX4Gdy9rnAc",
        "outputId": "1d28e482-5b25-4a13-8f38-c84550ed44cf"
      },
      "outputs": [
        {
          "output_type": "stream",
          "name": "stderr",
          "text": [
            "100%|██████████| 2.26G/2.26G [00:16<00:00, 144MB/s]\n"
          ]
        }
      ],
      "source": [
        "# Выбираем только часть классов для ускорения работы\n",
        "SAMPLE_CLASSES = ['yes', 'no', 'up', 'down', 'left', 'right', 'on', 'off', 'stop', 'go']\n",
        "\n",
        "class SubsetSC(torchaudio.datasets.SPEECHCOMMANDS):\n",
        "    def __init__(self, subset: str = None):\n",
        "        super().__init__(\".\", download=True)\n",
        "        def load_list(filename):\n",
        "            filepath = os.path.join(self._path, filename)\n",
        "            with open(filepath) as f:\n",
        "                return [os.path.normpath(os.path.join(self._path, line.strip())) for line in f]\n",
        "        if subset == \"validation\":\n",
        "            self._walker = load_list(\"validation_list.txt\")\n",
        "        elif subset == \"testing\":\n",
        "            self._walker = load_list(\"testing_list.txt\")\n",
        "        elif subset == \"training\":\n",
        "            excludes = load_list(\"validation_list.txt\") + load_list(\"testing_list.txt\")\n",
        "            excludes = set(excludes)\n",
        "            self._walker = [w for w in self._walker if w not in excludes]\n",
        "\n",
        "train_set = SubsetSC(\"training\")\n",
        "val_set = SubsetSC(\"validation\")\n",
        "test_set = SubsetSC(\"testing\")"
      ]
    },
    {
      "cell_type": "code",
      "execution_count": 10,
      "metadata": {
        "colab": {
          "base_uri": "https://localhost:8080/"
        },
        "id": "QNaIvyMFkKU0",
        "outputId": "311a140a-85db-413d-b59b-30a698b3873a"
      },
      "outputs": [
        {
          "output_type": "stream",
          "name": "stderr",
          "text": [
            "Scanning dataset: 100%|██████████| 84843/84843 [04:52<00:00, 290.41it/s]\n",
            "Scanning dataset: 100%|██████████| 9981/9981 [00:43<00:00, 230.19it/s]\n",
            "Scanning dataset: 100%|██████████| 11005/11005 [00:47<00:00, 231.24it/s]"
          ]
        },
        {
          "output_type": "stream",
          "name": "stdout",
          "text": [
            "\n",
            "class distribution for train:\n",
            "down: 3134\n",
            "go: 3106\n",
            "left: 3037\n",
            "no: 3130\n",
            "off: 2970\n",
            "on: 3086\n",
            "right: 3019\n",
            "stop: 3111\n",
            "up: 2948\n",
            "yes: 3228\n",
            "unknown: 3375\n",
            "\n",
            "class distribution for validation:\n",
            "right: 363\n",
            "go: 372\n",
            "no: 406\n",
            "left: 352\n",
            "stop: 350\n",
            "up: 350\n",
            "down: 377\n",
            "yes: 397\n",
            "on: 363\n",
            "off: 373\n",
            "unknown: 375\n",
            "\n",
            "class distribution for test:\n",
            "right: 396\n",
            "go: 402\n",
            "no: 405\n",
            "left: 412\n",
            "stop: 411\n",
            "up: 425\n",
            "down: 406\n",
            "yes: 419\n",
            "on: 396\n",
            "off: 402\n",
            "unknown: 425\n"
          ]
        },
        {
          "output_type": "stream",
          "name": "stderr",
          "text": [
            "\n"
          ]
        }
      ],
      "source": [
        "import os\n",
        "import torch\n",
        "import torchaudio\n",
        "from torch.utils.data import Dataset, DataLoader\n",
        "import numpy as np\n",
        "from tqdm import tqdm\n",
        "import random\n",
        "\n",
        "# Выбранные команды и параметры для unknown классов\n",
        "SAMPLE_CLASSES = ['yes', 'no', 'up', 'down', 'left', 'right', 'on', 'off', 'stop', 'go']\n",
        "INCLUDE_UNKNOWN_FRACTION = 0.04  # Доля unknown классов для включения\n",
        "\n",
        "class SubsetSC(torchaudio.datasets.SPEECHCOMMANDS):\n",
        "    def __init__(self, subset: str = None):\n",
        "        super().__init__(\".\", download=True)\n",
        "        def load_list(filename):\n",
        "            filepath = os.path.join(self._path, filename)\n",
        "            with open(filepath) as fileobj:\n",
        "                return [os.path.normpath(os.path.join(self._path, line.strip())) for line in fileobj]\n",
        "        if subset == \"validation\":\n",
        "            self._walker = load_list(\"validation_list.txt\")\n",
        "        elif subset == \"testing\":\n",
        "            self._walker = load_list(\"testing_list.txt\")\n",
        "        elif subset == \"training\":\n",
        "            excludes = load_list(\"validation_list.txt\") + load_list(\"testing_list.txt\")\n",
        "            excludes = set(excludes)\n",
        "            self._walker = [w for w in self._walker if w not in excludes]\n",
        "# train_set = SubsetSC(\"training\")\n",
        "# val_set = SubsetSC(\"validation\")\n",
        "# test_set = SubsetSC(\"testing\")\n",
        "def filter_dataset(dataset, classes, include_unknown=False, unknown_fraction=0.2):\n",
        "    filtered = []\n",
        "    unknown_classes = set()\n",
        "    all_items = []\n",
        "\n",
        "    # Сначала собираем все элементы и определяем unknown классы\n",
        "    for waveform, sample_rate, label, *_ in tqdm(dataset, desc=\"Scanning dataset\"):\n",
        "        all_items.append((waveform, sample_rate, label))\n",
        "        if label not in classes:\n",
        "            unknown_classes.add(label)\n",
        "\n",
        "    # Преобразуем в список для детерминированного поведения\n",
        "    unknown_classes = list(unknown_classes)\n",
        "\n",
        "    # Выбираем, какие unknown классы включить\n",
        "    if include_unknown:\n",
        "        # Вычисляем сколько примеров каждого unknown класса включить\n",
        "        n_total_unknown = int(unknown_fraction * len(all_items))\n",
        "        n_per_unknown = max(1, n_total_unknown // len(unknown_classes))\n",
        "\n",
        "        # Собираем примеры для каждого unknown класса\n",
        "        unknown_examples = {}\n",
        "        for label in unknown_classes:\n",
        "            unknown_examples[label] = []\n",
        "\n",
        "        for item in all_items:\n",
        "            waveform, sample_rate, label = item\n",
        "            if label in unknown_classes:\n",
        "                unknown_examples[label].append(item)\n",
        "\n",
        "        # Выбираем случайные примеры из каждого unknown класса\n",
        "        selected_unknown = []\n",
        "        for label in unknown_classes:\n",
        "            examples = unknown_examples[label]\n",
        "            if len(examples) > n_per_unknown:\n",
        "                selected = random.sample(examples, n_per_unknown)\n",
        "            else:\n",
        "                selected = examples\n",
        "            # Меняем метку на \"unknown\"\n",
        "            for item in selected:\n",
        "                waveform, sample_rate, _ = item\n",
        "                selected_unknown.append((waveform, sample_rate, \"unknown\"))\n",
        "\n",
        "    # Теперь фильтруем основные классы\n",
        "    for item in all_items:\n",
        "        waveform, sample_rate, label = item\n",
        "        if label in classes:\n",
        "            filtered.append((waveform, sample_rate, label))\n",
        "\n",
        "    # Добавляем unknown классы, если требуется\n",
        "    if include_unknown:\n",
        "        filtered.extend(selected_unknown)\n",
        "\n",
        "    return filtered\n",
        "\n",
        "# Загружаем данные с unknown классами\n",
        "train_data = filter_dataset(train_set, SAMPLE_CLASSES, include_unknown=True, unknown_fraction=INCLUDE_UNKNOWN_FRACTION)\n",
        "val_data = filter_dataset(val_set, SAMPLE_CLASSES, include_unknown=True, unknown_fraction=INCLUDE_UNKNOWN_FRACTION)\n",
        "test_data = filter_dataset(test_set, SAMPLE_CLASSES, include_unknown=True, unknown_fraction=INCLUDE_UNKNOWN_FRACTION)\n",
        "\n",
        "# Проверяем распределение классов\n",
        "def print_class_distribution(data, name):\n",
        "    print(f\"\\nclass distribution for {name}:\")\n",
        "    counts = {}\n",
        "    for _, _, label in data:\n",
        "        counts[label] = counts.get(label, 0) + 1\n",
        "    for label, count in counts.items():\n",
        "        print(f\"{label}: {count}\")\n",
        "\n",
        "print_class_distribution(train_data, \"train\")\n",
        "print_class_distribution(val_data, \"validation\")\n",
        "print_class_distribution(test_data, \"test\")"
      ]
    },
    {
      "cell_type": "markdown",
      "metadata": {
        "id": "qSRAkRQp96hg"
      },
      "source": [
        "### Загрузка и отбор датасета Google Speech Commands\n",
        "\n",
        "В этом блоке осуществляется загрузка официального датасета [Google Speech Commands](https://huggingface.co/datasets/google/speech_commands), содержащего короткие аудиозаписи голосовых команд. Для ускорения работы выбираются только 10 целевых классов: `yes`, `no`, `up`, `down`, `left`, `right`, `on`, `off`, `stop`, `go`.\n",
        "\n",
        "Создаётся класс `SubsetSC`, который наследуется от `torchaudio.datasets.SPEECHCOMMANDS` и перегружает метод получения подмножества. В зависимости от значения `subset` загружается список путей к файлам:\n",
        "- для `training` из него исключаются валидационные и тестовые примеры,\n",
        "- для `validation` и `testing` загружаются соответствующие списки.\n",
        "\n",
        "Результатом работы являются три поднабора — `train_set`, `val_set` и `test_set`, содержащие отфильтрованные записи только из нужных классов. Это позволяет работать с компактной и сфокусированной выборкой для обучения и тестирования модели.\n"
      ]
    },
    {
      "cell_type": "markdown",
      "metadata": {
        "id": "17F49pslkwCh"
      },
      "source": [
        "Фильтрация данных (только нужные классы)"
      ]
    },
    {
      "cell_type": "code",
      "execution_count": null,
      "metadata": {
        "colab": {
          "base_uri": "https://localhost:8080/"
        },
        "id": "4DK6Re3TkRUe",
        "outputId": "8262ffc2-e43c-45b3-f1e1-778cdbee9206"
      },
      "outputs": [
        {
          "name": "stderr",
          "output_type": "stream",
          "text": [
            "100%|██████████| 84843/84843 [02:35<00:00, 545.17it/s] \n",
            "100%|██████████| 9981/9981 [00:20<00:00, 498.12it/s]\n",
            "100%|██████████| 11005/11005 [00:24<00:00, 440.84it/s]\n"
          ]
        }
      ],
      "source": [
        "# def filter_dataset(dataset, classes):\n",
        "#     filtered = []\n",
        "#     for waveform, sample_rate, label, *_ in tqdm(dataset):\n",
        "#         if label in classes:\n",
        "#             filtered.append((waveform, sample_rate, label))\n",
        "#     return filtered\n",
        "\n",
        "# train_data = filter_dataset(train_set, SAMPLE_CLASSES)\n",
        "# val_data = filter_dataset(val_set, SAMPLE_CLASSES)\n",
        "# test_data = filter_dataset(test_set, SAMPLE_CLASSES)"
      ]
    },
    {
      "cell_type": "markdown",
      "metadata": {
        "id": "88UarWAM-CR9"
      },
      "source": [
        "### Фильтрация датасета по нужным классам\n",
        "\n",
        "Этот блок фильтрует записи из загруженного датасета, оставляя только те, что относятся к заранее определённым голосовым командам (`SAMPLE_CLASSES`). Функция `filter_dataset` перебирает каждый элемент (включая аудиосигнал `waveform`, частоту дискретизации `sample_rate` и метку `label`) и добавляет его в итоговый список, если метка входит в список целевых классов. Для визуализации прогресса используется `tqdm`.\n",
        "\n",
        "Результатом являются три новых списка: `train_data`, `val_data`, `test_data` — очищенные от лишних классов и готовые для обучения, валидации и тестирования модели.\n"
      ]
    },
    {
      "cell_type": "markdown",
      "metadata": {
        "id": "oSaPwcibkwz8"
      },
      "source": [
        "Кодировка меток и препроцессинг"
      ]
    },
    {
      "cell_type": "code",
      "execution_count": 11,
      "metadata": {
        "id": "tHGtPiNGl7PZ"
      },
      "outputs": [],
      "source": [
        "# label2idx = {label: idx for idx, label in enumerate(SAMPLE_CLASSES)}\n",
        "# idx2label = {idx: label for label, idx in label2idx.items()}\n",
        "\n",
        "# def preprocess(waveform, sample_rate, label):\n",
        "#     # Перевод в моно (если вдруг стерео)\n",
        "#     waveform = waveform.mean(dim=0)\n",
        "#     # Получение мел-спектрограммы\n",
        "#     mel = torchaudio.transforms.MelSpectrogram(\n",
        "#         sample_rate=sample_rate, n_mels=64)(waveform)\n",
        "#     mel = torchaudio.transforms.AmplitudeToDB()(mel)\n",
        "#     return mel, label2idx[label]\n"
      ]
    },
    {
      "cell_type": "code",
      "execution_count": 12,
      "metadata": {
        "id": "350plKfSrnAg"
      },
      "outputs": [],
      "source": [
        "# Обновляем список классов, добавляя 'unknown'\n",
        "SAMPLE_CLASSES_WITH_UNKNOWN = ['yes', 'no', 'up', 'down', 'left', 'right', 'on', 'off', 'stop', 'go', 'unknown']\n",
        "\n",
        "# Создаем словари для преобразования меток\n",
        "label2idx = {label: idx for idx, label in enumerate(SAMPLE_CLASSES_WITH_UNKNOWN)}\n",
        "idx2label = {idx: label for label, idx in label2idx.items()}\n",
        "\n",
        "def preprocess(waveform, sample_rate, label):\n",
        "    # 1. Конвертируем в моно (если стерео)\n",
        "    if waveform.dim() > 1:\n",
        "        waveform = waveform.mean(dim=0)\n",
        "\n",
        "    # 2. Ресемплирование до 16kHz при необходимости\n",
        "    if sample_rate != 16000:\n",
        "        resampler = torchaudio.transforms.Resample(orig_freq=sample_rate, new_freq=16000)\n",
        "        waveform = resampler(waveform)\n",
        "        sample_rate = 16000\n",
        "\n",
        "    # 3. Обрезка/дополнение до фиксированной длины (1 секунда)\n",
        "    target_length = sample_rate  # 1 секунда аудио\n",
        "    if waveform.size(0) < target_length:\n",
        "        # Дополняем нулями\n",
        "        padding = target_length - waveform.size(0)\n",
        "        waveform = torch.nn.functional.pad(waveform, (0, padding))\n",
        "    elif waveform.size(0) > target_length:\n",
        "        # Случайная обрезка\n",
        "        start = torch.randint(0, waveform.size(0) - target_length, (1,)).item()\n",
        "        waveform = waveform[start:start+target_length]\n",
        "\n",
        "    # 4. Получение мел-спектрограммы\n",
        "    mel_transform = torchaudio.transforms.MelSpectrogram(\n",
        "        sample_rate=sample_rate,\n",
        "        n_mels=64,\n",
        "        n_fft=1024,\n",
        "        hop_length=256\n",
        "    )\n",
        "    mel = mel_transform(waveform)\n",
        "\n",
        "    # 5. Конвертация в dB\n",
        "    db_transform = torchaudio.transforms.AmplitudeToDB()\n",
        "    mel_db = db_transform(mel)\n",
        "\n",
        "    # 6. Нормализация\n",
        "    mel_db = (mel_db - mel_db.mean()) / (mel_db.std() + 1e-8)\n",
        "\n",
        "    # Преобразуем метку в индекс\n",
        "    # Если метка не в SAMPLE_CLASSES, считаем её 'unknown'\n",
        "    processed_label = label if label in SAMPLE_CLASSES else 'unknown'\n",
        "\n",
        "    return mel_db, label2idx[processed_label]"
      ]
    },
    {
      "cell_type": "markdown",
      "metadata": {
        "id": "QfM6QB4A-KHS"
      },
      "source": [
        "### Кодировка меток и препроцессинг аудио\n",
        "\n",
        "В этом блоке создаются два словаря: `label2idx` для преобразования текстовых меток в числовые индексы и `idx2label` — для обратного отображения.\n",
        "\n",
        "Функция `preprocess()` выполняет предварительную обработку аудио:\n",
        "- преобразует сигнал в моно (на случай, если он стерео),\n",
        "- извлекает мел-спектрограмму с помощью `torchaudio.transforms.MelSpectrogram`,\n",
        "- переводит её в шкалу децибел через `AmplitudeToDB`.\n",
        "\n",
        "Возвращаются: готовая к модели спектрограмма и числовая метка соответствующего класса.\n"
      ]
    },
    {
      "cell_type": "markdown",
      "metadata": {
        "id": "C4zC4ljPnGhT"
      },
      "source": [
        "Кастомный Dataset и DataLoader"
      ]
    },
    {
      "cell_type": "code",
      "execution_count": null,
      "metadata": {
        "id": "Zwm7Hbn5nYuk"
      },
      "outputs": [],
      "source": [
        "# import torch.nn.functional as F\n",
        "\n",
        "# def pad_collate_fn(batch):\n",
        "#     # batch = list of (mel, label_idx)\n",
        "#     mels = [item[0] for item in batch]\n",
        "#     labels = torch.tensor([item[1] for item in batch])\n",
        "#     # Определяем максимальную длину (ширину)\n",
        "#     max_len = max(mel.shape[-1] for mel in mels)\n",
        "#     # Паддим каждый mel до max_len справа нулями\n",
        "#     mels_padded = [F.pad(mel, (0, max_len - mel.shape[-1])) for mel in mels]\n",
        "#     mels_tensor = torch.stack(mels_padded)\n",
        "#     return mels_tensor, labels\n"
      ]
    },
    {
      "cell_type": "code",
      "execution_count": null,
      "metadata": {
        "id": "eBMhT356mnzB"
      },
      "outputs": [],
      "source": [
        "# class SpeechCommandsDataset(Dataset):\n",
        "#     def __init__(self, data):\n",
        "#         self.data = data\n",
        "#     def __len__(self):\n",
        "#         return len(self.data)\n",
        "#     def __getitem__(self, idx):\n",
        "#         waveform, sample_rate, label = self.data[idx]\n",
        "#         mel, label_idx = preprocess(waveform, sample_rate, label)\n",
        "#         return mel, label_idx\n",
        "\n",
        "# batch_size = 64\n",
        "# train_dataset = SpeechCommandsDataset(train_data)\n",
        "# val_dataset = SpeechCommandsDataset(val_data)\n",
        "# test_dataset = SpeechCommandsDataset(test_data)\n",
        "\n",
        "# train_loader = DataLoader(train_dataset, batch_size=batch_size, shuffle=True, drop_last=True, collate_fn=pad_collate_fn)\n",
        "# val_loader = DataLoader(val_dataset, batch_size=batch_size, drop_last=True, collate_fn=pad_collate_fn)\n",
        "# test_loader = DataLoader(test_dataset, batch_size=batch_size, drop_last=True, collate_fn=pad_collate_fn)\n",
        "\n"
      ]
    },
    {
      "cell_type": "code",
      "execution_count": 13,
      "metadata": {
        "colab": {
          "base_uri": "https://localhost:8080/"
        },
        "id": "HKOCZyaBrnAj",
        "outputId": "d6af856e-f73a-4e36-bc25-cf949afc97e3"
      },
      "outputs": [
        {
          "output_type": "stream",
          "name": "stderr",
          "text": [
            "/usr/local/lib/python3.11/dist-packages/torch/utils/data/dataloader.py:624: UserWarning: This DataLoader will create 4 worker processes in total. Our suggested max number of worker in current system is 2, which is smaller than what this DataLoader is going to create. Please be aware that excessive worker creation might get DataLoader running slow or even freeze, lower the worker number to avoid potential slowness/freeze if necessary.\n",
            "  warnings.warn(\n"
          ]
        }
      ],
      "source": [
        "import torch\n",
        "import torch.nn.functional as F\n",
        "from torch.utils.data import Dataset, DataLoader\n",
        "\n",
        "class SpeechCommandsDataset(Dataset):\n",
        "    def __init__(self, data, sample_classes):\n",
        "        self.data = data\n",
        "        self.sample_classes = sample_classes\n",
        "        # Создаем словари для преобразования меток\n",
        "        self.label2idx = {label: idx for idx, label in enumerate(sample_classes)}\n",
        "        self.idx2label = {idx: label for idx, label in enumerate(sample_classes)}\n",
        "\n",
        "    def __len__(self):\n",
        "        return len(self.data)\n",
        "\n",
        "    def __getitem__(self, idx):\n",
        "        waveform, sample_rate, label = self.data[idx]\n",
        "        mel = self.preprocess_audio(waveform, sample_rate)\n",
        "\n",
        "        # Преобразуем метку в индекс (неизвестные -> 'unknown')\n",
        "        processed_label = label if label in self.sample_classes else 'unknown'\n",
        "        label_idx = self.label2idx[processed_label]\n",
        "\n",
        "        return mel, label_idx\n",
        "\n",
        "    def preprocess_audio(self, waveform, sample_rate):\n",
        "        # 1. Конвертируем в моно\n",
        "        if waveform.dim() > 1:\n",
        "            waveform = waveform.mean(dim=0)\n",
        "\n",
        "        # 2. Ресемплирование до 16kHz\n",
        "        if sample_rate != 16000:\n",
        "            resampler = torchaudio.transforms.Resample(\n",
        "                orig_freq=sample_rate,\n",
        "                new_freq=16000\n",
        "            )\n",
        "            waveform = resampler(waveform)\n",
        "\n",
        "        # 3. Обрезка/дополнение до 1 секунды (16000 samples)\n",
        "        target_length = 16000\n",
        "        if waveform.size(0) < target_length:\n",
        "            # Дополняем нулями\n",
        "            waveform = F.pad(waveform, (0, target_length - waveform.size(0)))\n",
        "        elif waveform.size(0) > target_length:\n",
        "            # Случайная обрезка\n",
        "            start = torch.randint(0, waveform.size(0) - target_length, (1,)).item()\n",
        "            waveform = waveform[start:start+target_length]\n",
        "\n",
        "        # 4. Получение мел-спектрограммы\n",
        "        mel_transform = torchaudio.transforms.MelSpectrogram(\n",
        "            sample_rate=16000,\n",
        "            n_mels=64,\n",
        "            n_fft=1024,\n",
        "            hop_length=256\n",
        "        )\n",
        "        mel = mel_transform(waveform)\n",
        "\n",
        "        # 5. Конвертация в dB и нормализация\n",
        "        mel_db = torchaudio.transforms.AmplitudeToDB()(mel)\n",
        "        mel_db = (mel_db - mel_db.mean()) / (mel_db.std() + 1e-8)\n",
        "\n",
        "        return mel_db\n",
        "\n",
        "def pad_collate_fn(batch):\n",
        "    \"\"\"Collate function для выравнивания спектрограмм по времени\"\"\"\n",
        "    mels = [item[0] for item in batch]\n",
        "    labels = torch.tensor([item[1] for item in batch])\n",
        "\n",
        "    # Находим максимальную длину временной оси\n",
        "    max_len = max(mel.shape[-1] for mel in mels)\n",
        "\n",
        "    # Паддим каждый mel до max_len\n",
        "    mels_padded = torch.stack([\n",
        "        F.pad(mel, (0, max_len - mel.shape[-1]))\n",
        "        for mel in mels\n",
        "    ])\n",
        "\n",
        "    # Добавляем размер канала (1 для mono)\n",
        "    mels_padded = mels_padded.unsqueeze(1)\n",
        "\n",
        "    return mels_padded, labels\n",
        "\n",
        "# Параметры датасета\n",
        "SAMPLE_CLASSES_WITH_UNKNOWN = ['yes', 'no', 'up', 'down', 'left', 'right',\n",
        "                             'on', 'off', 'stop', 'go', 'unknown']\n",
        "batch_size = 64\n",
        "\n",
        "# Создаем датасеты\n",
        "train_dataset = SpeechCommandsDataset(train_data, SAMPLE_CLASSES_WITH_UNKNOWN)\n",
        "val_dataset = SpeechCommandsDataset(val_data, SAMPLE_CLASSES_WITH_UNKNOWN)\n",
        "test_dataset = SpeechCommandsDataset(test_data, SAMPLE_CLASSES_WITH_UNKNOWN)\n",
        "\n",
        "# Создаем DataLoader'ы\n",
        "train_loader = DataLoader(\n",
        "    train_dataset,\n",
        "    batch_size=batch_size,\n",
        "    shuffle=True,\n",
        "    drop_last=True,\n",
        "    collate_fn=pad_collate_fn,\n",
        "    pin_memory=True,\n",
        "    num_workers=4\n",
        ")\n",
        "\n",
        "val_loader = DataLoader(\n",
        "    val_dataset,\n",
        "    batch_size=batch_size,\n",
        "    drop_last=True,\n",
        "    collate_fn=pad_collate_fn,\n",
        "    pin_memory=True,\n",
        "    num_workers=2\n",
        ")\n",
        "\n",
        "test_loader = DataLoader(\n",
        "    test_dataset,\n",
        "    batch_size=batch_size,\n",
        "    drop_last=True,\n",
        "    collate_fn=pad_collate_fn,\n",
        "    pin_memory=True,\n",
        "    num_workers=2\n",
        ")"
      ]
    },
    {
      "cell_type": "markdown",
      "metadata": {
        "id": "rMkFkYIH-VLN"
      },
      "source": [
        "### Кастомный Dataset и DataLoader\n",
        "\n",
        "В этом блоке создаются:\n",
        "\n",
        "- **Функция `pad_collate_fn(batch)`** — применяется при формировании батчей:\n",
        "  - собирает мел-спектрограммы и метки из переданных элементов;\n",
        "  - дополняет все спектрограммы нулями до одинаковой ширины;\n",
        "  - объединяет их в батч.\n",
        "\n",
        "- **Класс `SpeechCommandsDataset`** — наследуется от `torch.utils.data.Dataset`:\n",
        "  - хранит данные (waveform, sample_rate, label);\n",
        "  - в методе `__getitem__` преобразует сигнал в мел-спектрограмму и возвращает её с индексом класса.\n",
        "\n",
        "- **DataLoader’ы** `train_loader`, `val_loader`, `test_loader` — обеспечивают итеративную подачу батчей в модель с кастомной функцией `collate_fn` и перемешиванием (shuffle) обучающих данных.\n"
      ]
    },
    {
      "cell_type": "markdown",
      "metadata": {
        "id": "TdAtPJrmnHNZ"
      },
      "source": [
        "Модель"
      ]
    },
    {
      "cell_type": "code",
      "execution_count": 14,
      "metadata": {
        "id": "RJA9OTwrmpzn",
        "colab": {
          "base_uri": "https://localhost:8080/"
        },
        "outputId": "fe8f52ab-eaed-482f-8cd9-99c0696e41fe"
      },
      "outputs": [
        {
          "output_type": "stream",
          "name": "stdout",
          "text": [
            "Using device: cuda\n",
            "SpeechCommandModel(\n",
            "  (cnn): Sequential(\n",
            "    (0): Conv2d(1, 16, kernel_size=(3, 3), stride=(1, 1), padding=(1, 1))\n",
            "    (1): BatchNorm2d(16, eps=1e-05, momentum=0.1, affine=True, track_running_stats=True)\n",
            "    (2): ReLU()\n",
            "    (3): MaxPool2d(kernel_size=2, stride=2, padding=0, dilation=1, ceil_mode=False)\n",
            "    (4): Conv2d(16, 32, kernel_size=(3, 3), stride=(1, 1), padding=(1, 1))\n",
            "    (5): BatchNorm2d(32, eps=1e-05, momentum=0.1, affine=True, track_running_stats=True)\n",
            "    (6): ReLU()\n",
            "    (7): MaxPool2d(kernel_size=2, stride=2, padding=0, dilation=1, ceil_mode=False)\n",
            "    (8): Conv2d(32, 64, kernel_size=(3, 3), stride=(1, 1), padding=(1, 1))\n",
            "    (9): BatchNorm2d(64, eps=1e-05, momentum=0.1, affine=True, track_running_stats=True)\n",
            "    (10): ReLU()\n",
            "    (11): MaxPool2d(kernel_size=2, stride=2, padding=0, dilation=1, ceil_mode=False)\n",
            "  )\n",
            "  (gap): AdaptiveAvgPool2d(output_size=(1, 1))\n",
            "  (fc): Sequential(\n",
            "    (0): Flatten(start_dim=1, end_dim=-1)\n",
            "    (1): Linear(in_features=64, out_features=128, bias=True)\n",
            "    (2): ReLU()\n",
            "    (3): Dropout(p=0.3, inplace=False)\n",
            "    (4): Linear(in_features=128, out_features=11, bias=True)\n",
            "  )\n",
            ")\n"
          ]
        }
      ],
      "source": [
        "import torch.nn as nn\n",
        "import torch\n",
        "\n",
        "class SpeechCommandModel(nn.Module):\n",
        "    def __init__(self, num_classes):\n",
        "        super().__init__()\n",
        "        # CNN блок для извлечения признаков\n",
        "        self.cnn = nn.Sequential(\n",
        "            nn.Conv2d(1, 16, kernel_size=3, stride=1, padding=1),  # [B, 16, 64, T]\n",
        "            nn.BatchNorm2d(16),\n",
        "            nn.ReLU(),\n",
        "            nn.MaxPool2d(2),  # [B, 16, 32, T//2]\n",
        "\n",
        "            nn.Conv2d(16, 32, kernel_size=3, stride=1, padding=1),  # [B, 32, 32, T//2]\n",
        "            nn.BatchNorm2d(32),\n",
        "            nn.ReLU(),\n",
        "            nn.MaxPool2d(2),  # [B, 32, 16, T//4]\n",
        "\n",
        "            nn.Conv2d(32, 64, kernel_size=3, stride=1, padding=1),  # [B, 64, 16, T//4]\n",
        "            nn.BatchNorm2d(64),\n",
        "            nn.ReLU(),\n",
        "            nn.MaxPool2d(2),  # [B, 64, 8, T//8]\n",
        "        )\n",
        "\n",
        "        # Глобальный средний пулинг\n",
        "        self.gap = nn.AdaptiveAvgPool2d((1, 1))  # [B, 64, 1, 1]\n",
        "\n",
        "        # Полносвязный классификатор\n",
        "        self.fc = nn.Sequential(\n",
        "            nn.Flatten(),\n",
        "            nn.Linear(64, 128),\n",
        "            nn.ReLU(),\n",
        "            nn.Dropout(0.3),\n",
        "            nn.Linear(128, num_classes)\n",
        "        )\n",
        "\n",
        "    def forward(self, x):\n",
        "        # Входной тензор уже должен быть формы [B, 1, 64, T]\n",
        "        x = self.cnn(x)\n",
        "        x = self.gap(x)\n",
        "        x = self.fc(x)\n",
        "        return x\n",
        "\n",
        "device = torch.device(\"cuda\" if torch.cuda.is_available() else \"cpu\")\n",
        "print(f\"Using device: {device}\")\n",
        "\n",
        "# Создаем модель с учетом класса 'unknown'\n",
        "model = SpeechCommandModel(num_classes=len(SAMPLE_CLASSES_WITH_UNKNOWN)).to(device)\n",
        "\n",
        "# Выводим архитектуру модели\n",
        "print(model)\n",
        "\n",
        "# # Проверка работы модели на тестовом батче\n",
        "# test_batch, test_labels = next(iter(train_loader))\n",
        "# test_batch = test_batch.to(device)\n",
        "# output = model(test_batch)\n",
        "# print(f\"\\nTest batch output shape: {output.shape}\")  # Должно быть [batch_size, num_classes]"
      ]
    },
    {
      "cell_type": "markdown",
      "metadata": {
        "id": "FZvHbUF2-f3u"
      },
      "source": [
        "### Архитектура нейросети `SpeechCommandModel`\n",
        "\n",
        "Модель построена на основе сверточной нейросети (CNN) и используется для классификации коротких аудиофрагментов:\n",
        "\n",
        "- **CNN-блок (`self.cnn`)**:\n",
        "  - 2 сверточных слоя с ядром 3×3 и ReLU-активацией;\n",
        "  - 2 слоя субдискретизации (MaxPooling);\n",
        "  - работает с входами формата `[batch, 1, mel, time]`.\n",
        "\n",
        "- **GAP (Global Average Pooling)** — `nn.AdaptiveAvgPool2d((1, 1))` — приводит карту признаков к фиксированному размеру независимо от входа.\n",
        "\n",
        "- **Полносвязный блок (`self.fc`)**:\n",
        "  - слой `Flatten`;\n",
        "  - линейный слой 16→64;\n",
        "  - ReLU;\n",
        "  - линейный слой 64→количество классов.\n",
        "\n",
        "- **Метод `forward(x)`**:\n",
        "  - добавляет канал (`unsqueeze`);\n",
        "  - последовательно применяет все блоки.\n",
        "\n",
        "Модель инициализируется через:\n",
        "```python\n",
        "model = SpeechCommandModel(num_classes=len(SAMPLE_CLASSES)).to(device)\n"
      ]
    },
    {
      "cell_type": "markdown",
      "metadata": {
        "id": "nhg6fXwanKmt"
      },
      "source": [
        "Тренировка модели"
      ]
    },
    {
      "cell_type": "code",
      "execution_count": 15,
      "metadata": {
        "colab": {
          "base_uri": "https://localhost:8080/"
        },
        "id": "d7DrsSj_rnAn",
        "outputId": "2dd7b5f2-08b4-4ced-9e7b-2cb19f75cd62"
      },
      "outputs": [
        {
          "output_type": "stream",
          "name": "stderr",
          "text": [
            "/usr/local/lib/python3.11/dist-packages/torch/utils/data/dataloader.py:624: UserWarning: This DataLoader will create 4 worker processes in total. Our suggested max number of worker in current system is 2, which is smaller than what this DataLoader is going to create. Please be aware that excessive worker creation might get DataLoader running slow or even freeze, lower the worker number to avoid potential slowness/freeze if necessary.\n",
            "  warnings.warn(\n"
          ]
        },
        {
          "output_type": "stream",
          "name": "stdout",
          "text": [
            "Epoch 1/15:\n",
            "Train Loss: 1.7516 | Train Acc: 0.3710\n",
            "Val Loss: 1.5703 | Val Acc: 0.4261\n",
            "--------------------------------------------------\n",
            "Epoch 2/15:\n",
            "Train Loss: 1.1198 | Train Acc: 0.6193\n",
            "Val Loss: 1.1663 | Val Acc: 0.6000\n",
            "--------------------------------------------------\n",
            "Epoch 3/15:\n",
            "Train Loss: 0.8569 | Train Acc: 0.7099\n",
            "Val Loss: 1.1886 | Val Acc: 0.6119\n",
            "--------------------------------------------------\n",
            "Epoch 4/15:\n",
            "Train Loss: 0.7316 | Train Acc: 0.7527\n",
            "Val Loss: 1.2168 | Val Acc: 0.5853\n",
            "--------------------------------------------------\n",
            "Epoch 5/15:\n",
            "Train Loss: 0.6436 | Train Acc: 0.7847\n",
            "Val Loss: 0.5908 | Val Acc: 0.8013\n",
            "--------------------------------------------------\n",
            "Epoch 6/15:\n",
            "Train Loss: 0.5771 | Train Acc: 0.8080\n",
            "Val Loss: 0.6494 | Val Acc: 0.7817\n",
            "--------------------------------------------------\n",
            "Epoch 7/15:\n",
            "Train Loss: 0.5304 | Train Acc: 0.8230\n",
            "Val Loss: 0.7239 | Val Acc: 0.7520\n",
            "--------------------------------------------------\n",
            "Epoch 8/15:\n",
            "Train Loss: 0.4934 | Train Acc: 0.8376\n",
            "Val Loss: 0.7060 | Val Acc: 0.7674\n",
            "--------------------------------------------------\n",
            "Epoch 9/15:\n",
            "Train Loss: 0.4634 | Train Acc: 0.8445\n",
            "Val Loss: 0.5141 | Val Acc: 0.8321\n",
            "--------------------------------------------------\n",
            "Epoch 10/15:\n",
            "Train Loss: 0.4350 | Train Acc: 0.8568\n",
            "Val Loss: 0.4742 | Val Acc: 0.8445\n",
            "--------------------------------------------------\n",
            "Epoch 11/15:\n",
            "Train Loss: 0.4026 | Train Acc: 0.8670\n",
            "Val Loss: 0.4462 | Val Acc: 0.8507\n",
            "--------------------------------------------------\n",
            "Epoch 12/15:\n",
            "Train Loss: 0.3926 | Train Acc: 0.8687\n",
            "Val Loss: 0.5132 | Val Acc: 0.8276\n",
            "--------------------------------------------------\n",
            "Epoch 13/15:\n",
            "Train Loss: 0.3785 | Train Acc: 0.8744\n",
            "Val Loss: 0.3897 | Val Acc: 0.8713\n",
            "--------------------------------------------------\n",
            "Epoch 14/15:\n",
            "Train Loss: 0.3598 | Train Acc: 0.8784\n",
            "Val Loss: 0.5623 | Val Acc: 0.8125\n",
            "--------------------------------------------------\n",
            "Epoch 15/15:\n",
            "Train Loss: 0.3401 | Train Acc: 0.8878\n",
            "Val Loss: 0.5849 | Val Acc: 0.7934\n",
            "--------------------------------------------------\n"
          ]
        }
      ],
      "source": [
        "# Гиперпараметры\n",
        "learning_rate = 0.001\n",
        "epochs = 15\n",
        "\n",
        "# Функция потерь и оптимизатор\n",
        "criterion = nn.CrossEntropyLoss()\n",
        "optimizer = torch.optim.Adam(model.parameters(), lr=learning_rate)\n",
        "\n",
        "# Функция для вычисления точности\n",
        "def accuracy(outputs, labels):\n",
        "    _, preds = torch.max(outputs, dim=1)\n",
        "    return torch.tensor(torch.sum(preds == labels).item() / len(preds))\n",
        "\n",
        "# Цикл обучения\n",
        "for epoch in range(epochs):\n",
        "    # Обучение\n",
        "    model.train()\n",
        "    train_loss = 0\n",
        "    train_acc = 0\n",
        "\n",
        "    for batch, labels in train_loader:\n",
        "        batch, labels = batch.to(device), labels.to(device)\n",
        "\n",
        "        optimizer.zero_grad()\n",
        "        outputs = model(batch)\n",
        "        loss = criterion(outputs, labels)\n",
        "        loss.backward()\n",
        "        optimizer.step()\n",
        "\n",
        "        train_loss += loss.item()\n",
        "        train_acc += accuracy(outputs, labels)\n",
        "\n",
        "    # Валидация\n",
        "    model.eval()\n",
        "    val_loss = 0\n",
        "    val_acc = 0\n",
        "\n",
        "    with torch.no_grad():\n",
        "        for batch, labels in val_loader:\n",
        "            batch, labels = batch.to(device), labels.to(device)\n",
        "            outputs = model(batch)\n",
        "            val_loss += criterion(outputs, labels).item()\n",
        "            val_acc += accuracy(outputs, labels)\n",
        "\n",
        "    # Вывод статистики\n",
        "    print(f\"Epoch {epoch+1}/{epochs}:\")\n",
        "    print(f\"Train Loss: {train_loss/len(train_loader):.4f} | Train Acc: {train_acc/len(train_loader):.4f}\")\n",
        "    print(f\"Val Loss: {val_loss/len(val_loader):.4f} | Val Acc: {val_acc/len(val_loader):.4f}\")\n",
        "    print(\"-\" * 50)"
      ]
    },
    {
      "cell_type": "code",
      "source": [
        "import matplotlib.pyplot as plt\n",
        "from IPython.display import clear_output\n",
        "import numpy as np\n",
        "\n",
        "# Гиперпараметры\n",
        "learning_rate = 0.001\n",
        "epochs = 15\n",
        "warmup_epochs = 3  # Количество эпох для warmup\n",
        "patience = 5       # Количество эпох для ранней остановки\n",
        "\n",
        "# Функция потерь и оптимизатор\n",
        "criterion = nn.CrossEntropyLoss()\n",
        "optimizer = torch.optim.Adam(model.parameters(), lr=learning_rate)\n",
        "\n",
        "# Списки для хранения истории метрик\n",
        "train_loss_history = []\n",
        "train_acc_history = []\n",
        "val_loss_history = []\n",
        "val_acc_history = []\n",
        "\n",
        "# Переменные для ранней остановки\n",
        "best_val_loss = np.inf\n",
        "epochs_no_improve = 0\n",
        "early_stop = False\n",
        "\n",
        "# Функция для отрисовки графиков\n",
        "def plot_metrics():\n",
        "    clear_output(wait=True)\n",
        "    plt.figure(figsize=(12, 5))\n",
        "\n",
        "    # График потерь\n",
        "    plt.subplot(1, 2, 1)\n",
        "    plt.plot(train_loss_history, label='Train Loss')\n",
        "    plt.plot(val_loss_history, label='Validation Loss')\n",
        "    plt.title('Loss over epochs')\n",
        "    plt.xlabel('Epoch')\n",
        "    plt.ylabel('Loss')\n",
        "    plt.legend()\n",
        "\n",
        "    # График точности\n",
        "    plt.subplot(1, 2, 2)\n",
        "    plt.plot(train_acc_history, label='Train Accuracy')\n",
        "    plt.plot(val_acc_history, label='Validation Accuracy')\n",
        "    plt.title('Accuracy over epochs')\n",
        "    plt.xlabel('Epoch')\n",
        "    plt.ylabel('Accuracy')\n",
        "    plt.legend()\n",
        "\n",
        "    plt.tight_layout()\n",
        "    plt.show()\n",
        "\n",
        "# Цикл обучения\n",
        "for epoch in range(epochs):\n",
        "    # Реализация warmup\n",
        "    if epoch < warmup_epochs:\n",
        "        lr = learning_rate * (epoch + 1) / warmup_epochs\n",
        "        for param_group in optimizer.param_groups:\n",
        "            param_group['lr'] = lr\n",
        "\n",
        "    # Обучение\n",
        "    model.train()\n",
        "    train_loss = 0\n",
        "    train_acc = 0\n",
        "\n",
        "    for batch, labels in train_loader:\n",
        "        batch, labels = batch.to(device), labels.to(device)\n",
        "\n",
        "        optimizer.zero_grad()\n",
        "        outputs = model(batch)\n",
        "        loss = criterion(outputs, labels)\n",
        "        loss.backward()\n",
        "        optimizer.step()\n",
        "\n",
        "        train_loss += loss.item()\n",
        "        train_acc += accuracy(outputs, labels)\n",
        "\n",
        "    # Валидация\n",
        "    model.eval()\n",
        "    val_loss = 0\n",
        "    val_acc = 0\n",
        "\n",
        "    with torch.no_grad():\n",
        "        for batch, labels in val_loader:\n",
        "            batch, labels = batch.to(device), labels.to(device)\n",
        "            outputs = model(batch)\n",
        "            val_loss += criterion(outputs, labels).item()\n",
        "            val_acc += accuracy(outputs, labels)\n",
        "\n",
        "    # Сохраняем метрики\n",
        "    train_loss_history.append(train_loss/len(train_loader))\n",
        "    train_acc_history.append((train_acc/len(train_loader)).cpu().numpy())\n",
        "    val_loss_history.append(val_loss/len(val_loader))\n",
        "    val_acc_history.append((val_acc/len(val_loader)).cpu().numpy())\n",
        "\n",
        "    # Проверка на улучшение val_loss для ранней остановки\n",
        "    if val_loss_history[-1] < best_val_loss:\n",
        "        best_val_loss = val_loss_history[-1]\n",
        "        epochs_no_improve = 0\n",
        "        # Сохраняем лучшие веса модели\n",
        "        torch.save(model.state_dict(), 'best_model.pth')\n",
        "    else:\n",
        "        epochs_no_improve += 1\n",
        "        if epochs_no_improve >= patience:\n",
        "            early_stop = True\n",
        "\n",
        "    # Вывод статистики\n",
        "    print(f\"Epoch {epoch+1}/{epochs}:\")\n",
        "    print(f\"Learning Rate: {optimizer.param_groups[0]['lr']:.6f}\")\n",
        "    print(f\"Train Loss: {train_loss_history[-1]:.4f} | Train Acc: {train_acc_history[-1]:.4f}\")\n",
        "    print(f\"Val Loss: {val_loss_history[-1]:.4f} | Val Acc: {val_acc_history[-1]:.4f}\")\n",
        "    if epochs_no_improve > 0:\n",
        "        print(f\"No improvement for {epochs_no_improve} epochs\")\n",
        "    print(\"-\" * 50)\n",
        "\n",
        "    # Отрисовка графиков\n",
        "    plot_metrics()\n",
        "\n",
        "    # Ранняя остановка\n",
        "    if early_stop:\n",
        "        print(f\"Early stopping triggered after {epoch+1} epochs!\")\n",
        "        # Загружаем лучшие веса модели\n",
        "        model.load_state_dict(torch.load('best_model.pth'))\n",
        "        break\n",
        "\n",
        "# Финальная оценка на тестовом наборе\n",
        "model.eval()\n",
        "test_loss = 0\n",
        "test_acc = 0\n",
        "\n",
        "with torch.no_grad():\n",
        "    for batch, labels in test_loader:\n",
        "        batch, labels = batch.to(device), labels.to(device)\n",
        "        outputs = model(batch)\n",
        "        test_loss += criterion(outputs, labels).item()\n",
        "        test_acc += accuracy(outputs, labels)\n",
        "\n",
        "print(\"\\nFinal Test Results:\")\n",
        "print(f\"Test Loss: {test_loss/len(test_loader):.4f}\")\n",
        "print(f\"Test Accuracy: {test_acc/len(test_loader):.4f}\")"
      ],
      "metadata": {
        "colab": {
          "base_uri": "https://localhost:8080/",
          "height": 599
        },
        "id": "mJG4eawJvndj",
        "outputId": "1203200b-cefd-405b-9a1b-5e253bcf3594"
      },
      "execution_count": 16,
      "outputs": [
        {
          "output_type": "display_data",
          "data": {
            "text/plain": [
              "<Figure size 1200x500 with 2 Axes>"
            ],
            "image/png": "[encoded data removed]"
          },
          "metadata": {}
        },
        {
          "output_type": "stream",
          "name": "stdout",
          "text": [
            "Early stopping triggered after 6 epochs!\n",
            "\n",
            "Final Test Results:\n",
            "Test Loss: 0.3555\n",
            "Test Accuracy: 0.8813\n"
          ]
        }
      ]
    },
    {
      "cell_type": "code",
      "execution_count": 17,
      "metadata": {
        "colab": {
          "base_uri": "https://localhost:8080/",
          "height": 541
        },
        "id": "LX9AIywomrb5",
        "outputId": "d03c5c08-4923-4472-d224-37a972507141"
      },
      "outputs": [
        {
          "output_type": "stream",
          "name": "stderr",
          "text": [
            "Epoch 1/10: 100%|██████████| 533/533 [00:42<00:00, 12.46it/s]\n"
          ]
        },
        {
          "output_type": "stream",
          "name": "stdout",
          "text": [
            "Epoch 1, Loss: 0.3304, Accuracy: 0.8878\n"
          ]
        },
        {
          "output_type": "stream",
          "name": "stderr",
          "text": [
            "Epoch 2/10: 100%|██████████| 533/533 [00:49<00:00, 10.81it/s]\n"
          ]
        },
        {
          "output_type": "stream",
          "name": "stdout",
          "text": [
            "Epoch 2, Loss: 0.3096, Accuracy: 0.8964\n"
          ]
        },
        {
          "output_type": "stream",
          "name": "stderr",
          "text": [
            "Epoch 3/10: 100%|██████████| 533/533 [00:42<00:00, 12.55it/s]\n"
          ]
        },
        {
          "output_type": "stream",
          "name": "stdout",
          "text": [
            "Epoch 3, Loss: 0.3083, Accuracy: 0.8962\n"
          ]
        },
        {
          "output_type": "stream",
          "name": "stderr",
          "text": [
            "Epoch 4/10: 100%|██████████| 533/533 [00:43<00:00, 12.36it/s]\n"
          ]
        },
        {
          "output_type": "stream",
          "name": "stdout",
          "text": [
            "Epoch 4, Loss: 0.2907, Accuracy: 0.9033\n"
          ]
        },
        {
          "output_type": "stream",
          "name": "stderr",
          "text": [
            "Epoch 5/10: 100%|██████████| 533/533 [00:44<00:00, 11.89it/s]\n"
          ]
        },
        {
          "output_type": "stream",
          "name": "stdout",
          "text": [
            "Epoch 5, Loss: 0.2854, Accuracy: 0.9029\n"
          ]
        },
        {
          "output_type": "stream",
          "name": "stderr",
          "text": [
            "Epoch 6/10:  71%|███████▏  | 381/533 [00:30<00:12, 12.49it/s]\n"
          ]
        },
        {
          "output_type": "error",
          "ename": "KeyboardInterrupt",
          "evalue": "",
          "traceback": [
            "\u001b[0;31m---------------------------------------------------------------------------\u001b[0m",
            "\u001b[0;31mKeyboardInterrupt\u001b[0m                         Traceback (most recent call last)",
            "\u001b[0;32m<ipython-input-17-1a5a22a226fa>\u001b[0m in \u001b[0;36m<cell line: 0>\u001b[0;34m()\u001b[0m\n\u001b[1;32m     27\u001b[0m \u001b[0;34m\u001b[0m\u001b[0m\n\u001b[1;32m     28\u001b[0m \u001b[0;31m# Использование\u001b[0m\u001b[0;34m\u001b[0m\u001b[0;34m\u001b[0m\u001b[0m\n\u001b[0;32m---> 29\u001b[0;31m \u001b[0mtrain_model\u001b[0m\u001b[0;34m(\u001b[0m\u001b[0mmodel\u001b[0m\u001b[0;34m,\u001b[0m \u001b[0mtrain_loader\u001b[0m\u001b[0;34m,\u001b[0m \u001b[0mepochs\u001b[0m\u001b[0;34m=\u001b[0m\u001b[0;36m10\u001b[0m\u001b[0;34m)\u001b[0m\u001b[0;34m\u001b[0m\u001b[0;34m\u001b[0m\u001b[0m\n\u001b[0m",
            "\u001b[0;32m<ipython-input-17-1a5a22a226fa>\u001b[0m in \u001b[0;36mtrain_model\u001b[0;34m(model, train_loader, epochs)\u001b[0m\n\u001b[1;32m      9\u001b[0m         \u001b[0mtotal\u001b[0m \u001b[0;34m=\u001b[0m \u001b[0;36m0\u001b[0m\u001b[0;34m\u001b[0m\u001b[0;34m\u001b[0m\u001b[0m\n\u001b[1;32m     10\u001b[0m \u001b[0;34m\u001b[0m\u001b[0m\n\u001b[0;32m---> 11\u001b[0;31m         \u001b[0;32mfor\u001b[0m \u001b[0mX\u001b[0m\u001b[0;34m,\u001b[0m \u001b[0my\u001b[0m \u001b[0;32min\u001b[0m \u001b[0mtqdm\u001b[0m\u001b[0;34m(\u001b[0m\u001b[0mtrain_loader\u001b[0m\u001b[0;34m,\u001b[0m \u001b[0mdesc\u001b[0m\u001b[0;34m=\u001b[0m\u001b[0;34mf'Epoch {epoch+1}/{epochs}'\u001b[0m\u001b[0;34m)\u001b[0m\u001b[0;34m:\u001b[0m\u001b[0;34m\u001b[0m\u001b[0;34m\u001b[0m\u001b[0m\n\u001b[0m\u001b[1;32m     12\u001b[0m             \u001b[0mX\u001b[0m\u001b[0;34m,\u001b[0m \u001b[0my\u001b[0m \u001b[0;34m=\u001b[0m \u001b[0mX\u001b[0m\u001b[0;34m.\u001b[0m\u001b[0mto\u001b[0m\u001b[0;34m(\u001b[0m\u001b[0mdevice\u001b[0m\u001b[0;34m)\u001b[0m\u001b[0;34m,\u001b[0m \u001b[0my\u001b[0m\u001b[0;34m.\u001b[0m\u001b[0mto\u001b[0m\u001b[0;34m(\u001b[0m\u001b[0mdevice\u001b[0m\u001b[0;34m)\u001b[0m\u001b[0;34m\u001b[0m\u001b[0;34m\u001b[0m\u001b[0m\n\u001b[1;32m     13\u001b[0m \u001b[0;34m\u001b[0m\u001b[0m\n",
            "\u001b[0;32m/usr/local/lib/python3.11/dist-packages/tqdm/std.py\u001b[0m in \u001b[0;36m__iter__\u001b[0;34m(self)\u001b[0m\n\u001b[1;32m   1179\u001b[0m \u001b[0;34m\u001b[0m\u001b[0m\n\u001b[1;32m   1180\u001b[0m         \u001b[0;32mtry\u001b[0m\u001b[0;34m:\u001b[0m\u001b[0;34m\u001b[0m\u001b[0;34m\u001b[0m\u001b[0m\n\u001b[0;32m-> 1181\u001b[0;31m             \u001b[0;32mfor\u001b[0m \u001b[0mobj\u001b[0m \u001b[0;32min\u001b[0m \u001b[0miterable\u001b[0m\u001b[0;34m:\u001b[0m\u001b[0;34m\u001b[0m\u001b[0;34m\u001b[0m\u001b[0m\n\u001b[0m\u001b[1;32m   1182\u001b[0m                 \u001b[0;32myield\u001b[0m \u001b[0mobj\u001b[0m\u001b[0;34m\u001b[0m\u001b[0;34m\u001b[0m\u001b[0m\n\u001b[1;32m   1183\u001b[0m                 \u001b[0;31m# Update and possibly print the progressbar.\u001b[0m\u001b[0;34m\u001b[0m\u001b[0;34m\u001b[0m\u001b[0m\n",
            "\u001b[0;32m/usr/local/lib/python3.11/dist-packages/torch/utils/data/dataloader.py\u001b[0m in \u001b[0;36m__next__\u001b[0;34m(self)\u001b[0m\n\u001b[1;32m    706\u001b[0m                 \u001b[0;31m# TODO(https://github.com/pytorch/pytorch/issues/76750)\u001b[0m\u001b[0;34m\u001b[0m\u001b[0;34m\u001b[0m\u001b[0m\n\u001b[1;32m    707\u001b[0m                 \u001b[0mself\u001b[0m\u001b[0;34m.\u001b[0m\u001b[0m_reset\u001b[0m\u001b[0;34m(\u001b[0m\u001b[0;34m)\u001b[0m  \u001b[0;31m# type: ignore[call-arg]\u001b[0m\u001b[0;34m\u001b[0m\u001b[0;34m\u001b[0m\u001b[0m\n\u001b[0;32m--> 708\u001b[0;31m             \u001b[0mdata\u001b[0m \u001b[0;34m=\u001b[0m \u001b[0mself\u001b[0m\u001b[0;34m.\u001b[0m\u001b[0m_next_data\u001b[0m\u001b[0;34m(\u001b[0m\u001b[0;34m)\u001b[0m\u001b[0;34m\u001b[0m\u001b[0;34m\u001b[0m\u001b[0m\n\u001b[0m\u001b[1;32m    709\u001b[0m             \u001b[0mself\u001b[0m\u001b[0;34m.\u001b[0m\u001b[0m_num_yielded\u001b[0m \u001b[0;34m+=\u001b[0m \u001b[0;36m1\u001b[0m\u001b[0;34m\u001b[0m\u001b[0;34m\u001b[0m\u001b[0m\n\u001b[1;32m    710\u001b[0m             if (\n",
            "\u001b[0;32m/usr/local/lib/python3.11/dist-packages/torch/utils/data/dataloader.py\u001b[0m in \u001b[0;36m_next_data\u001b[0;34m(self)\u001b[0m\n\u001b[1;32m   1456\u001b[0m \u001b[0;34m\u001b[0m\u001b[0m\n\u001b[1;32m   1457\u001b[0m             \u001b[0;32massert\u001b[0m \u001b[0;32mnot\u001b[0m \u001b[0mself\u001b[0m\u001b[0;34m.\u001b[0m\u001b[0m_shutdown\u001b[0m \u001b[0;32mand\u001b[0m \u001b[0mself\u001b[0m\u001b[0;34m.\u001b[0m\u001b[0m_tasks_outstanding\u001b[0m \u001b[0;34m>\u001b[0m \u001b[0;36m0\u001b[0m\u001b[0;34m\u001b[0m\u001b[0;34m\u001b[0m\u001b[0m\n\u001b[0;32m-> 1458\u001b[0;31m             \u001b[0midx\u001b[0m\u001b[0;34m,\u001b[0m \u001b[0mdata\u001b[0m \u001b[0;34m=\u001b[0m \u001b[0mself\u001b[0m\u001b[0;34m.\u001b[0m\u001b[0m_get_data\u001b[0m\u001b[0;34m(\u001b[0m\u001b[0;34m)\u001b[0m\u001b[0;34m\u001b[0m\u001b[0;34m\u001b[0m\u001b[0m\n\u001b[0m\u001b[1;32m   1459\u001b[0m             \u001b[0mself\u001b[0m\u001b[0;34m.\u001b[0m\u001b[0m_tasks_outstanding\u001b[0m \u001b[0;34m-=\u001b[0m \u001b[0;36m1\u001b[0m\u001b[0;34m\u001b[0m\u001b[0;34m\u001b[0m\u001b[0m\n\u001b[1;32m   1460\u001b[0m             \u001b[0;32mif\u001b[0m \u001b[0mself\u001b[0m\u001b[0;34m.\u001b[0m\u001b[0m_dataset_kind\u001b[0m \u001b[0;34m==\u001b[0m \u001b[0m_DatasetKind\u001b[0m\u001b[0;34m.\u001b[0m\u001b[0mIterable\u001b[0m\u001b[0;34m:\u001b[0m\u001b[0;34m\u001b[0m\u001b[0;34m\u001b[0m\u001b[0m\n",
            "\u001b[0;32m/usr/local/lib/python3.11/dist-packages/torch/utils/data/dataloader.py\u001b[0m in \u001b[0;36m_get_data\u001b[0;34m(self)\u001b[0m\n\u001b[1;32m   1408\u001b[0m         \u001b[0;32melif\u001b[0m \u001b[0mself\u001b[0m\u001b[0;34m.\u001b[0m\u001b[0m_pin_memory\u001b[0m\u001b[0;34m:\u001b[0m\u001b[0;34m\u001b[0m\u001b[0;34m\u001b[0m\u001b[0m\n\u001b[1;32m   1409\u001b[0m             \u001b[0;32mwhile\u001b[0m \u001b[0mself\u001b[0m\u001b[0;34m.\u001b[0m\u001b[0m_pin_memory_thread\u001b[0m\u001b[0;34m.\u001b[0m\u001b[0mis_alive\u001b[0m\u001b[0;34m(\u001b[0m\u001b[0;34m)\u001b[0m\u001b[0;34m:\u001b[0m\u001b[0;34m\u001b[0m\u001b[0;34m\u001b[0m\u001b[0m\n\u001b[0;32m-> 1410\u001b[0;31m                 \u001b[0msuccess\u001b[0m\u001b[0;34m,\u001b[0m \u001b[0mdata\u001b[0m \u001b[0;34m=\u001b[0m \u001b[0mself\u001b[0m\u001b[0;34m.\u001b[0m\u001b[0m_try_get_data\u001b[0m\u001b[0;34m(\u001b[0m\u001b[0;34m)\u001b[0m\u001b[0;34m\u001b[0m\u001b[0;34m\u001b[0m\u001b[0m\n\u001b[0m\u001b[1;32m   1411\u001b[0m                 \u001b[0;32mif\u001b[0m \u001b[0msuccess\u001b[0m\u001b[0;34m:\u001b[0m\u001b[0;34m\u001b[0m\u001b[0;34m\u001b[0m\u001b[0m\n\u001b[1;32m   1412\u001b[0m                     \u001b[0;32mreturn\u001b[0m \u001b[0mdata\u001b[0m\u001b[0;34m\u001b[0m\u001b[0;34m\u001b[0m\u001b[0m\n",
            "\u001b[0;32m/usr/local/lib/python3.11/dist-packages/torch/utils/data/dataloader.py\u001b[0m in \u001b[0;36m_try_get_data\u001b[0;34m(self, timeout)\u001b[0m\n\u001b[1;32m   1249\u001b[0m         \u001b[0;31m#   (bool: whether successfully get data, any: data if successful else None)\u001b[0m\u001b[0;34m\u001b[0m\u001b[0;34m\u001b[0m\u001b[0m\n\u001b[1;32m   1250\u001b[0m         \u001b[0;32mtry\u001b[0m\u001b[0;34m:\u001b[0m\u001b[0;34m\u001b[0m\u001b[0;34m\u001b[0m\u001b[0m\n\u001b[0;32m-> 1251\u001b[0;31m             \u001b[0mdata\u001b[0m \u001b[0;34m=\u001b[0m \u001b[0mself\u001b[0m\u001b[0;34m.\u001b[0m\u001b[0m_data_queue\u001b[0m\u001b[0;34m.\u001b[0m\u001b[0mget\u001b[0m\u001b[0;34m(\u001b[0m\u001b[0mtimeout\u001b[0m\u001b[0;34m=\u001b[0m\u001b[0mtimeout\u001b[0m\u001b[0;34m)\u001b[0m\u001b[0;34m\u001b[0m\u001b[0;34m\u001b[0m\u001b[0m\n\u001b[0m\u001b[1;32m   1252\u001b[0m             \u001b[0;32mreturn\u001b[0m \u001b[0;34m(\u001b[0m\u001b[0;32mTrue\u001b[0m\u001b[0;34m,\u001b[0m \u001b[0mdata\u001b[0m\u001b[0;34m)\u001b[0m\u001b[0;34m\u001b[0m\u001b[0;34m\u001b[0m\u001b[0m\n\u001b[1;32m   1253\u001b[0m         \u001b[0;32mexcept\u001b[0m \u001b[0mException\u001b[0m \u001b[0;32mas\u001b[0m \u001b[0me\u001b[0m\u001b[0;34m:\u001b[0m\u001b[0;34m\u001b[0m\u001b[0;34m\u001b[0m\u001b[0m\n",
            "\u001b[0;32m/usr/lib/python3.11/queue.py\u001b[0m in \u001b[0;36mget\u001b[0;34m(self, block, timeout)\u001b[0m\n\u001b[1;32m    178\u001b[0m                     \u001b[0;32mif\u001b[0m \u001b[0mremaining\u001b[0m \u001b[0;34m<=\u001b[0m \u001b[0;36m0.0\u001b[0m\u001b[0;34m:\u001b[0m\u001b[0;34m\u001b[0m\u001b[0;34m\u001b[0m\u001b[0m\n\u001b[1;32m    179\u001b[0m                         \u001b[0;32mraise\u001b[0m \u001b[0mEmpty\u001b[0m\u001b[0;34m\u001b[0m\u001b[0;34m\u001b[0m\u001b[0m\n\u001b[0;32m--> 180\u001b[0;31m                     \u001b[0mself\u001b[0m\u001b[0;34m.\u001b[0m\u001b[0mnot_empty\u001b[0m\u001b[0;34m.\u001b[0m\u001b[0mwait\u001b[0m\u001b[0;34m(\u001b[0m\u001b[0mremaining\u001b[0m\u001b[0;34m)\u001b[0m\u001b[0;34m\u001b[0m\u001b[0;34m\u001b[0m\u001b[0m\n\u001b[0m\u001b[1;32m    181\u001b[0m             \u001b[0mitem\u001b[0m \u001b[0;34m=\u001b[0m \u001b[0mself\u001b[0m\u001b[0;34m.\u001b[0m\u001b[0m_get\u001b[0m\u001b[0;34m(\u001b[0m\u001b[0;34m)\u001b[0m\u001b[0;34m\u001b[0m\u001b[0;34m\u001b[0m\u001b[0m\n\u001b[1;32m    182\u001b[0m             \u001b[0mself\u001b[0m\u001b[0;34m.\u001b[0m\u001b[0mnot_full\u001b[0m\u001b[0;34m.\u001b[0m\u001b[0mnotify\u001b[0m\u001b[0;34m(\u001b[0m\u001b[0;34m)\u001b[0m\u001b[0;34m\u001b[0m\u001b[0;34m\u001b[0m\u001b[0m\n",
            "\u001b[0;32m/usr/lib/python3.11/threading.py\u001b[0m in \u001b[0;36mwait\u001b[0;34m(self, timeout)\u001b[0m\n\u001b[1;32m    329\u001b[0m             \u001b[0;32melse\u001b[0m\u001b[0;34m:\u001b[0m\u001b[0;34m\u001b[0m\u001b[0;34m\u001b[0m\u001b[0m\n\u001b[1;32m    330\u001b[0m                 \u001b[0;32mif\u001b[0m \u001b[0mtimeout\u001b[0m \u001b[0;34m>\u001b[0m \u001b[0;36m0\u001b[0m\u001b[0;34m:\u001b[0m\u001b[0;34m\u001b[0m\u001b[0;34m\u001b[0m\u001b[0m\n\u001b[0;32m--> 331\u001b[0;31m                     \u001b[0mgotit\u001b[0m \u001b[0;34m=\u001b[0m \u001b[0mwaiter\u001b[0m\u001b[0;34m.\u001b[0m\u001b[0macquire\u001b[0m\u001b[0;34m(\u001b[0m\u001b[0;32mTrue\u001b[0m\u001b[0;34m,\u001b[0m \u001b[0mtimeout\u001b[0m\u001b[0;34m)\u001b[0m\u001b[0;34m\u001b[0m\u001b[0;34m\u001b[0m\u001b[0m\n\u001b[0m\u001b[1;32m    332\u001b[0m                 \u001b[0;32melse\u001b[0m\u001b[0;34m:\u001b[0m\u001b[0;34m\u001b[0m\u001b[0;34m\u001b[0m\u001b[0m\n\u001b[1;32m    333\u001b[0m                     \u001b[0mgotit\u001b[0m \u001b[0;34m=\u001b[0m \u001b[0mwaiter\u001b[0m\u001b[0;34m.\u001b[0m\u001b[0macquire\u001b[0m\u001b[0;34m(\u001b[0m\u001b[0;32mFalse\u001b[0m\u001b[0;34m)\u001b[0m\u001b[0;34m\u001b[0m\u001b[0;34m\u001b[0m\u001b[0m\n",
            "\u001b[0;31mKeyboardInterrupt\u001b[0m: "
          ]
        }
      ],
      "source": [
        "def train_model(model, train_loader, epochs=10):\n",
        "    optimizer = optim.Adam(model.parameters(), lr=0.001)\n",
        "    loss_fn = nn.CrossEntropyLoss()\n",
        "\n",
        "    for epoch in range(epochs):\n",
        "        model.train()\n",
        "        total_loss = 0\n",
        "        correct = 0\n",
        "        total = 0\n",
        "\n",
        "        for X, y in tqdm(train_loader, desc=f'Epoch {epoch+1}/{epochs}'):\n",
        "            X, y = X.to(device), y.to(device)\n",
        "\n",
        "            optimizer.zero_grad()\n",
        "            out = model(X)\n",
        "            loss = loss_fn(out, y)\n",
        "            loss.backward()\n",
        "            optimizer.step()\n",
        "\n",
        "            total_loss += loss.item()\n",
        "            _, predicted = torch.max(out.data, 1)\n",
        "            total += y.size(0)\n",
        "            correct += (predicted == y).sum().item()\n",
        "\n",
        "        # Выводим loss и accuracy\n",
        "        print(f\"Epoch {epoch+1}, Loss: {total_loss/len(train_loader):.4f}, Accuracy: {correct/total:.4f}\")\n",
        "\n",
        "# Использование\n",
        "train_model(model, train_loader, epochs=10)"
      ]
    },
    {
      "cell_type": "markdown",
      "metadata": {
        "id": "BiePGFnb-nbN"
      },
      "source": [
        "### Обучение модели `SpeechCommandModel`\n",
        "\n",
        "Для обучения модели используется функция `train_model(model, loader, epochs)`:\n",
        "\n",
        "- **Оптимизатор**: `Adam` с learning rate `0.001`.\n",
        "- **Функция потерь**: `CrossEntropyLoss`, так как задача — многоклассовая классификация.\n",
        "- **Цикл по эпохам**:\n",
        "  - перевод модели в режим обучения (`model.train()`);\n",
        "  - перебор батчей из `DataLoader`;\n",
        "  - перемещение данных и меток на устройство (`device`);\n",
        "  - обнуление градиентов;\n",
        "  - прямой проход (forward pass);\n",
        "  - вычисление ошибки и обратное распространение (backpropagation);\n",
        "  - шаг оптимизации (`optimizer.step()`).\n",
        "\n",
        "Каждая эпоха выводит среднее значение ошибки (`loss`) по всем батчам, что помогает следить за динамикой обучения.\n",
        "\n",
        "В выводе видно, что loss уменьшается от `2.32` до `1.30`, что говорит о процессе обучения модели.\n"
      ]
    },
    {
      "cell_type": "code",
      "execution_count": 18,
      "metadata": {
        "id": "2FJ7BPqdrm4B",
        "colab": {
          "base_uri": "https://localhost:8080/"
        },
        "outputId": "462d9cc8-9a04-437f-8311-2e4c7d14b73e"
      },
      "outputs": [
        {
          "output_type": "stream",
          "name": "stdout",
          "text": [
            "Модель и словарь меток сохранены!\n"
          ]
        }
      ],
      "source": [
        "import pickle\n",
        "\n",
        "# Сохраняем модель\n",
        "torch.save(model.state_dict(), \"best_model.pth\")\n",
        "# Сохраняем label2idx для декодирования классов\n",
        "with open(\"label2idx.pkl\", \"wb\") as f:\n",
        "    pickle.dump(label2idx, f)\n",
        "\n",
        "print(\"Модель и словарь меток сохранены!\")\n"
      ]
    },
    {
      "cell_type": "markdown",
      "metadata": {
        "id": "5he5EVkW-xD9"
      },
      "source": [
        "### Сохранение обученной модели и словаря меток\n",
        "\n",
        "В этом блоке сохраняются:\n",
        "\n",
        "- **Модель** `SpeechCommandModel` в виде весов (`state_dict`) в файл `speech_command_cnn.pth`.\n",
        "- **Словарь меток** `label2idx` с помощью библиотеки `pickle` в файл `label2idx.pkl`.\n",
        "\n",
        "Это необходимо для последующего использования модели без повторного обучения: веса можно загрузить, а словарь — использовать для преобразования предсказаний обратно в метки (`yes`, `no`, `stop` и т.д.).\n"
      ]
    },
    {
      "cell_type": "code",
      "execution_count": null,
      "metadata": {
        "id": "FxM8erMwuFfs"
      },
      "outputs": [],
      "source": [
        "NGROK_AUTH_TOKEN = \"2uRWQsVBhRrursScvzOfGGB5gYq_4pAq9D9vD8RKjvPfmvriY\""
      ]
    },
    {
      "cell_type": "markdown",
      "metadata": {
        "id": "XXLZF4tk_CCG"
      },
      "source": [
        "##### Настройка авторизации для ngrok\n",
        "Для туннелирования локального Streamlit-приложения в Colab используется сервис ngrok. В этом блоке задаётся персональный токен авторизации `NGROK_AUTH_TOKEN`, который можно получить на сайте [https://dashboard.ngrok.com/get-started/setup](https://dashboard.ngrok.com/get-started/setup).\n",
        "\n"
      ]
    },
    {
      "cell_type": "code",
      "execution_count": null,
      "metadata": {
        "colab": {
          "base_uri": "https://localhost:8080/"
        },
        "id": "HSC-JlEyE5DT",
        "outputId": "be7f884b-fd30-4025-fbb5-f01e30137b9c"
      },
      "outputs": [
        {
          "name": "stdout",
          "output_type": "stream",
          "text": [
            "Overwriting app.py\n"
          ]
        }
      ],
      "source": [
        "%%writefile app.py\n",
        "import streamlit as st\n",
        "import torch\n",
        "import torchaudio\n",
        "import torchaudio.transforms as T\n",
        "import torch.nn as nn\n",
        "import pickle\n",
        "import io\n",
        "import numpy as np\n",
        "import tempfile\n",
        "from pydub import AudioSegment\n",
        "\n",
        "st.set_page_config(page_title=\"Голосовые команды\", layout=\"centered\")\n",
        "st.title(\"🎤 Распознавание голосовых команд из файла\")\n",
        "\n",
        "SAMPLE_CLASSES = ['yes', 'no', 'up', 'down', 'left', 'right', 'on', 'off', 'stop', 'go']\n",
        "\n",
        "class SpeechCommandModel(nn.Module):\n",
        "    def __init__(self, num_classes):\n",
        "        super().__init__()\n",
        "        self.cnn = nn.Sequential(\n",
        "            nn.Conv2d(1, 8, kernel_size=3, stride=1, padding=1),\n",
        "            nn.ReLU(),\n",
        "            nn.MaxPool2d(2),\n",
        "            nn.Conv2d(8, 16, kernel_size=3, stride=1, padding=1),\n",
        "            nn.ReLU(),\n",
        "            nn.MaxPool2d(2),\n",
        "        )\n",
        "        self.gap = nn.AdaptiveAvgPool2d((1, 1))\n",
        "        self.fc = nn.Sequential(\n",
        "            nn.Flatten(),\n",
        "            nn.Linear(16, 64),\n",
        "            nn.ReLU(),\n",
        "            nn.Linear(64, num_classes)\n",
        "        )\n",
        "\n",
        "    def forward(self, x):\n",
        "        x = self.cnn(x)\n",
        "        x = self.gap(x)\n",
        "        x = self.fc(x)\n",
        "        return x\n",
        "\n",
        "# Загрузка модели\n",
        "device = torch.device('cpu')\n",
        "model = SpeechCommandModel(num_classes=len(SAMPLE_CLASSES))\n",
        "model.load_state_dict(torch.load(\"speech_command_cnn.pth\", map_location=device))\n",
        "model.eval()\n",
        "\n",
        "# Загрузка словаря меток\n",
        "with open(\"label2idx.pkl\", \"rb\") as f:\n",
        "    label2idx = pickle.load(f)\n",
        "idx2label = {v: k for k, v in label2idx.items()}\n",
        "\n",
        "st.markdown(\"\"\"\n",
        "#### Инструкция:\n",
        "1. Запишите команду через [online-voice-recorder.com/ru](https://online-voice-recorder.com/ru) или любое другое средство\n",
        "2. Сохраните как `.wav` или `.mp3` файл\n",
        "3. Загрузите его ниже — система сама приведёт формат к нужному\n",
        "\"\"\")\n",
        "\n",
        "uploaded_file = st.file_uploader(\"Загрузите аудиофайл (wav/mp3)\", type=[\"wav\", \"mp3\"])\n",
        "if uploaded_file is not None:\n",
        "    st.audio(uploaded_file)\n",
        "\n",
        "    try:\n",
        "        # Сохраняем во временный файл\n",
        "        with tempfile.NamedTemporaryFile(delete=False, suffix=\".wav\") as tmp_wav:\n",
        "            if uploaded_file.name.endswith(\".mp3\"):\n",
        "                sound = AudioSegment.from_file(uploaded_file, format=\"mp3\")\n",
        "                sound = sound.set_frame_rate(16000).set_channels(1)\n",
        "                sound.export(tmp_wav.name, format=\"wav\")\n",
        "            else:\n",
        "                tmp_wav.write(uploaded_file.read())\n",
        "\n",
        "            waveform, sr = torchaudio.load(tmp_wav.name)\n",
        "\n",
        "        # Моно\n",
        "        if waveform.shape[0] > 1:\n",
        "            waveform = waveform.mean(dim=0, keepdim=True)\n",
        "\n",
        "        # Приведение к 16 кГц\n",
        "        if sr != 16000:\n",
        "            resampler = T.Resample(sr, 16000)\n",
        "            waveform = resampler(waveform)\n",
        "            sr = 16000\n",
        "\n",
        "        # Приведение к 1 секунде\n",
        "        if waveform.shape[1] < 16000:\n",
        "            pad_len = 16000 - waveform.shape[1]\n",
        "            waveform = torch.nn.functional.pad(waveform, (0, pad_len))\n",
        "        else:\n",
        "            waveform = waveform[:, :16000]\n",
        "\n",
        "        # Спектрограмма\n",
        "        mel = T.MelSpectrogram(sr, n_mels=64)(waveform)\n",
        "        mel = T.AmplitudeToDB()(mel)\n",
        "        mel = mel.unsqueeze(0)\n",
        "        mel = torch.nn.functional.pad(mel, (0, max(0, 128 - mel.shape[-1])))\n",
        "        mel = mel[:, :, :, :128]\n",
        "\n",
        "        # Предсказание\n",
        "        out = model(mel)\n",
        "        pred = out.argmax(dim=1).item()\n",
        "        command = idx2label.get(pred, \"Неизвестно\")\n",
        "\n",
        "        st.success(f\"✅ Распознанная команда: **{command}**\")\n",
        "\n",
        "    except Exception as e:\n",
        "        st.error(f\"❌ Ошибка при обработке: {e}\")\n"
      ]
    },
    {
      "cell_type": "markdown",
      "metadata": {
        "id": "83hF-DMuCCF8"
      },
      "source": [
        "### Streamlit-приложение для распознавания голосовых команд\n",
        "\n",
        "Этот блок реализует полноценное интерактивное веб-приложение с помощью библиотеки `Streamlit`, которое позволяет пользователю загружать аудиофайлы в формате `.wav` и распознавать голосовые команды на основе предварительно обученной модели.  \n",
        "\n",
        "#### Ключевые компоненты:\n",
        "- **Инициализация интерфейса:** через `st.set_page_config` и `st.title` задаются параметры страницы и заголовок.\n",
        "- **Модель `SpeechCommandModel`:** сверточная нейросеть (CNN), обученная распознавать команды из ограниченного списка (`yes`, `no`, `left`, `right` и т.д.).\n",
        "- **Загрузка весов модели:** используется сохранённый файл `speech_command_cnn.pth` и словарь меток `label2idx.pkl`.\n",
        "- **Инструкция пользователю:** поясняет, как записать и загрузить аудио.\n",
        "- **Обработка аудиофайла:**\n",
        "  - преобразование в моно,\n",
        "  - ресемплирование до 16 кГц,\n",
        "  - обрезка или дополнение до 1 секунды (16000 сэмплов),\n",
        "  - построение мел-спектрограммы и её нормализация.\n",
        "- **Предсказание:** вход подается в модель, и отображается наиболее вероятная команда.\n",
        "- **Обработка ошибок:** реализован `try-except`, чтобы приложение не падало при загрузке некорректных файлов.\n",
        "\n",
        "> ⚠️ Важно: для корректной работы модель должна быть обучена на аудио с частотой 16 кГц и продолжительностью 1 секунда.\n"
      ]
    },
    {
      "cell_type": "code",
      "execution_count": null,
      "metadata": {
        "colab": {
          "base_uri": "https://localhost:8080/"
        },
        "id": "2G8OwpRtuQ7s",
        "outputId": "31229098-3a6d-4ee8-e74d-fa49adfdc819"
      },
      "outputs": [
        {
          "name": "stdout",
          "output_type": "stream",
          "text": [
            "Streamlit URL: NgrokTunnel: \"https://296e-34-125-33-130.ngrok-free.app\" -> \"http://localhost:8501\"\n",
            "\n",
            "Collecting usage statistics. To deactivate, set browser.gatherUsageStats to false.\n",
            "\u001b[0m\n",
            "\u001b[0m\n",
            "\u001b[34m\u001b[1m  You can now view your Streamlit app in your browser.\u001b[0m\n",
            "\u001b[0m\n",
            "\u001b[34m  Local URL: \u001b[0m\u001b[1mhttp://localhost:8501\u001b[0m\n",
            "\u001b[34m  Network URL: \u001b[0m\u001b[1mhttp://172.28.0.12:8501\u001b[0m\n",
            "\u001b[34m  External URL: \u001b[0m\u001b[1mhttp://34.125.33.130:8501\u001b[0m\n",
            "\u001b[0m\n",
            "2025-05-25 15:33:46.777 Examining the path of torch.classes raised:\n",
            "Traceback (most recent call last):\n",
            "  File \"/usr/local/lib/python3.11/dist-packages/streamlit/web/bootstrap.py\", line 347, in run\n",
            "    if asyncio.get_running_loop().is_running():\n",
            "       ^^^^^^^^^^^^^^^^^^^^^^^^^^\n",
            "RuntimeError: no running event loop\n",
            "\n",
            "During handling of the above exception, another exception occurred:\n",
            "\n",
            "Traceback (most recent call last):\n",
            "  File \"/usr/local/lib/python3.11/dist-packages/streamlit/watcher/local_sources_watcher.py\", line 217, in get_module_paths\n",
            "    potential_paths = extract_paths(module)\n",
            "                      ^^^^^^^^^^^^^^^^^^^^^\n",
            "  File \"/usr/local/lib/python3.11/dist-packages/streamlit/watcher/local_sources_watcher.py\", line 210, in <lambda>\n",
            "    lambda m: list(m.__path__._path),\n",
            "                   ^^^^^^^^^^^^^^^^\n",
            "  File \"/usr/local/lib/python3.11/dist-packages/torch/_classes.py\", line 13, in __getattr__\n",
            "    proxy = torch._C._get_custom_class_python_wrapper(self.name, attr)\n",
            "            ^^^^^^^^^^^^^^^^^^^^^^^^^^^^^^^^^^^^^^^^^^^^^^^^^^^^^^^^^^\n",
            "RuntimeError: Tried to instantiate class '__path__._path', but it does not exist! Ensure that it is registered via torch::class_\n",
            "/usr/local/lib/python3.11/dist-packages/streamlit/watcher/local_sources_watcher.py:210: UserWarning: Torchaudio's I/O functions now support par-call bakcend dispatch. Importing backend implementation directly is no longer guaranteed to work. Please use `backend` keyword with load/save/info function, instead of calling the udnerlying implementation directly.\n",
            "  lambda m: list(m.__path__._path),\n",
            "2025-05-25 15:37:15.915 Examining the path of torch.classes raised:\n",
            "Traceback (most recent call last):\n",
            "  File \"/usr/local/lib/python3.11/dist-packages/streamlit/web/bootstrap.py\", line 347, in run\n",
            "    if asyncio.get_running_loop().is_running():\n",
            "       ^^^^^^^^^^^^^^^^^^^^^^^^^^\n",
            "RuntimeError: no running event loop\n",
            "\n",
            "During handling of the above exception, another exception occurred:\n",
            "\n",
            "Traceback (most recent call last):\n",
            "  File \"/usr/local/lib/python3.11/dist-packages/streamlit/watcher/local_sources_watcher.py\", line 217, in get_module_paths\n",
            "    potential_paths = extract_paths(module)\n",
            "                      ^^^^^^^^^^^^^^^^^^^^^\n",
            "  File \"/usr/local/lib/python3.11/dist-packages/streamlit/watcher/local_sources_watcher.py\", line 210, in <lambda>\n",
            "    lambda m: list(m.__path__._path),\n",
            "                   ^^^^^^^^^^^^^^^^\n",
            "  File \"/usr/local/lib/python3.11/dist-packages/torch/_classes.py\", line 13, in __getattr__\n",
            "    proxy = torch._C._get_custom_class_python_wrapper(self.name, attr)\n",
            "            ^^^^^^^^^^^^^^^^^^^^^^^^^^^^^^^^^^^^^^^^^^^^^^^^^^^^^^^^^^\n",
            "RuntimeError: Tried to instantiate class '__path__._path', but it does not exist! Ensure that it is registered via torch::class_\n",
            "/usr/local/lib/python3.11/dist-packages/streamlit/watcher/local_sources_watcher.py:210: UserWarning: Torchaudio's I/O functions now support par-call bakcend dispatch. Importing backend implementation directly is no longer guaranteed to work. Please use `backend` keyword with load/save/info function, instead of calling the udnerlying implementation directly.\n",
            "  lambda m: list(m.__path__._path),\n",
            "2025-05-25 15:43:34.696 Examining the path of torch.classes raised:\n",
            "Traceback (most recent call last):\n",
            "  File \"/usr/local/lib/python3.11/dist-packages/streamlit/web/bootstrap.py\", line 347, in run\n",
            "    if asyncio.get_running_loop().is_running():\n",
            "       ^^^^^^^^^^^^^^^^^^^^^^^^^^\n",
            "RuntimeError: no running event loop\n",
            "\n",
            "During handling of the above exception, another exception occurred:\n",
            "\n",
            "Traceback (most recent call last):\n",
            "  File \"/usr/local/lib/python3.11/dist-packages/streamlit/watcher/local_sources_watcher.py\", line 217, in get_module_paths\n",
            "    potential_paths = extract_paths(module)\n",
            "                      ^^^^^^^^^^^^^^^^^^^^^\n",
            "  File \"/usr/local/lib/python3.11/dist-packages/streamlit/watcher/local_sources_watcher.py\", line 210, in <lambda>\n",
            "    lambda m: list(m.__path__._path),\n",
            "                   ^^^^^^^^^^^^^^^^\n",
            "  File \"/usr/local/lib/python3.11/dist-packages/torch/_classes.py\", line 13, in __getattr__\n",
            "    proxy = torch._C._get_custom_class_python_wrapper(self.name, attr)\n",
            "            ^^^^^^^^^^^^^^^^^^^^^^^^^^^^^^^^^^^^^^^^^^^^^^^^^^^^^^^^^^\n",
            "RuntimeError: Tried to instantiate class '__path__._path', but it does not exist! Ensure that it is registered via torch::class_\n",
            "/usr/local/lib/python3.11/dist-packages/streamlit/watcher/local_sources_watcher.py:210: UserWarning: Torchaudio's I/O functions now support par-call bakcend dispatch. Importing backend implementation directly is no longer guaranteed to work. Please use `backend` keyword with load/save/info function, instead of calling the udnerlying implementation directly.\n",
            "  lambda m: list(m.__path__._path),\n",
            "2025-05-25 15:44:12.183 Examining the path of torch.classes raised:\n",
            "Traceback (most recent call last):\n",
            "  File \"/usr/local/lib/python3.11/dist-packages/streamlit/web/bootstrap.py\", line 347, in run\n",
            "    if asyncio.get_running_loop().is_running():\n",
            "       ^^^^^^^^^^^^^^^^^^^^^^^^^^\n",
            "RuntimeError: no running event loop\n",
            "\n",
            "During handling of the above exception, another exception occurred:\n",
            "\n",
            "Traceback (most recent call last):\n",
            "  File \"/usr/local/lib/python3.11/dist-packages/streamlit/watcher/local_sources_watcher.py\", line 217, in get_module_paths\n",
            "    potential_paths = extract_paths(module)\n",
            "                      ^^^^^^^^^^^^^^^^^^^^^\n",
            "  File \"/usr/local/lib/python3.11/dist-packages/streamlit/watcher/local_sources_watcher.py\", line 210, in <lambda>\n",
            "    lambda m: list(m.__path__._path),\n",
            "                   ^^^^^^^^^^^^^^^^\n",
            "  File \"/usr/local/lib/python3.11/dist-packages/torch/_classes.py\", line 13, in __getattr__\n",
            "    proxy = torch._C._get_custom_class_python_wrapper(self.name, attr)\n",
            "            ^^^^^^^^^^^^^^^^^^^^^^^^^^^^^^^^^^^^^^^^^^^^^^^^^^^^^^^^^^\n",
            "RuntimeError: Tried to instantiate class '__path__._path', but it does not exist! Ensure that it is registered via torch::class_\n",
            "2025-05-25 15:45:55.274 Examining the path of torch.classes raised:\n",
            "Traceback (most recent call last):\n",
            "  File \"/usr/local/lib/python3.11/dist-packages/streamlit/web/bootstrap.py\", line 347, in run\n",
            "    if asyncio.get_running_loop().is_running():\n",
            "       ^^^^^^^^^^^^^^^^^^^^^^^^^^\n",
            "RuntimeError: no running event loop\n",
            "\n",
            "During handling of the above exception, another exception occurred:\n",
            "\n",
            "Traceback (most recent call last):\n",
            "  File \"/usr/local/lib/python3.11/dist-packages/streamlit/watcher/local_sources_watcher.py\", line 217, in get_module_paths\n",
            "    potential_paths = extract_paths(module)\n",
            "                      ^^^^^^^^^^^^^^^^^^^^^\n",
            "  File \"/usr/local/lib/python3.11/dist-packages/streamlit/watcher/local_sources_watcher.py\", line 210, in <lambda>\n",
            "    lambda m: list(m.__path__._path),\n",
            "                   ^^^^^^^^^^^^^^^^\n",
            "  File \"/usr/local/lib/python3.11/dist-packages/torch/_classes.py\", line 13, in __getattr__\n",
            "    proxy = torch._C._get_custom_class_python_wrapper(self.name, attr)\n",
            "            ^^^^^^^^^^^^^^^^^^^^^^^^^^^^^^^^^^^^^^^^^^^^^^^^^^^^^^^^^^\n",
            "RuntimeError: Tried to instantiate class '__path__._path', but it does not exist! Ensure that it is registered via torch::class_\n",
            "/usr/local/lib/python3.11/dist-packages/streamlit/watcher/local_sources_watcher.py:210: UserWarning: Torchaudio's I/O functions now support par-call bakcend dispatch. Importing backend implementation directly is no longer guaranteed to work. Please use `backend` keyword with load/save/info function, instead of calling the udnerlying implementation directly.\n",
            "  lambda m: list(m.__path__._path),\n",
            "2025-05-25 15:46:05.533 Examining the path of torch.classes raised:\n",
            "Traceback (most recent call last):\n",
            "  File \"/usr/local/lib/python3.11/dist-packages/streamlit/web/bootstrap.py\", line 347, in run\n",
            "    if asyncio.get_running_loop().is_running():\n",
            "       ^^^^^^^^^^^^^^^^^^^^^^^^^^\n",
            "RuntimeError: no running event loop\n",
            "\n",
            "During handling of the above exception, another exception occurred:\n",
            "\n",
            "Traceback (most recent call last):\n",
            "  File \"/usr/local/lib/python3.11/dist-packages/streamlit/watcher/local_sources_watcher.py\", line 217, in get_module_paths\n",
            "    potential_paths = extract_paths(module)\n",
            "                      ^^^^^^^^^^^^^^^^^^^^^\n",
            "  File \"/usr/local/lib/python3.11/dist-packages/streamlit/watcher/local_sources_watcher.py\", line 210, in <lambda>\n",
            "    lambda m: list(m.__path__._path),\n",
            "                   ^^^^^^^^^^^^^^^^\n",
            "  File \"/usr/local/lib/python3.11/dist-packages/torch/_classes.py\", line 13, in __getattr__\n",
            "    proxy = torch._C._get_custom_class_python_wrapper(self.name, attr)\n",
            "            ^^^^^^^^^^^^^^^^^^^^^^^^^^^^^^^^^^^^^^^^^^^^^^^^^^^^^^^^^^\n",
            "RuntimeError: Tried to instantiate class '__path__._path', but it does not exist! Ensure that it is registered via torch::class_\n"
          ]
        }
      ],
      "source": [
        "from pyngrok import ngrok\n",
        "\n",
        "# Авторизация ngrok\n",
        "ngrok.set_auth_token(NGROK_AUTH_TOKEN)\n",
        "\n",
        "# Проброс порта 8501 для Streamlit\n",
        "public_url = ngrok.connect(8501)\n",
        "print('Streamlit URL:', public_url)\n",
        "\n",
        "# Запуск Streamlit (это важно делать с !)\n",
        "!streamlit run app.py & sleep 5\n"
      ]
    },
    {
      "cell_type": "markdown",
      "metadata": {
        "id": "gLY5HxgxCQBF"
      },
      "source": [
        "### Запуск Streamlit-приложения в Google Colab через Ngrok\n",
        "\n",
        "Данный блок обеспечивает запуск и публичный доступ к веб-приложению `Streamlit`, развёрнутому в среде Google Colab, с помощью библиотеки `pyngrok`.\n",
        "\n",
        "#### Этапы работы:\n",
        "1. **Импорт модуля `ngrok`** — используется для проброса порта и создания публичного URL.\n",
        "2. **Авторизация:** с помощью `ngrok.set_auth_token()` осуществляется подключение к аккаунту Ngrok, что необходимо для стабильной работы.\n",
        "3. **Проброс порта 8501:** запускается туннель к стандартному порту Streamlit (8501), и в переменную `public_url` сохраняется внешняя ссылка для доступа.\n",
        "4. **Запуск Streamlit:** команда `!streamlit run app.py & sleep 5` запускает приложение и даёт системе время инициализироваться.\n",
        "\n",
        "> ✅ После выполнения блока в консоли появится активная ссылка, по которой можно открыть Streamlit-интерфейс прямо из браузера.\n"
      ]
    }
  ],
  "metadata": {
    "colab": {
      "provenance": [],
      "gpuType": "T4"
    },
    "kernelspec": {
      "display_name": "Python 3",
      "name": "python3"
    },
    "language_info": {
      "codemirror_mode": {
        "name": "ipython",
        "version": 3
      },
      "file_extension": ".py",
      "mimetype": "text/x-python",
      "name": "python",
      "nbconvert_exporter": "python",
      "pygments_lexer": "ipython3",
      "version": "3.12.4"
    },
    "accelerator": "GPU"
  },
  "nbformat": 4,
  "nbformat_minor": 0
}