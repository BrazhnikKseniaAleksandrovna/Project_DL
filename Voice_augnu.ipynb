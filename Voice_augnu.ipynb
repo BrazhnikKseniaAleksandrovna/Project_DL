{
  "cells": [
    {
      "cell_type": "markdown",
      "metadata": {
        "id": "9BsPhYlrknjl"
      },
      "source": [
        "Установка зависимостей"
      ]
    },
    {
      "cell_type": "code",
      "execution_count": 1,
      "metadata": {
        "colab": {
          "base_uri": "https://localhost:8080/"
        },
        "id": "SwcjmjV0j38U",
        "outputId": "aa5f22c8-55d0-492f-b428-00c37f8c2b54"
      },
      "outputs": [
        {
          "output_type": "stream",
          "name": "stdout",
          "text": [
            "Requirement already satisfied: torch in /usr/local/lib/python3.11/dist-packages (2.6.0+cu124)\n",
            "Requirement already satisfied: torchaudio in /usr/local/lib/python3.11/dist-packages (2.6.0+cu124)\n",
            "Requirement already satisfied: librosa in /usr/local/lib/python3.11/dist-packages (0.11.0)\n",
            "Requirement already satisfied: tqdm in /usr/local/lib/python3.11/dist-packages (4.67.1)\n",
            "Collecting streamlit\n",
            "  Downloading streamlit-1.45.1-py3-none-any.whl.metadata (8.9 kB)\n",
            "Requirement already satisfied: filelock in /usr/local/lib/python3.11/dist-packages (from torch) (3.18.0)\n",
            "Requirement already satisfied: typing-extensions>=4.10.0 in /usr/local/lib/python3.11/dist-packages (from torch) (4.13.2)\n",
            "Requirement already satisfied: networkx in /usr/local/lib/python3.11/dist-packages (from torch) (3.4.2)\n",
            "Requirement already satisfied: jinja2 in /usr/local/lib/python3.11/dist-packages (from torch) (3.1.6)\n",
            "Requirement already satisfied: fsspec in /usr/local/lib/python3.11/dist-packages (from torch) (2025.3.2)\n",
            "Collecting nvidia-cuda-nvrtc-cu12==12.4.127 (from torch)\n",
            "  Downloading nvidia_cuda_nvrtc_cu12-12.4.127-py3-none-manylinux2014_x86_64.whl.metadata (1.5 kB)\n",
            "Collecting nvidia-cuda-runtime-cu12==12.4.127 (from torch)\n",
            "  Downloading nvidia_cuda_runtime_cu12-12.4.127-py3-none-manylinux2014_x86_64.whl.metadata (1.5 kB)\n",
            "Collecting nvidia-cuda-cupti-cu12==12.4.127 (from torch)\n",
            "  Downloading nvidia_cuda_cupti_cu12-12.4.127-py3-none-manylinux2014_x86_64.whl.metadata (1.6 kB)\n",
            "Collecting nvidia-cudnn-cu12==9.1.0.70 (from torch)\n",
            "  Downloading nvidia_cudnn_cu12-9.1.0.70-py3-none-manylinux2014_x86_64.whl.metadata (1.6 kB)\n",
            "Collecting nvidia-cublas-cu12==12.4.5.8 (from torch)\n",
            "  Downloading nvidia_cublas_cu12-12.4.5.8-py3-none-manylinux2014_x86_64.whl.metadata (1.5 kB)\n",
            "Collecting nvidia-cufft-cu12==11.2.1.3 (from torch)\n",
            "  Downloading nvidia_cufft_cu12-11.2.1.3-py3-none-manylinux2014_x86_64.whl.metadata (1.5 kB)\n",
            "Collecting nvidia-curand-cu12==10.3.5.147 (from torch)\n",
            "  Downloading nvidia_curand_cu12-10.3.5.147-py3-none-manylinux2014_x86_64.whl.metadata (1.5 kB)\n",
            "Collecting nvidia-cusolver-cu12==11.6.1.9 (from torch)\n",
            "  Downloading nvidia_cusolver_cu12-11.6.1.9-py3-none-manylinux2014_x86_64.whl.metadata (1.6 kB)\n",
            "Collecting nvidia-cusparse-cu12==12.3.1.170 (from torch)\n",
            "  Downloading nvidia_cusparse_cu12-12.3.1.170-py3-none-manylinux2014_x86_64.whl.metadata (1.6 kB)\n",
            "Requirement already satisfied: nvidia-cusparselt-cu12==0.6.2 in /usr/local/lib/python3.11/dist-packages (from torch) (0.6.2)\n",
            "Requirement already satisfied: nvidia-nccl-cu12==2.21.5 in /usr/local/lib/python3.11/dist-packages (from torch) (2.21.5)\n",
            "Requirement already satisfied: nvidia-nvtx-cu12==12.4.127 in /usr/local/lib/python3.11/dist-packages (from torch) (12.4.127)\n",
            "Collecting nvidia-nvjitlink-cu12==12.4.127 (from torch)\n",
            "  Downloading nvidia_nvjitlink_cu12-12.4.127-py3-none-manylinux2014_x86_64.whl.metadata (1.5 kB)\n",
            "Requirement already satisfied: triton==3.2.0 in /usr/local/lib/python3.11/dist-packages (from torch) (3.2.0)\n",
            "Requirement already satisfied: sympy==1.13.1 in /usr/local/lib/python3.11/dist-packages (from torch) (1.13.1)\n",
            "Requirement already satisfied: mpmath<1.4,>=1.1.0 in /usr/local/lib/python3.11/dist-packages (from sympy==1.13.1->torch) (1.3.0)\n",
            "Requirement already satisfied: audioread>=2.1.9 in /usr/local/lib/python3.11/dist-packages (from librosa) (3.0.1)\n",
            "Requirement already satisfied: numba>=0.51.0 in /usr/local/lib/python3.11/dist-packages (from librosa) (0.60.0)\n",
            "Requirement already satisfied: numpy>=1.22.3 in /usr/local/lib/python3.11/dist-packages (from librosa) (2.0.2)\n",
            "Requirement already satisfied: scipy>=1.6.0 in /usr/local/lib/python3.11/dist-packages (from librosa) (1.15.3)\n",
            "Requirement already satisfied: scikit-learn>=1.1.0 in /usr/local/lib/python3.11/dist-packages (from librosa) (1.6.1)\n",
            "Requirement already satisfied: joblib>=1.0 in /usr/local/lib/python3.11/dist-packages (from librosa) (1.5.0)\n",
            "Requirement already satisfied: decorator>=4.3.0 in /usr/local/lib/python3.11/dist-packages (from librosa) (4.4.2)\n",
            "Requirement already satisfied: soundfile>=0.12.1 in /usr/local/lib/python3.11/dist-packages (from librosa) (0.13.1)\n",
            "Requirement already satisfied: pooch>=1.1 in /usr/local/lib/python3.11/dist-packages (from librosa) (1.8.2)\n",
            "Requirement already satisfied: soxr>=0.3.2 in /usr/local/lib/python3.11/dist-packages (from librosa) (0.5.0.post1)\n",
            "Requirement already satisfied: lazy_loader>=0.1 in /usr/local/lib/python3.11/dist-packages (from librosa) (0.4)\n",
            "Requirement already satisfied: msgpack>=1.0 in /usr/local/lib/python3.11/dist-packages (from librosa) (1.1.0)\n",
            "Requirement already satisfied: altair<6,>=4.0 in /usr/local/lib/python3.11/dist-packages (from streamlit) (5.5.0)\n",
            "Requirement already satisfied: blinker<2,>=1.5.0 in /usr/local/lib/python3.11/dist-packages (from streamlit) (1.9.0)\n",
            "Requirement already satisfied: cachetools<6,>=4.0 in /usr/local/lib/python3.11/dist-packages (from streamlit) (5.5.2)\n",
            "Requirement already satisfied: click<9,>=7.0 in /usr/local/lib/python3.11/dist-packages (from streamlit) (8.2.0)\n",
            "Requirement already satisfied: packaging<25,>=20 in /usr/local/lib/python3.11/dist-packages (from streamlit) (24.2)\n",
            "Requirement already satisfied: pandas<3,>=1.4.0 in /usr/local/lib/python3.11/dist-packages (from streamlit) (2.2.2)\n",
            "Requirement already satisfied: pillow<12,>=7.1.0 in /usr/local/lib/python3.11/dist-packages (from streamlit) (11.2.1)\n",
            "Requirement already satisfied: protobuf<7,>=3.20 in /usr/local/lib/python3.11/dist-packages (from streamlit) (5.29.4)\n",
            "Requirement already satisfied: pyarrow>=7.0 in /usr/local/lib/python3.11/dist-packages (from streamlit) (18.1.0)\n",
            "Requirement already satisfied: requests<3,>=2.27 in /usr/local/lib/python3.11/dist-packages (from streamlit) (2.32.3)\n",
            "Requirement already satisfied: tenacity<10,>=8.1.0 in /usr/local/lib/python3.11/dist-packages (from streamlit) (9.1.2)\n",
            "Requirement already satisfied: toml<2,>=0.10.1 in /usr/local/lib/python3.11/dist-packages (from streamlit) (0.10.2)\n",
            "Collecting watchdog<7,>=2.1.5 (from streamlit)\n",
            "  Downloading watchdog-6.0.0-py3-none-manylinux2014_x86_64.whl.metadata (44 kB)\n",
            "\u001b[2K     \u001b[90m━━━━━━━━━━━━━━━━━━━━━━━━━━━━━━━━━━━━━━━━\u001b[0m \u001b[32m44.3/44.3 kB\u001b[0m \u001b[31m1.7 MB/s\u001b[0m eta \u001b[36m0:00:00\u001b[0m\n",
            "\u001b[?25hRequirement already satisfied: gitpython!=3.1.19,<4,>=3.0.7 in /usr/local/lib/python3.11/dist-packages (from streamlit) (3.1.44)\n",
            "Collecting pydeck<1,>=0.8.0b4 (from streamlit)\n",
            "  Downloading pydeck-0.9.1-py2.py3-none-any.whl.metadata (4.1 kB)\n",
            "Requirement already satisfied: tornado<7,>=6.0.3 in /usr/local/lib/python3.11/dist-packages (from streamlit) (6.4.2)\n",
            "Requirement already satisfied: jsonschema>=3.0 in /usr/local/lib/python3.11/dist-packages (from altair<6,>=4.0->streamlit) (4.23.0)\n",
            "Requirement already satisfied: narwhals>=1.14.2 in /usr/local/lib/python3.11/dist-packages (from altair<6,>=4.0->streamlit) (1.39.0)\n",
            "Requirement already satisfied: gitdb<5,>=4.0.1 in /usr/local/lib/python3.11/dist-packages (from gitpython!=3.1.19,<4,>=3.0.7->streamlit) (4.0.12)\n",
            "Requirement already satisfied: llvmlite<0.44,>=0.43.0dev0 in /usr/local/lib/python3.11/dist-packages (from numba>=0.51.0->librosa) (0.43.0)\n",
            "Requirement already satisfied: python-dateutil>=2.8.2 in /usr/local/lib/python3.11/dist-packages (from pandas<3,>=1.4.0->streamlit) (2.9.0.post0)\n",
            "Requirement already satisfied: pytz>=2020.1 in /usr/local/lib/python3.11/dist-packages (from pandas<3,>=1.4.0->streamlit) (2025.2)\n",
            "Requirement already satisfied: tzdata>=2022.7 in /usr/local/lib/python3.11/dist-packages (from pandas<3,>=1.4.0->streamlit) (2025.2)\n",
            "Requirement already satisfied: platformdirs>=2.5.0 in /usr/local/lib/python3.11/dist-packages (from pooch>=1.1->librosa) (4.3.8)\n",
            "Requirement already satisfied: MarkupSafe>=2.0 in /usr/local/lib/python3.11/dist-packages (from jinja2->torch) (3.0.2)\n",
            "Requirement already satisfied: charset-normalizer<4,>=2 in /usr/local/lib/python3.11/dist-packages (from requests<3,>=2.27->streamlit) (3.4.2)\n",
            "Requirement already satisfied: idna<4,>=2.5 in /usr/local/lib/python3.11/dist-packages (from requests<3,>=2.27->streamlit) (3.10)\n",
            "Requirement already satisfied: urllib3<3,>=1.21.1 in /usr/local/lib/python3.11/dist-packages (from requests<3,>=2.27->streamlit) (2.4.0)\n",
            "Requirement already satisfied: certifi>=2017.4.17 in /usr/local/lib/python3.11/dist-packages (from requests<3,>=2.27->streamlit) (2025.4.26)\n",
            "Requirement already satisfied: threadpoolctl>=3.1.0 in /usr/local/lib/python3.11/dist-packages (from scikit-learn>=1.1.0->librosa) (3.6.0)\n",
            "Requirement already satisfied: cffi>=1.0 in /usr/local/lib/python3.11/dist-packages (from soundfile>=0.12.1->librosa) (1.17.1)\n",
            "Requirement already satisfied: pycparser in /usr/local/lib/python3.11/dist-packages (from cffi>=1.0->soundfile>=0.12.1->librosa) (2.22)\n",
            "Requirement already satisfied: smmap<6,>=3.0.1 in /usr/local/lib/python3.11/dist-packages (from gitdb<5,>=4.0.1->gitpython!=3.1.19,<4,>=3.0.7->streamlit) (5.0.2)\n",
            "Requirement already satisfied: attrs>=22.2.0 in /usr/local/lib/python3.11/dist-packages (from jsonschema>=3.0->altair<6,>=4.0->streamlit) (25.3.0)\n",
            "Requirement already satisfied: jsonschema-specifications>=2023.03.6 in /usr/local/lib/python3.11/dist-packages (from jsonschema>=3.0->altair<6,>=4.0->streamlit) (2025.4.1)\n",
            "Requirement already satisfied: referencing>=0.28.4 in /usr/local/lib/python3.11/dist-packages (from jsonschema>=3.0->altair<6,>=4.0->streamlit) (0.36.2)\n",
            "Requirement already satisfied: rpds-py>=0.7.1 in /usr/local/lib/python3.11/dist-packages (from jsonschema>=3.0->altair<6,>=4.0->streamlit) (0.24.0)\n",
            "Requirement already satisfied: six>=1.5 in /usr/local/lib/python3.11/dist-packages (from python-dateutil>=2.8.2->pandas<3,>=1.4.0->streamlit) (1.17.0)\n",
            "Downloading nvidia_cublas_cu12-12.4.5.8-py3-none-manylinux2014_x86_64.whl (363.4 MB)\n",
            "\u001b[2K   \u001b[90m━━━━━━━━━━━━━━━━━━━━━━━━━━━━━━━━━━━━━━━━\u001b[0m \u001b[32m363.4/363.4 MB\u001b[0m \u001b[31m3.0 MB/s\u001b[0m eta \u001b[36m0:00:00\u001b[0m\n",
            "\u001b[?25hDownloading nvidia_cuda_cupti_cu12-12.4.127-py3-none-manylinux2014_x86_64.whl (13.8 MB)\n",
            "\u001b[2K   \u001b[90m━━━━━━━━━━━━━━━━━━━━━━━━━━━━━━━━━━━━━━━━\u001b[0m \u001b[32m13.8/13.8 MB\u001b[0m \u001b[31m54.2 MB/s\u001b[0m eta \u001b[36m0:00:00\u001b[0m\n",
            "\u001b[?25hDownloading nvidia_cuda_nvrtc_cu12-12.4.127-py3-none-manylinux2014_x86_64.whl (24.6 MB)\n",
            "\u001b[2K   \u001b[90m━━━━━━━━━━━━━━━━━━━━━━━━━━━━━━━━━━━━━━━━\u001b[0m \u001b[32m24.6/24.6 MB\u001b[0m \u001b[31m28.4 MB/s\u001b[0m eta \u001b[36m0:00:00\u001b[0m\n",
            "\u001b[?25hDownloading nvidia_cuda_runtime_cu12-12.4.127-py3-none-manylinux2014_x86_64.whl (883 kB)\n",
            "\u001b[2K   \u001b[90m━━━━━━━━━━━━━━━━━━━━━━━━━━━━━━━━━━━━━━━━\u001b[0m \u001b[32m883.7/883.7 kB\u001b[0m \u001b[31m20.0 MB/s\u001b[0m eta \u001b[36m0:00:00\u001b[0m\n",
            "\u001b[?25hDownloading nvidia_cudnn_cu12-9.1.0.70-py3-none-manylinux2014_x86_64.whl (664.8 MB)\n",
            "\u001b[2K   \u001b[90m━━━━━━━━━━━━━━━━━━━━━━━━━━━━━━━━━━━━━━━━\u001b[0m \u001b[32m664.8/664.8 MB\u001b[0m \u001b[31m2.0 MB/s\u001b[0m eta \u001b[36m0:00:00\u001b[0m\n",
            "\u001b[?25hDownloading nvidia_cufft_cu12-11.2.1.3-py3-none-manylinux2014_x86_64.whl (211.5 MB)\n",
            "\u001b[2K   \u001b[90m━━━━━━━━━━━━━━━━━━━━━━━━━━━━━━━━━━━━━━━━\u001b[0m \u001b[32m211.5/211.5 MB\u001b[0m \u001b[31m5.4 MB/s\u001b[0m eta \u001b[36m0:00:00\u001b[0m\n",
            "\u001b[?25hDownloading nvidia_curand_cu12-10.3.5.147-py3-none-manylinux2014_x86_64.whl (56.3 MB)\n",
            "\u001b[2K   \u001b[90m━━━━━━━━━━━━━━━━━━━━━━━━━━━━━━━━━━━━━━━━\u001b[0m \u001b[32m56.3/56.3 MB\u001b[0m \u001b[31m12.1 MB/s\u001b[0m eta \u001b[36m0:00:00\u001b[0m\n",
            "\u001b[?25hDownloading nvidia_cusolver_cu12-11.6.1.9-py3-none-manylinux2014_x86_64.whl (127.9 MB)\n",
            "\u001b[2K   \u001b[90m━━━━━━━━━━━━━━━━━━━━━━━━━━━━━━━━━━━━━━━━\u001b[0m \u001b[32m127.9/127.9 MB\u001b[0m \u001b[31m7.5 MB/s\u001b[0m eta \u001b[36m0:00:00\u001b[0m\n",
            "\u001b[?25hDownloading nvidia_cusparse_cu12-12.3.1.170-py3-none-manylinux2014_x86_64.whl (207.5 MB)\n",
            "\u001b[2K   \u001b[90m━━━━━━━━━━━━━━━━━━━━━━━━━━━━━━━━━━━━━━━━\u001b[0m \u001b[32m207.5/207.5 MB\u001b[0m \u001b[31m6.0 MB/s\u001b[0m eta \u001b[36m0:00:00\u001b[0m\n",
            "\u001b[?25hDownloading nvidia_nvjitlink_cu12-12.4.127-py3-none-manylinux2014_x86_64.whl (21.1 MB)\n",
            "\u001b[2K   \u001b[90m━━━━━━━━━━━━━━━━━━━━━━━━━━━━━━━━━━━━━━━━\u001b[0m \u001b[32m21.1/21.1 MB\u001b[0m \u001b[31m82.0 MB/s\u001b[0m eta \u001b[36m0:00:00\u001b[0m\n",
            "\u001b[?25hDownloading streamlit-1.45.1-py3-none-any.whl (9.9 MB)\n",
            "\u001b[2K   \u001b[90m━━━━━━━━━━━━━━━━━━━━━━━━━━━━━━━━━━━━━━━━\u001b[0m \u001b[32m9.9/9.9 MB\u001b[0m \u001b[31m113.6 MB/s\u001b[0m eta \u001b[36m0:00:00\u001b[0m\n",
            "\u001b[?25hDownloading pydeck-0.9.1-py2.py3-none-any.whl (6.9 MB)\n",
            "\u001b[2K   \u001b[90m━━━━━━━━━━━━━━━━━━━━━━━━━━━━━━━━━━━━━━━━\u001b[0m \u001b[32m6.9/6.9 MB\u001b[0m \u001b[31m76.6 MB/s\u001b[0m eta \u001b[36m0:00:00\u001b[0m\n",
            "\u001b[?25hDownloading watchdog-6.0.0-py3-none-manylinux2014_x86_64.whl (79 kB)\n",
            "\u001b[2K   \u001b[90m━━━━━━━━━━━━━━━━━━━━━━━━━━━━━━━━━━━━━━━━\u001b[0m \u001b[32m79.1/79.1 kB\u001b[0m \u001b[31m6.4 MB/s\u001b[0m eta \u001b[36m0:00:00\u001b[0m\n",
            "\u001b[?25hInstalling collected packages: watchdog, nvidia-nvjitlink-cu12, nvidia-curand-cu12, nvidia-cufft-cu12, nvidia-cuda-runtime-cu12, nvidia-cuda-nvrtc-cu12, nvidia-cuda-cupti-cu12, nvidia-cublas-cu12, pydeck, nvidia-cusparse-cu12, nvidia-cudnn-cu12, nvidia-cusolver-cu12, streamlit\n",
            "  Attempting uninstall: nvidia-nvjitlink-cu12\n",
            "    Found existing installation: nvidia-nvjitlink-cu12 12.5.82\n",
            "    Uninstalling nvidia-nvjitlink-cu12-12.5.82:\n",
            "      Successfully uninstalled nvidia-nvjitlink-cu12-12.5.82\n",
            "  Attempting uninstall: nvidia-curand-cu12\n",
            "    Found existing installation: nvidia-curand-cu12 10.3.6.82\n",
            "    Uninstalling nvidia-curand-cu12-10.3.6.82:\n",
            "      Successfully uninstalled nvidia-curand-cu12-10.3.6.82\n",
            "  Attempting uninstall: nvidia-cufft-cu12\n",
            "    Found existing installation: nvidia-cufft-cu12 11.2.3.61\n",
            "    Uninstalling nvidia-cufft-cu12-11.2.3.61:\n",
            "      Successfully uninstalled nvidia-cufft-cu12-11.2.3.61\n",
            "  Attempting uninstall: nvidia-cuda-runtime-cu12\n",
            "    Found existing installation: nvidia-cuda-runtime-cu12 12.5.82\n",
            "    Uninstalling nvidia-cuda-runtime-cu12-12.5.82:\n",
            "      Successfully uninstalled nvidia-cuda-runtime-cu12-12.5.82\n",
            "  Attempting uninstall: nvidia-cuda-nvrtc-cu12\n",
            "    Found existing installation: nvidia-cuda-nvrtc-cu12 12.5.82\n",
            "    Uninstalling nvidia-cuda-nvrtc-cu12-12.5.82:\n",
            "      Successfully uninstalled nvidia-cuda-nvrtc-cu12-12.5.82\n",
            "  Attempting uninstall: nvidia-cuda-cupti-cu12\n",
            "    Found existing installation: nvidia-cuda-cupti-cu12 12.5.82\n",
            "    Uninstalling nvidia-cuda-cupti-cu12-12.5.82:\n",
            "      Successfully uninstalled nvidia-cuda-cupti-cu12-12.5.82\n",
            "  Attempting uninstall: nvidia-cublas-cu12\n",
            "    Found existing installation: nvidia-cublas-cu12 12.5.3.2\n",
            "    Uninstalling nvidia-cublas-cu12-12.5.3.2:\n",
            "      Successfully uninstalled nvidia-cublas-cu12-12.5.3.2\n",
            "  Attempting uninstall: nvidia-cusparse-cu12\n",
            "    Found existing installation: nvidia-cusparse-cu12 12.5.1.3\n",
            "    Uninstalling nvidia-cusparse-cu12-12.5.1.3:\n",
            "      Successfully uninstalled nvidia-cusparse-cu12-12.5.1.3\n",
            "  Attempting uninstall: nvidia-cudnn-cu12\n",
            "    Found existing installation: nvidia-cudnn-cu12 9.3.0.75\n",
            "    Uninstalling nvidia-cudnn-cu12-9.3.0.75:\n",
            "      Successfully uninstalled nvidia-cudnn-cu12-9.3.0.75\n",
            "  Attempting uninstall: nvidia-cusolver-cu12\n",
            "    Found existing installation: nvidia-cusolver-cu12 11.6.3.83\n",
            "    Uninstalling nvidia-cusolver-cu12-11.6.3.83:\n",
            "      Successfully uninstalled nvidia-cusolver-cu12-11.6.3.83\n",
            "Successfully installed nvidia-cublas-cu12-12.4.5.8 nvidia-cuda-cupti-cu12-12.4.127 nvidia-cuda-nvrtc-cu12-12.4.127 nvidia-cuda-runtime-cu12-12.4.127 nvidia-cudnn-cu12-9.1.0.70 nvidia-cufft-cu12-11.2.1.3 nvidia-curand-cu12-10.3.5.147 nvidia-cusolver-cu12-11.6.1.9 nvidia-cusparse-cu12-12.3.1.170 nvidia-nvjitlink-cu12-12.4.127 pydeck-0.9.1 streamlit-1.45.1 watchdog-6.0.0\n"
          ]
        }
      ],
      "source": [
        "# # Устанавливаем необходимые библиотеки\n",
        "!pip install torch torchaudio librosa tqdm streamlit\n"
      ]
    },
    {
      "cell_type": "code",
      "execution_count": 2,
      "metadata": {
        "colab": {
          "base_uri": "https://localhost:8080/"
        },
        "id": "cG7zc3jBEdGJ",
        "outputId": "5fcde535-8540-4f36-b811-a7f9fdcac275"
      },
      "outputs": [
        {
          "output_type": "stream",
          "name": "stdout",
          "text": [
            "Collecting pydub\n",
            "  Downloading pydub-0.25.1-py2.py3-none-any.whl.metadata (1.4 kB)\n",
            "Downloading pydub-0.25.1-py2.py3-none-any.whl (32 kB)\n",
            "Installing collected packages: pydub\n",
            "Successfully installed pydub-0.25.1\n",
            "Reading package lists... Done\n",
            "Building dependency tree... Done\n",
            "Reading state information... Done\n",
            "ffmpeg is already the newest version (7:4.4.2-0ubuntu0.22.04.1).\n",
            "0 upgraded, 0 newly installed, 0 to remove and 34 not upgraded.\n"
          ]
        }
      ],
      "source": [
        "!pip install pydub\n",
        "!apt-get install -y ffmpeg\n",
        "import os\n",
        "os.environ[\"PATH\"] += os.pathsep + \"/usr/bin\"\n"
      ]
    },
    {
      "cell_type": "code",
      "execution_count": 3,
      "metadata": {
        "colab": {
          "base_uri": "https://localhost:8080/"
        },
        "id": "oQSukyS2tl3O",
        "outputId": "1b2fc864-9ce5-4391-d885-da8d7b18b1b0"
      },
      "outputs": [
        {
          "output_type": "stream",
          "name": "stdout",
          "text": [
            "Collecting pyngrok\n",
            "  Downloading pyngrok-7.2.8-py3-none-any.whl.metadata (10 kB)\n",
            "Requirement already satisfied: PyYAML>=5.1 in /usr/local/lib/python3.11/dist-packages (from pyngrok) (6.0.2)\n",
            "Downloading pyngrok-7.2.8-py3-none-any.whl (25 kB)\n",
            "Installing collected packages: pyngrok\n",
            "Successfully installed pyngrok-7.2.8\n"
          ]
        }
      ],
      "source": [
        "!pip install pyngrok\n"
      ]
    },
    {
      "cell_type": "code",
      "execution_count": 4,
      "metadata": {
        "colab": {
          "base_uri": "https://localhost:8080/"
        },
        "id": "TvcFZgpY2CJL",
        "outputId": "920cd03f-d610-4600-f688-718029c63ff8"
      },
      "outputs": [
        {
          "output_type": "stream",
          "name": "stdout",
          "text": [
            "Requirement already satisfied: opencv-python-headless in /usr/local/lib/python3.11/dist-packages (4.11.0.86)\n",
            "Requirement already satisfied: numpy>=1.21.2 in /usr/local/lib/python3.11/dist-packages (from opencv-python-headless) (2.0.2)\n"
          ]
        }
      ],
      "source": [
        "!pip install opencv-python-headless\n"
      ]
    },
    {
      "cell_type": "code",
      "execution_count": 5,
      "metadata": {
        "colab": {
          "base_uri": "https://localhost:8080/"
        },
        "id": "KeX9Ol1526Fp",
        "outputId": "bdeef261-f8ad-4abf-b6bd-6299c3e3cfcd"
      },
      "outputs": [
        {
          "output_type": "stream",
          "name": "stdout",
          "text": [
            "Collecting streamlit-audiorec\n",
            "  Downloading streamlit_audiorec-0.1.3-py3-none-any.whl.metadata (2.4 kB)\n",
            "Requirement already satisfied: streamlit>=0.63 in /usr/local/lib/python3.11/dist-packages (from streamlit-audiorec) (1.45.1)\n",
            "Requirement already satisfied: altair<6,>=4.0 in /usr/local/lib/python3.11/dist-packages (from streamlit>=0.63->streamlit-audiorec) (5.5.0)\n",
            "Requirement already satisfied: blinker<2,>=1.5.0 in /usr/local/lib/python3.11/dist-packages (from streamlit>=0.63->streamlit-audiorec) (1.9.0)\n",
            "Requirement already satisfied: cachetools<6,>=4.0 in /usr/local/lib/python3.11/dist-packages (from streamlit>=0.63->streamlit-audiorec) (5.5.2)\n",
            "Requirement already satisfied: click<9,>=7.0 in /usr/local/lib/python3.11/dist-packages (from streamlit>=0.63->streamlit-audiorec) (8.2.0)\n",
            "Requirement already satisfied: numpy<3,>=1.23 in /usr/local/lib/python3.11/dist-packages (from streamlit>=0.63->streamlit-audiorec) (2.0.2)\n",
            "Requirement already satisfied: packaging<25,>=20 in /usr/local/lib/python3.11/dist-packages (from streamlit>=0.63->streamlit-audiorec) (24.2)\n",
            "Requirement already satisfied: pandas<3,>=1.4.0 in /usr/local/lib/python3.11/dist-packages (from streamlit>=0.63->streamlit-audiorec) (2.2.2)\n",
            "Requirement already satisfied: pillow<12,>=7.1.0 in /usr/local/lib/python3.11/dist-packages (from streamlit>=0.63->streamlit-audiorec) (11.2.1)\n",
            "Requirement already satisfied: protobuf<7,>=3.20 in /usr/local/lib/python3.11/dist-packages (from streamlit>=0.63->streamlit-audiorec) (5.29.4)\n",
            "Requirement already satisfied: pyarrow>=7.0 in /usr/local/lib/python3.11/dist-packages (from streamlit>=0.63->streamlit-audiorec) (18.1.0)\n",
            "Requirement already satisfied: requests<3,>=2.27 in /usr/local/lib/python3.11/dist-packages (from streamlit>=0.63->streamlit-audiorec) (2.32.3)\n",
            "Requirement already satisfied: tenacity<10,>=8.1.0 in /usr/local/lib/python3.11/dist-packages (from streamlit>=0.63->streamlit-audiorec) (9.1.2)\n",
            "Requirement already satisfied: toml<2,>=0.10.1 in /usr/local/lib/python3.11/dist-packages (from streamlit>=0.63->streamlit-audiorec) (0.10.2)\n",
            "Requirement already satisfied: typing-extensions<5,>=4.4.0 in /usr/local/lib/python3.11/dist-packages (from streamlit>=0.63->streamlit-audiorec) (4.13.2)\n",
            "Requirement already satisfied: watchdog<7,>=2.1.5 in /usr/local/lib/python3.11/dist-packages (from streamlit>=0.63->streamlit-audiorec) (6.0.0)\n",
            "Requirement already satisfied: gitpython!=3.1.19,<4,>=3.0.7 in /usr/local/lib/python3.11/dist-packages (from streamlit>=0.63->streamlit-audiorec) (3.1.44)\n",
            "Requirement already satisfied: pydeck<1,>=0.8.0b4 in /usr/local/lib/python3.11/dist-packages (from streamlit>=0.63->streamlit-audiorec) (0.9.1)\n",
            "Requirement already satisfied: tornado<7,>=6.0.3 in /usr/local/lib/python3.11/dist-packages (from streamlit>=0.63->streamlit-audiorec) (6.4.2)\n",
            "Requirement already satisfied: jinja2 in /usr/local/lib/python3.11/dist-packages (from altair<6,>=4.0->streamlit>=0.63->streamlit-audiorec) (3.1.6)\n",
            "Requirement already satisfied: jsonschema>=3.0 in /usr/local/lib/python3.11/dist-packages (from altair<6,>=4.0->streamlit>=0.63->streamlit-audiorec) (4.23.0)\n",
            "Requirement already satisfied: narwhals>=1.14.2 in /usr/local/lib/python3.11/dist-packages (from altair<6,>=4.0->streamlit>=0.63->streamlit-audiorec) (1.39.0)\n",
            "Requirement already satisfied: gitdb<5,>=4.0.1 in /usr/local/lib/python3.11/dist-packages (from gitpython!=3.1.19,<4,>=3.0.7->streamlit>=0.63->streamlit-audiorec) (4.0.12)\n",
            "Requirement already satisfied: python-dateutil>=2.8.2 in /usr/local/lib/python3.11/dist-packages (from pandas<3,>=1.4.0->streamlit>=0.63->streamlit-audiorec) (2.9.0.post0)\n",
            "Requirement already satisfied: pytz>=2020.1 in /usr/local/lib/python3.11/dist-packages (from pandas<3,>=1.4.0->streamlit>=0.63->streamlit-audiorec) (2025.2)\n",
            "Requirement already satisfied: tzdata>=2022.7 in /usr/local/lib/python3.11/dist-packages (from pandas<3,>=1.4.0->streamlit>=0.63->streamlit-audiorec) (2025.2)\n",
            "Requirement already satisfied: charset-normalizer<4,>=2 in /usr/local/lib/python3.11/dist-packages (from requests<3,>=2.27->streamlit>=0.63->streamlit-audiorec) (3.4.2)\n",
            "Requirement already satisfied: idna<4,>=2.5 in /usr/local/lib/python3.11/dist-packages (from requests<3,>=2.27->streamlit>=0.63->streamlit-audiorec) (3.10)\n",
            "Requirement already satisfied: urllib3<3,>=1.21.1 in /usr/local/lib/python3.11/dist-packages (from requests<3,>=2.27->streamlit>=0.63->streamlit-audiorec) (2.4.0)\n",
            "Requirement already satisfied: certifi>=2017.4.17 in /usr/local/lib/python3.11/dist-packages (from requests<3,>=2.27->streamlit>=0.63->streamlit-audiorec) (2025.4.26)\n",
            "Requirement already satisfied: smmap<6,>=3.0.1 in /usr/local/lib/python3.11/dist-packages (from gitdb<5,>=4.0.1->gitpython!=3.1.19,<4,>=3.0.7->streamlit>=0.63->streamlit-audiorec) (5.0.2)\n",
            "Requirement already satisfied: MarkupSafe>=2.0 in /usr/local/lib/python3.11/dist-packages (from jinja2->altair<6,>=4.0->streamlit>=0.63->streamlit-audiorec) (3.0.2)\n",
            "Requirement already satisfied: attrs>=22.2.0 in /usr/local/lib/python3.11/dist-packages (from jsonschema>=3.0->altair<6,>=4.0->streamlit>=0.63->streamlit-audiorec) (25.3.0)\n",
            "Requirement already satisfied: jsonschema-specifications>=2023.03.6 in /usr/local/lib/python3.11/dist-packages (from jsonschema>=3.0->altair<6,>=4.0->streamlit>=0.63->streamlit-audiorec) (2025.4.1)\n",
            "Requirement already satisfied: referencing>=0.28.4 in /usr/local/lib/python3.11/dist-packages (from jsonschema>=3.0->altair<6,>=4.0->streamlit>=0.63->streamlit-audiorec) (0.36.2)\n",
            "Requirement already satisfied: rpds-py>=0.7.1 in /usr/local/lib/python3.11/dist-packages (from jsonschema>=3.0->altair<6,>=4.0->streamlit>=0.63->streamlit-audiorec) (0.24.0)\n",
            "Requirement already satisfied: six>=1.5 in /usr/local/lib/python3.11/dist-packages (from python-dateutil>=2.8.2->pandas<3,>=1.4.0->streamlit>=0.63->streamlit-audiorec) (1.17.0)\n",
            "Downloading streamlit_audiorec-0.1.3-py3-none-any.whl (872 kB)\n",
            "\u001b[2K   \u001b[90m━━━━━━━━━━━━━━━━━━━━━━━━━━━━━━━━━━━━━━━━\u001b[0m \u001b[32m872.8/872.8 kB\u001b[0m \u001b[31m9.6 MB/s\u001b[0m eta \u001b[36m0:00:00\u001b[0m\n",
            "\u001b[?25hInstalling collected packages: streamlit-audiorec\n",
            "Successfully installed streamlit-audiorec-0.1.3\n"
          ]
        }
      ],
      "source": [
        "!pip install streamlit-audiorec\n"
      ]
    },
    {
      "cell_type": "code",
      "execution_count": 6,
      "metadata": {
        "colab": {
          "base_uri": "https://localhost:8080/"
        },
        "id": "-wsNLj9K4l7c",
        "outputId": "4bfc0e26-2f96-4837-83f6-043670fe0e93"
      },
      "outputs": [
        {
          "output_type": "stream",
          "name": "stdout",
          "text": [
            "Collecting streamlit-webrtc\n",
            "  Downloading streamlit_webrtc-0.62.4-py3-none-any.whl.metadata (18 kB)\n",
            "Collecting aioice>=0.10.0 (from streamlit-webrtc)\n",
            "  Downloading aioice-0.10.1-py3-none-any.whl.metadata (4.1 kB)\n",
            "Collecting aiortc>=1.11.0 (from streamlit-webrtc)\n",
            "  Downloading aiortc-1.12.0-py3-none-any.whl.metadata (4.9 kB)\n",
            "Requirement already satisfied: packaging>=20.0 in /usr/local/lib/python3.11/dist-packages (from streamlit-webrtc) (24.2)\n",
            "Requirement already satisfied: streamlit>=0.89.0 in /usr/local/lib/python3.11/dist-packages (from streamlit-webrtc) (1.45.1)\n",
            "Collecting dnspython>=2.0.0 (from aioice>=0.10.0->streamlit-webrtc)\n",
            "  Downloading dnspython-2.7.0-py3-none-any.whl.metadata (5.8 kB)\n",
            "Collecting ifaddr>=0.2.0 (from aioice>=0.10.0->streamlit-webrtc)\n",
            "  Downloading ifaddr-0.2.0-py3-none-any.whl.metadata (4.9 kB)\n",
            "Collecting av<15.0.0,>=14.0.0 (from aiortc>=1.11.0->streamlit-webrtc)\n",
            "  Downloading av-14.4.0-cp311-cp311-manylinux_2_17_x86_64.manylinux2014_x86_64.whl.metadata (4.6 kB)\n",
            "Requirement already satisfied: cffi>=1.0.0 in /usr/local/lib/python3.11/dist-packages (from aiortc>=1.11.0->streamlit-webrtc) (1.17.1)\n",
            "Collecting cryptography>=44.0.0 (from aiortc>=1.11.0->streamlit-webrtc)\n",
            "  Downloading cryptography-45.0.3-cp311-abi3-manylinux_2_34_x86_64.whl.metadata (5.7 kB)\n",
            "Requirement already satisfied: google-crc32c>=1.1 in /usr/local/lib/python3.11/dist-packages (from aiortc>=1.11.0->streamlit-webrtc) (1.7.1)\n",
            "Collecting pyee>=13.0.0 (from aiortc>=1.11.0->streamlit-webrtc)\n",
            "  Downloading pyee-13.0.0-py3-none-any.whl.metadata (2.9 kB)\n",
            "Collecting pylibsrtp>=0.10.0 (from aiortc>=1.11.0->streamlit-webrtc)\n",
            "  Downloading pylibsrtp-0.12.0-cp39-abi3-manylinux_2_17_x86_64.manylinux2014_x86_64.whl.metadata (4.1 kB)\n",
            "Collecting pyopenssl>=25.0.0 (from aiortc>=1.11.0->streamlit-webrtc)\n",
            "  Downloading pyopenssl-25.1.0-py3-none-any.whl.metadata (17 kB)\n",
            "Requirement already satisfied: altair<6,>=4.0 in /usr/local/lib/python3.11/dist-packages (from streamlit>=0.89.0->streamlit-webrtc) (5.5.0)\n",
            "Requirement already satisfied: blinker<2,>=1.5.0 in /usr/local/lib/python3.11/dist-packages (from streamlit>=0.89.0->streamlit-webrtc) (1.9.0)\n",
            "Requirement already satisfied: cachetools<6,>=4.0 in /usr/local/lib/python3.11/dist-packages (from streamlit>=0.89.0->streamlit-webrtc) (5.5.2)\n",
            "Requirement already satisfied: click<9,>=7.0 in /usr/local/lib/python3.11/dist-packages (from streamlit>=0.89.0->streamlit-webrtc) (8.2.0)\n",
            "Requirement already satisfied: numpy<3,>=1.23 in /usr/local/lib/python3.11/dist-packages (from streamlit>=0.89.0->streamlit-webrtc) (2.0.2)\n",
            "Requirement already satisfied: pandas<3,>=1.4.0 in /usr/local/lib/python3.11/dist-packages (from streamlit>=0.89.0->streamlit-webrtc) (2.2.2)\n",
            "Requirement already satisfied: pillow<12,>=7.1.0 in /usr/local/lib/python3.11/dist-packages (from streamlit>=0.89.0->streamlit-webrtc) (11.2.1)\n",
            "Requirement already satisfied: protobuf<7,>=3.20 in /usr/local/lib/python3.11/dist-packages (from streamlit>=0.89.0->streamlit-webrtc) (5.29.4)\n",
            "Requirement already satisfied: pyarrow>=7.0 in /usr/local/lib/python3.11/dist-packages (from streamlit>=0.89.0->streamlit-webrtc) (18.1.0)\n",
            "Requirement already satisfied: requests<3,>=2.27 in /usr/local/lib/python3.11/dist-packages (from streamlit>=0.89.0->streamlit-webrtc) (2.32.3)\n",
            "Requirement already satisfied: tenacity<10,>=8.1.0 in /usr/local/lib/python3.11/dist-packages (from streamlit>=0.89.0->streamlit-webrtc) (9.1.2)\n",
            "Requirement already satisfied: toml<2,>=0.10.1 in /usr/local/lib/python3.11/dist-packages (from streamlit>=0.89.0->streamlit-webrtc) (0.10.2)\n",
            "Requirement already satisfied: typing-extensions<5,>=4.4.0 in /usr/local/lib/python3.11/dist-packages (from streamlit>=0.89.0->streamlit-webrtc) (4.13.2)\n",
            "Requirement already satisfied: watchdog<7,>=2.1.5 in /usr/local/lib/python3.11/dist-packages (from streamlit>=0.89.0->streamlit-webrtc) (6.0.0)\n",
            "Requirement already satisfied: gitpython!=3.1.19,<4,>=3.0.7 in /usr/local/lib/python3.11/dist-packages (from streamlit>=0.89.0->streamlit-webrtc) (3.1.44)\n",
            "Requirement already satisfied: pydeck<1,>=0.8.0b4 in /usr/local/lib/python3.11/dist-packages (from streamlit>=0.89.0->streamlit-webrtc) (0.9.1)\n",
            "Requirement already satisfied: tornado<7,>=6.0.3 in /usr/local/lib/python3.11/dist-packages (from streamlit>=0.89.0->streamlit-webrtc) (6.4.2)\n",
            "Requirement already satisfied: jinja2 in /usr/local/lib/python3.11/dist-packages (from altair<6,>=4.0->streamlit>=0.89.0->streamlit-webrtc) (3.1.6)\n",
            "Requirement already satisfied: jsonschema>=3.0 in /usr/local/lib/python3.11/dist-packages (from altair<6,>=4.0->streamlit>=0.89.0->streamlit-webrtc) (4.23.0)\n",
            "Requirement already satisfied: narwhals>=1.14.2 in /usr/local/lib/python3.11/dist-packages (from altair<6,>=4.0->streamlit>=0.89.0->streamlit-webrtc) (1.39.0)\n",
            "Requirement already satisfied: pycparser in /usr/local/lib/python3.11/dist-packages (from cffi>=1.0.0->aiortc>=1.11.0->streamlit-webrtc) (2.22)\n",
            "Requirement already satisfied: gitdb<5,>=4.0.1 in /usr/local/lib/python3.11/dist-packages (from gitpython!=3.1.19,<4,>=3.0.7->streamlit>=0.89.0->streamlit-webrtc) (4.0.12)\n",
            "Requirement already satisfied: python-dateutil>=2.8.2 in /usr/local/lib/python3.11/dist-packages (from pandas<3,>=1.4.0->streamlit>=0.89.0->streamlit-webrtc) (2.9.0.post0)\n",
            "Requirement already satisfied: pytz>=2020.1 in /usr/local/lib/python3.11/dist-packages (from pandas<3,>=1.4.0->streamlit>=0.89.0->streamlit-webrtc) (2025.2)\n",
            "Requirement already satisfied: tzdata>=2022.7 in /usr/local/lib/python3.11/dist-packages (from pandas<3,>=1.4.0->streamlit>=0.89.0->streamlit-webrtc) (2025.2)\n",
            "Requirement already satisfied: charset-normalizer<4,>=2 in /usr/local/lib/python3.11/dist-packages (from requests<3,>=2.27->streamlit>=0.89.0->streamlit-webrtc) (3.4.2)\n",
            "Requirement already satisfied: idna<4,>=2.5 in /usr/local/lib/python3.11/dist-packages (from requests<3,>=2.27->streamlit>=0.89.0->streamlit-webrtc) (3.10)\n",
            "Requirement already satisfied: urllib3<3,>=1.21.1 in /usr/local/lib/python3.11/dist-packages (from requests<3,>=2.27->streamlit>=0.89.0->streamlit-webrtc) (2.4.0)\n",
            "Requirement already satisfied: certifi>=2017.4.17 in /usr/local/lib/python3.11/dist-packages (from requests<3,>=2.27->streamlit>=0.89.0->streamlit-webrtc) (2025.4.26)\n",
            "Requirement already satisfied: smmap<6,>=3.0.1 in /usr/local/lib/python3.11/dist-packages (from gitdb<5,>=4.0.1->gitpython!=3.1.19,<4,>=3.0.7->streamlit>=0.89.0->streamlit-webrtc) (5.0.2)\n",
            "Requirement already satisfied: MarkupSafe>=2.0 in /usr/local/lib/python3.11/dist-packages (from jinja2->altair<6,>=4.0->streamlit>=0.89.0->streamlit-webrtc) (3.0.2)\n",
            "Requirement already satisfied: attrs>=22.2.0 in /usr/local/lib/python3.11/dist-packages (from jsonschema>=3.0->altair<6,>=4.0->streamlit>=0.89.0->streamlit-webrtc) (25.3.0)\n",
            "Requirement already satisfied: jsonschema-specifications>=2023.03.6 in /usr/local/lib/python3.11/dist-packages (from jsonschema>=3.0->altair<6,>=4.0->streamlit>=0.89.0->streamlit-webrtc) (2025.4.1)\n",
            "Requirement already satisfied: referencing>=0.28.4 in /usr/local/lib/python3.11/dist-packages (from jsonschema>=3.0->altair<6,>=4.0->streamlit>=0.89.0->streamlit-webrtc) (0.36.2)\n",
            "Requirement already satisfied: rpds-py>=0.7.1 in /usr/local/lib/python3.11/dist-packages (from jsonschema>=3.0->altair<6,>=4.0->streamlit>=0.89.0->streamlit-webrtc) (0.24.0)\n",
            "Requirement already satisfied: six>=1.5 in /usr/local/lib/python3.11/dist-packages (from python-dateutil>=2.8.2->pandas<3,>=1.4.0->streamlit>=0.89.0->streamlit-webrtc) (1.17.0)\n",
            "Downloading streamlit_webrtc-0.62.4-py3-none-any.whl (217 kB)\n",
            "\u001b[2K   \u001b[90m━━━━━━━━━━━━━━━━━━━━━━━━━━━━━━━━━━━━━━━━\u001b[0m \u001b[32m217.3/217.3 kB\u001b[0m \u001b[31m4.3 MB/s\u001b[0m eta \u001b[36m0:00:00\u001b[0m\n",
            "\u001b[?25hDownloading aioice-0.10.1-py3-none-any.whl (24 kB)\n",
            "Downloading aiortc-1.12.0-py3-none-any.whl (90 kB)\n",
            "\u001b[2K   \u001b[90m━━━━━━━━━━━━━━━━━━━━━━━━━━━━━━━━━━━━━━━━\u001b[0m \u001b[32m90.1/90.1 kB\u001b[0m \u001b[31m5.3 MB/s\u001b[0m eta \u001b[36m0:00:00\u001b[0m\n",
            "\u001b[?25hDownloading av-14.4.0-cp311-cp311-manylinux_2_17_x86_64.manylinux2014_x86_64.whl (35.3 MB)\n",
            "\u001b[2K   \u001b[90m━━━━━━━━━━━━━━━━━━━━━━━━━━━━━━━━━━━━━━━━\u001b[0m \u001b[32m35.3/35.3 MB\u001b[0m \u001b[31m26.5 MB/s\u001b[0m eta \u001b[36m0:00:00\u001b[0m\n",
            "\u001b[?25hDownloading cryptography-45.0.3-cp311-abi3-manylinux_2_34_x86_64.whl (4.5 MB)\n",
            "\u001b[2K   \u001b[90m━━━━━━━━━━━━━━━━━━━━━━━━━━━━━━━━━━━━━━━━\u001b[0m \u001b[32m4.5/4.5 MB\u001b[0m \u001b[31m67.9 MB/s\u001b[0m eta \u001b[36m0:00:00\u001b[0m\n",
            "\u001b[?25hDownloading dnspython-2.7.0-py3-none-any.whl (313 kB)\n",
            "\u001b[2K   \u001b[90m━━━━━━━━━━━━━━━━━━━━━━━━━━━━━━━━━━━━━━━━\u001b[0m \u001b[32m313.6/313.6 kB\u001b[0m \u001b[31m20.4 MB/s\u001b[0m eta \u001b[36m0:00:00\u001b[0m\n",
            "\u001b[?25hDownloading ifaddr-0.2.0-py3-none-any.whl (12 kB)\n",
            "Downloading pyee-13.0.0-py3-none-any.whl (15 kB)\n",
            "Downloading pylibsrtp-0.12.0-cp39-abi3-manylinux_2_17_x86_64.manylinux2014_x86_64.whl (2.2 MB)\n",
            "\u001b[2K   \u001b[90m━━━━━━━━━━━━━━━━━━━━━━━━━━━━━━━━━━━━━━━━\u001b[0m \u001b[32m2.2/2.2 MB\u001b[0m \u001b[31m39.1 MB/s\u001b[0m eta \u001b[36m0:00:00\u001b[0m\n",
            "\u001b[?25hDownloading pyopenssl-25.1.0-py3-none-any.whl (56 kB)\n",
            "\u001b[2K   \u001b[90m━━━━━━━━━━━━━━━━━━━━━━━━━━━━━━━━━━━━━━━━\u001b[0m \u001b[32m56.8/56.8 kB\u001b[0m \u001b[31m4.2 MB/s\u001b[0m eta \u001b[36m0:00:00\u001b[0m\n",
            "\u001b[?25hInstalling collected packages: ifaddr, pyee, dnspython, av, pylibsrtp, cryptography, aioice, pyopenssl, aiortc, streamlit-webrtc\n",
            "  Attempting uninstall: cryptography\n",
            "    Found existing installation: cryptography 43.0.3\n",
            "    Uninstalling cryptography-43.0.3:\n",
            "      Successfully uninstalled cryptography-43.0.3\n",
            "  Attempting uninstall: pyopenssl\n",
            "    Found existing installation: pyOpenSSL 24.2.1\n",
            "    Uninstalling pyOpenSSL-24.2.1:\n",
            "      Successfully uninstalled pyOpenSSL-24.2.1\n",
            "\u001b[31mERROR: pip's dependency resolver does not currently take into account all the packages that are installed. This behaviour is the source of the following dependency conflicts.\n",
            "pydrive2 1.21.3 requires cryptography<44, but you have cryptography 45.0.3 which is incompatible.\n",
            "pydrive2 1.21.3 requires pyOpenSSL<=24.2.1,>=19.1.0, but you have pyopenssl 25.1.0 which is incompatible.\u001b[0m\u001b[31m\n",
            "\u001b[0mSuccessfully installed aioice-0.10.1 aiortc-1.12.0 av-14.4.0 cryptography-45.0.3 dnspython-2.7.0 ifaddr-0.2.0 pyee-13.0.0 pylibsrtp-0.12.0 pyopenssl-25.1.0 streamlit-webrtc-0.62.4\n"
          ]
        }
      ],
      "source": [
        "!pip install streamlit-webrtc\n"
      ]
    },
    {
      "cell_type": "markdown",
      "metadata": {
        "id": "wlcVKqySkrQc"
      },
      "source": [
        "Импорт библиотек"
      ]
    },
    {
      "cell_type": "code",
      "execution_count": 7,
      "metadata": {
        "id": "HV0rSjxij6Rv"
      },
      "outputs": [],
      "source": [
        "import os\n",
        "import torch\n",
        "import torchaudio\n",
        "from torch.utils.data import Dataset, DataLoader\n",
        "import torch.nn as nn\n",
        "import torch.optim as optim\n",
        "import numpy as np\n",
        "import random\n",
        "from tqdm import tqdm\n",
        "import pickle"
      ]
    },
    {
      "cell_type": "markdown",
      "metadata": {
        "id": "gBtutCe5ktvZ"
      },
      "source": [
        "Загрузка датасета Google Speech Commands"
      ]
    },
    {
      "cell_type": "code",
      "execution_count": 22,
      "metadata": {
        "id": "EyX4Gdy9rnAc"
      },
      "outputs": [],
      "source": [
        "# Выбираем только часть классов для ускорения работы\n",
        "SAMPLE_CLASSES = ['yes', 'no', 'up', 'down', 'left', 'right', 'on', 'off', 'stop', 'go']\n",
        "\n",
        "class SubsetSC(torchaudio.datasets.SPEECHCOMMANDS):\n",
        "    def __init__(self, subset: str = None):\n",
        "        super().__init__(\".\", download=True)\n",
        "        def load_list(filename):\n",
        "            filepath = os.path.join(self._path, filename)\n",
        "            with open(filepath) as f:\n",
        "                return [os.path.normpath(os.path.join(self._path, line.strip())) for line in f]\n",
        "        if subset == \"validation\":\n",
        "            self._walker = load_list(\"validation_list.txt\")\n",
        "        elif subset == \"testing\":\n",
        "            self._walker = load_list(\"testing_list.txt\")\n",
        "        elif subset == \"training\":\n",
        "            excludes = load_list(\"validation_list.txt\") + load_list(\"testing_list.txt\")\n",
        "            excludes = set(excludes)\n",
        "            self._walker = [w for w in self._walker if w not in excludes]\n",
        "\n",
        "train_set = SubsetSC(\"training\")\n",
        "val_set = SubsetSC(\"validation\")\n",
        "test_set = SubsetSC(\"testing\")"
      ]
    },
    {
      "cell_type": "code",
      "execution_count": 23,
      "metadata": {
        "colab": {
          "base_uri": "https://localhost:8080/"
        },
        "id": "QNaIvyMFkKU0",
        "outputId": "44ac703e-4157-41ee-824f-370a0c7ba47b"
      },
      "outputs": [
        {
          "output_type": "stream",
          "name": "stderr",
          "text": [
            "Scanning dataset: 100%|██████████| 84843/84843 [07:46<00:00, 181.76it/s]\n",
            "Scanning dataset: 100%|██████████| 9981/9981 [00:49<00:00, 203.51it/s]\n",
            "Scanning dataset: 100%|██████████| 11005/11005 [00:51<00:00, 212.73it/s]"
          ]
        },
        {
          "output_type": "stream",
          "name": "stdout",
          "text": [
            "\n",
            "class distribution for train:\n",
            "down: 3134\n",
            "go: 3106\n",
            "left: 3037\n",
            "no: 3130\n",
            "off: 2970\n",
            "on: 3086\n",
            "right: 3019\n",
            "stop: 3111\n",
            "up: 2948\n",
            "yes: 3228\n",
            "\n",
            "class distribution for validation:\n",
            "right: 363\n",
            "go: 372\n",
            "no: 406\n",
            "left: 352\n",
            "stop: 350\n",
            "up: 350\n",
            "down: 377\n",
            "yes: 397\n",
            "on: 363\n",
            "off: 373\n",
            "\n",
            "class distribution for test:\n",
            "right: 396\n",
            "go: 402\n",
            "no: 405\n",
            "left: 412\n",
            "stop: 411\n",
            "up: 425\n",
            "down: 406\n",
            "yes: 419\n",
            "on: 396\n",
            "off: 402\n"
          ]
        },
        {
          "output_type": "stream",
          "name": "stderr",
          "text": [
            "\n"
          ]
        }
      ],
      "source": [
        "import os\n",
        "import torch\n",
        "import torchaudio\n",
        "from torch.utils.data import Dataset, DataLoader\n",
        "import numpy as np\n",
        "from tqdm import tqdm\n",
        "import random\n",
        "\n",
        "# Выбранные команды\n",
        "SAMPLE_CLASSES = ['yes', 'no', 'up', 'down', 'left', 'right', 'on', 'off', 'stop', 'go']\n",
        "\n",
        "class SubsetSC(torchaudio.datasets.SPEECHCOMMANDS):\n",
        "    def __init__(self, subset: str = None):\n",
        "        super().__init__(\".\", download=True)\n",
        "        def load_list(filename):\n",
        "            filepath = os.path.join(self._path, filename)\n",
        "            with open(filepath) as fileobj:\n",
        "                return [os.path.normpath(os.path.join(self._path, line.strip())) for line in fileobj]\n",
        "        if subset == \"validation\":\n",
        "            self._walker = load_list(\"validation_list.txt\")\n",
        "        elif subset == \"testing\":\n",
        "            self._walker = load_list(\"testing_list.txt\")\n",
        "        elif subset == \"training\":\n",
        "            excludes = load_list(\"validation_list.txt\") + load_list(\"testing_list.txt\")\n",
        "            excludes = set(excludes)\n",
        "            self._walker = [w for w in self._walker if w not in excludes]\n",
        "\n",
        "def filter_dataset(dataset, classes):\n",
        "    filtered = []\n",
        "\n",
        "    for waveform, sample_rate, label, *_ in tqdm(dataset, desc=\"Scanning dataset\"):\n",
        "        if label in classes:\n",
        "            filtered.append((waveform, sample_rate, label))\n",
        "\n",
        "    return filtered\n",
        "\n",
        "# Инициализация наборов данных\n",
        "train_set = SubsetSC(\"training\")\n",
        "val_set = SubsetSC(\"validation\")\n",
        "test_set = SubsetSC(\"testing\")\n",
        "\n",
        "# Фильтрация данных только по выбранным классам\n",
        "train_data = filter_dataset(train_set, SAMPLE_CLASSES)\n",
        "val_data = filter_dataset(val_set, SAMPLE_CLASSES)\n",
        "test_data = filter_dataset(test_set, SAMPLE_CLASSES)\n",
        "\n",
        "# Проверяем распределение классов\n",
        "def print_class_distribution(data, name):\n",
        "    print(f\"\\nclass distribution for {name}:\")\n",
        "    counts = {}\n",
        "    for _, _, label in data:\n",
        "        counts[label] = counts.get(label, 0) + 1\n",
        "    for label, count in counts.items():\n",
        "        print(f\"{label}: {count}\")\n",
        "\n",
        "print_class_distribution(train_data, \"train\")\n",
        "print_class_distribution(val_data, \"validation\")\n",
        "print_class_distribution(test_data, \"test\")"
      ]
    },
    {
      "cell_type": "markdown",
      "metadata": {
        "id": "qSRAkRQp96hg"
      },
      "source": [
        "### Загрузка и отбор датасета Google Speech Commands\n",
        "\n",
        "В этом блоке осуществляется загрузка официального датасета [Google Speech Commands](https://huggingface.co/datasets/google/speech_commands), содержащего короткие аудиозаписи голосовых команд. Для ускорения работы выбираются только 10 целевых классов: `yes`, `no`, `up`, `down`, `left`, `right`, `on`, `off`, `stop`, `go`.\n",
        "\n",
        "Создаётся класс `SubsetSC`, который наследуется от `torchaudio.datasets.SPEECHCOMMANDS` и перегружает метод получения подмножества. В зависимости от значения `subset` загружается список путей к файлам:\n",
        "- для `training` из него исключаются валидационные и тестовые примеры,\n",
        "- для `validation` и `testing` загружаются соответствующие списки.\n",
        "\n",
        "Результатом работы являются три поднабора — `train_set`, `val_set` и `test_set`, содержащие отфильтрованные записи только из нужных классов. Это позволяет работать с компактной и сфокусированной выборкой для обучения и тестирования модели.\n"
      ]
    },
    {
      "cell_type": "markdown",
      "metadata": {
        "id": "17F49pslkwCh"
      },
      "source": [
        "Фильтрация данных (только нужные классы)"
      ]
    },
    {
      "cell_type": "markdown",
      "metadata": {
        "id": "88UarWAM-CR9"
      },
      "source": [
        "### Фильтрация датасета по нужным классам\n",
        "\n",
        "Этот блок фильтрует записи из загруженного датасета, оставляя только те, что относятся к заранее определённым голосовым командам (`SAMPLE_CLASSES`). Функция `filter_dataset` перебирает каждый элемент (включая аудиосигнал `waveform`, частоту дискретизации `sample_rate` и метку `label`) и добавляет его в итоговый список, если метка входит в список целевых классов. Для визуализации прогресса используется `tqdm`.\n",
        "\n",
        "Результатом являются три новых списка: `train_data`, `val_data`, `test_data` — очищенные от лишних классов и готовые для обучения, валидации и тестирования модели.\n"
      ]
    },
    {
      "cell_type": "markdown",
      "metadata": {
        "id": "oSaPwcibkwz8"
      },
      "source": [
        "Кодировка меток и препроцессинг"
      ]
    },
    {
      "cell_type": "code",
      "source": [
        "# Определяем список классов (без 'unknown')\n",
        "SAMPLE_CLASSES = ['yes', 'no', 'up', 'down', 'left', 'right', 'on', 'off', 'stop', 'go']\n",
        "\n",
        "# Создаем словари для преобразования меток\n",
        "label2idx = {label: idx for idx, label in enumerate(SAMPLE_CLASSES)}\n",
        "idx2label = {idx: label for idx, label in enumerate(SAMPLE_CLASSES)}\n",
        "\n",
        "def preprocess(waveform, sample_rate, label):\n",
        "    # 1. Конвертируем в моно (если стерео)\n",
        "    if waveform.dim() > 1:\n",
        "        waveform = waveform.mean(dim=0)\n",
        "\n",
        "    # 2. Ресемплирование до 16kHz при необходимости\n",
        "    if sample_rate != 16000:\n",
        "        resampler = torchaudio.transforms.Resample(orig_freq=sample_rate, new_freq=16000)\n",
        "        waveform = resampler(waveform)\n",
        "        sample_rate = 16000\n",
        "\n",
        "    # 3. Обрезка/дополнение до фиксированной длины (1 секунда)\n",
        "    target_length = sample_rate  # 1 секунда аудио\n",
        "    if waveform.size(0) < target_length:\n",
        "        # Дополняем нулями\n",
        "        padding = target_length - waveform.size(0)\n",
        "        waveform = torch.nn.functional.pad(waveform, (0, padding))\n",
        "    elif waveform.size(0) > target_length:\n",
        "        # Случайная обрезка\n",
        "        start = torch.randint(0, waveform.size(0) - target_length, (1,)).item()\n",
        "        waveform = waveform[start:start+target_length]\n",
        "\n",
        "    # 4. Получение мел-спектрограммы\n",
        "    mel_transform = torchaudio.transforms.MelSpectrogram(\n",
        "        sample_rate=sample_rate,\n",
        "        n_mels=64,\n",
        "        n_fft=1024,\n",
        "        hop_length=256\n",
        "    )\n",
        "    mel = mel_transform(waveform)\n",
        "\n",
        "    # 5. Конвертация в dB\n",
        "    db_transform = torchaudio.transforms.AmplitudeToDB()\n",
        "    mel_db = db_transform(mel)\n",
        "\n",
        "    # 6. Нормализация\n",
        "    mel_db = (mel_db - mel_db.mean()) / (mel_db.std() + 1e-8)\n",
        "\n",
        "    # Преобразуем метку в индекс (только для выбранных классов)\n",
        "    # Теперь просто проверяем, что метка есть в SAMPLE_CLASSES\n",
        "    if label not in SAMPLE_CLASSES:\n",
        "        raise ValueError(f\"Неизвестная метка: {label}. Ожидается одна из: {SAMPLE_CLASSES}\")\n",
        "\n",
        "    return mel_db, label2idx[label]"
      ],
      "metadata": {
        "id": "8Xwr5KB5L-PM"
      },
      "execution_count": 24,
      "outputs": []
    },
    {
      "cell_type": "markdown",
      "metadata": {
        "id": "QfM6QB4A-KHS"
      },
      "source": [
        "### Кодировка меток и препроцессинг аудио\n",
        "\n",
        "В этом блоке создаются два словаря: `label2idx` для преобразования текстовых меток в числовые индексы и `idx2label` — для обратного отображения.\n",
        "\n",
        "Функция `preprocess()` выполняет предварительную обработку аудио:\n",
        "- преобразует сигнал в моно (на случай, если он стерео),\n",
        "- извлекает мел-спектрограмму с помощью `torchaudio.transforms.MelSpectrogram`,\n",
        "- переводит её в шкалу децибел через `AmplitudeToDB`.\n",
        "\n",
        "Возвращаются: готовая к модели спектрограмма и числовая метка соответствующего класса.\n"
      ]
    },
    {
      "cell_type": "markdown",
      "metadata": {
        "id": "C4zC4ljPnGhT"
      },
      "source": [
        "Кастомный Dataset и DataLoader"
      ]
    },
    {
      "cell_type": "code",
      "source": [
        "import random\n",
        "import torchaudio\n",
        "from torch.utils.data import Dataset, DataLoader\n",
        "import torch.nn.functional as F\n",
        "\n",
        "def add_noise(waveform, noise_level=0.003):\n",
        "    \"\"\"Добавляет случайный шум к аудио\"\"\"\n",
        "    noise = torch.randn_like(waveform) * noise_level\n",
        "    return waveform + noise\n",
        "\n",
        "def time_shift(waveform, max_shift_ms=150, sample_rate=16000):\n",
        "    \"\"\"Сдвигает аудио во времени на случайное количество миллисекунд.\"\"\"\n",
        "    if waveform.dim() == 1:\n",
        "        waveform = waveform.unsqueeze(0)\n",
        "\n",
        "    max_shift_samples = int((max_shift_ms * sample_rate) / 1000)\n",
        "    shift_samples = random.randint(-max_shift_samples, max_shift_samples)\n",
        "\n",
        "    if shift_samples > 0:\n",
        "        waveform = torch.cat([\n",
        "            waveform[:, shift_samples:],\n",
        "            torch.zeros_like(waveform[:, :shift_samples])\n",
        "        ], dim=1)\n",
        "    elif shift_samples < 0:\n",
        "        waveform = torch.cat([\n",
        "            torch.zeros_like(waveform[:, :-shift_samples]),\n",
        "            waveform[:, :shift_samples]\n",
        "        ], dim=1)\n",
        "\n",
        "    return waveform.squeeze(0) if waveform.size(0) == 1 else waveform\n",
        "\n",
        "def change_volume(waveform, gain_range=(0.7, 1.3)):\n",
        "    \"\"\"Изменяет громкость аудио на случайный коэффициент\"\"\"\n",
        "    return waveform * random.uniform(gain_range[0], gain_range[1])\n",
        "\n",
        "class SpeechCommandsDataset(Dataset):\n",
        "    def __init__(self, data, sample_classes, augment=False):\n",
        "        self.data = data\n",
        "        self.sample_classes = sample_classes\n",
        "        self.augment = augment\n",
        "        self.label2idx = {label: idx for idx, label in enumerate(sample_classes)}\n",
        "        self.idx2label = {idx: label for idx, label in enumerate(sample_classes)}\n",
        "\n",
        "    def __len__(self):\n",
        "        return len(self.data)\n",
        "\n",
        "    def __getitem__(self, idx):\n",
        "        waveform, sample_rate, label = self.data[idx]\n",
        "\n",
        "        if self.augment:\n",
        "            if random.random() > 0.5:\n",
        "                waveform = add_noise(waveform)\n",
        "            if random.random() > 0.5:\n",
        "                waveform = time_shift(waveform)\n",
        "            if random.random() > 0.5:\n",
        "                waveform = change_volume(waveform)\n",
        "\n",
        "        mel = self.preprocess_audio(waveform, sample_rate)\n",
        "        return mel, self.label2idx[label]\n",
        "\n",
        "    def preprocess_audio(self, waveform, sample_rate):\n",
        "        if waveform.dim() > 1:\n",
        "            waveform = waveform.mean(dim=0)\n",
        "\n",
        "        if sample_rate != 16000:\n",
        "            waveform = torchaudio.transforms.Resample(\n",
        "                orig_freq=sample_rate,\n",
        "                new_freq=16000\n",
        "            )(waveform)\n",
        "\n",
        "        target_length = 16000\n",
        "        if waveform.size(0) < target_length:\n",
        "            waveform = F.pad(waveform, (0, target_length - waveform.size(0)))\n",
        "        elif waveform.size(0) > target_length:\n",
        "            start = torch.randint(0, waveform.size(0) - target_length, (1,)).item()\n",
        "            waveform = waveform[start:start+target_length]\n",
        "\n",
        "        mel = torchaudio.transforms.MelSpectrogram(\n",
        "            sample_rate=16000,\n",
        "            n_mels=64,\n",
        "            n_fft=1024,\n",
        "            hop_length=256\n",
        "        )(waveform)\n",
        "\n",
        "        mel_db = torchaudio.transforms.AmplitudeToDB()(mel)\n",
        "        return (mel_db - mel_db.mean()) / (mel_db.std() + 1e-8)\n",
        "\n",
        "def pad_collate_fn(batch):\n",
        "    mels = [item[0] for item in batch]\n",
        "    labels = torch.tensor([item[1] for item in batch])\n",
        "\n",
        "    max_len = max(mel.shape[-1] for mel in mels)\n",
        "    mels_padded = torch.stack([F.pad(mel, (0, max_len - mel.shape[-1])) for mel in mels])\n",
        "\n",
        "    return mels_padded.unsqueeze(1), labels\n",
        "\n",
        "# Основные параметры\n",
        "SAMPLE_CLASSES = ['yes', 'no', 'up', 'down', 'left', 'right', 'on', 'off', 'stop', 'go']\n",
        "batch_size = 64\n",
        "\n",
        "# Создание датасетов\n",
        "train_dataset = SpeechCommandsDataset(train_data, SAMPLE_CLASSES, augment=True)\n",
        "val_dataset = SpeechCommandsDataset(val_data, SAMPLE_CLASSES)\n",
        "test_dataset = SpeechCommandsDataset(test_data, SAMPLE_CLASSES)\n",
        "\n",
        "# DataLoader'ы\n",
        "train_loader = DataLoader(\n",
        "    train_dataset,\n",
        "    batch_size=batch_size,\n",
        "    shuffle=True,\n",
        "    drop_last=True,\n",
        "    collate_fn=pad_collate_fn,\n",
        "    pin_memory=True,\n",
        "    num_workers=4\n",
        ")\n",
        "\n",
        "val_loader = DataLoader(\n",
        "    val_dataset,\n",
        "    batch_size=batch_size,\n",
        "    drop_last=True,\n",
        "    collate_fn=pad_collate_fn,\n",
        "    pin_memory=True,\n",
        "    num_workers=2\n",
        ")\n",
        "\n",
        "test_loader = DataLoader(\n",
        "    test_dataset,\n",
        "    batch_size=batch_size,\n",
        "    drop_last=True,\n",
        "    collate_fn=pad_collate_fn,\n",
        "    pin_memory=True,\n",
        "    num_workers=2\n",
        ")"
      ],
      "metadata": {
        "id": "ucRsR7lkMYeH"
      },
      "execution_count": 25,
      "outputs": []
    },
    {
      "cell_type": "markdown",
      "metadata": {
        "id": "rMkFkYIH-VLN"
      },
      "source": [
        "### Кастомный Dataset и DataLoader\n",
        "\n",
        "В этом блоке создаются:\n",
        "\n",
        "- **Функция `pad_collate_fn(batch)`** — применяется при формировании батчей:\n",
        "  - собирает мел-спектрограммы и метки из переданных элементов;\n",
        "  - дополняет все спектрограммы нулями до одинаковой ширины;\n",
        "  - объединяет их в батч.\n",
        "\n",
        "- **Класс `SpeechCommandsDataset`** — наследуется от `torch.utils.data.Dataset`:\n",
        "  - хранит данные (waveform, sample_rate, label);\n",
        "  - в методе `__getitem__` преобразует сигнал в мел-спектрограмму и возвращает её с индексом класса.\n",
        "\n",
        "- **DataLoader’ы** `train_loader`, `val_loader`, `test_loader` — обеспечивают итеративную подачу батчей в модель с кастомной функцией `collate_fn` и перемешиванием (shuffle) обучающих данных.\n"
      ]
    },
    {
      "cell_type": "markdown",
      "metadata": {
        "id": "TdAtPJrmnHNZ"
      },
      "source": [
        "Модель"
      ]
    },
    {
      "cell_type": "code",
      "source": [
        "import torch.nn as nn\n",
        "import torch\n",
        "\n",
        "class SpeechCommandModel(nn.Module):\n",
        "    def __init__(self, num_classes=10):  # 10 классов по умолчанию\n",
        "        super().__init__()\n",
        "        # CNN блок для извлечения признаков\n",
        "        self.cnn = nn.Sequential(\n",
        "            nn.Conv2d(1, 16, kernel_size=3, stride=1, padding=1),  # [B, 16, 64, T]\n",
        "            nn.BatchNorm2d(16),\n",
        "            nn.ReLU(),\n",
        "            nn.MaxPool2d(2),  # [B, 16, 32, T//2]\n",
        "\n",
        "            nn.Conv2d(16, 32, kernel_size=3, stride=1, padding=1),  # [B, 32, 32, T//2]\n",
        "            nn.BatchNorm2d(32),\n",
        "            nn.ReLU(),\n",
        "            nn.MaxPool2d(2),  # [B, 32, 16, T//4]\n",
        "\n",
        "            nn.Conv2d(32, 64, kernel_size=3, stride=1, padding=1),  # [B, 64, 16, T//4]\n",
        "            nn.BatchNorm2d(64),\n",
        "            nn.ReLU(),\n",
        "            nn.MaxPool2d(2),  # [B, 64, 8, T//8]\n",
        "        )\n",
        "\n",
        "        # Глобальный средний пулинг\n",
        "        self.gap = nn.AdaptiveAvgPool2d((1, 1))  # [B, 64, 1, 1]\n",
        "\n",
        "        # Полносвязный классификатор\n",
        "        self.fc = nn.Sequential(\n",
        "            nn.Flatten(),\n",
        "            nn.Linear(64, 128),\n",
        "            nn.ReLU(),\n",
        "            nn.Dropout(0.3),\n",
        "            nn.Linear(128, num_classes)\n",
        "        )\n",
        "\n",
        "    def forward(self, x):\n",
        "        x = self.cnn(x)\n",
        "        x = self.gap(x)\n",
        "        x = self.fc(x)\n",
        "        return x\n",
        "\n",
        "device = torch.device(\"cuda\" if torch.cuda.is_available() else \"cpu\")\n",
        "print(f\"Using device: {device}\")\n",
        "\n",
        "# Создаем модель для 10 классов команд\n",
        "model = SpeechCommandModel(num_classes=10).to(device)\n",
        "\n",
        "# Выводим архитектуру модели\n",
        "print(model)\n",
        "\n",
        "# Пример проверки работы модели\n",
        "if __name__ == '__main__':\n",
        "    # Тестовый вход (batch_size=2, 1 канал, 64 мел-банда, 100 временных шагов)\n",
        "    test_input = torch.randn(2, 1, 64, 100).to(device)\n",
        "    output = model(test_input)\n",
        "    print(f\"\\nTest output shape: {output.shape}\")  # Ожидается [2, 10]"
      ],
      "metadata": {
        "colab": {
          "base_uri": "https://localhost:8080/"
        },
        "id": "GPUVTsFRM1Ia",
        "outputId": "12f1b489-2ff7-4cb0-c288-12755f25a069"
      },
      "execution_count": 26,
      "outputs": [
        {
          "output_type": "stream",
          "name": "stdout",
          "text": [
            "Using device: cpu\n",
            "SpeechCommandModel(\n",
            "  (cnn): Sequential(\n",
            "    (0): Conv2d(1, 16, kernel_size=(3, 3), stride=(1, 1), padding=(1, 1))\n",
            "    (1): BatchNorm2d(16, eps=1e-05, momentum=0.1, affine=True, track_running_stats=True)\n",
            "    (2): ReLU()\n",
            "    (3): MaxPool2d(kernel_size=2, stride=2, padding=0, dilation=1, ceil_mode=False)\n",
            "    (4): Conv2d(16, 32, kernel_size=(3, 3), stride=(1, 1), padding=(1, 1))\n",
            "    (5): BatchNorm2d(32, eps=1e-05, momentum=0.1, affine=True, track_running_stats=True)\n",
            "    (6): ReLU()\n",
            "    (7): MaxPool2d(kernel_size=2, stride=2, padding=0, dilation=1, ceil_mode=False)\n",
            "    (8): Conv2d(32, 64, kernel_size=(3, 3), stride=(1, 1), padding=(1, 1))\n",
            "    (9): BatchNorm2d(64, eps=1e-05, momentum=0.1, affine=True, track_running_stats=True)\n",
            "    (10): ReLU()\n",
            "    (11): MaxPool2d(kernel_size=2, stride=2, padding=0, dilation=1, ceil_mode=False)\n",
            "  )\n",
            "  (gap): AdaptiveAvgPool2d(output_size=(1, 1))\n",
            "  (fc): Sequential(\n",
            "    (0): Flatten(start_dim=1, end_dim=-1)\n",
            "    (1): Linear(in_features=64, out_features=128, bias=True)\n",
            "    (2): ReLU()\n",
            "    (3): Dropout(p=0.3, inplace=False)\n",
            "    (4): Linear(in_features=128, out_features=10, bias=True)\n",
            "  )\n",
            ")\n",
            "\n",
            "Test output shape: torch.Size([2, 10])\n"
          ]
        }
      ]
    },
    {
      "cell_type": "markdown",
      "metadata": {
        "id": "FZvHbUF2-f3u"
      },
      "source": [
        "### Архитектура нейросети `SpeechCommandModel`\n",
        "\n",
        "Модель построена на основе сверточной нейросети (CNN) и используется для классификации коротких аудиофрагментов:\n",
        "\n",
        "- **CNN-блок (`self.cnn`)**:\n",
        "  - 2 сверточных слоя с ядром 3×3 и ReLU-активацией;\n",
        "  - 2 слоя субдискретизации (MaxPooling);\n",
        "  - работает с входами формата `[batch, 1, mel, time]`.\n",
        "\n",
        "- **GAP (Global Average Pooling)** — `nn.AdaptiveAvgPool2d((1, 1))` — приводит карту признаков к фиксированному размеру независимо от входа.\n",
        "\n",
        "- **Полносвязный блок (`self.fc`)**:\n",
        "  - слой `Flatten`;\n",
        "  - линейный слой 16→64;\n",
        "  - ReLU;\n",
        "  - линейный слой 64→количество классов.\n",
        "\n",
        "- **Метод `forward(x)`**:\n",
        "  - добавляет канал (`unsqueeze`);\n",
        "  - последовательно применяет все блоки.\n",
        "\n",
        "Модель инициализируется через:\n",
        "```python\n",
        "model = SpeechCommandModel(num_classes=len(SAMPLE_CLASSES)).to(device)\n"
      ]
    },
    {
      "cell_type": "markdown",
      "metadata": {
        "id": "nhg6fXwanKmt"
      },
      "source": [
        "Тренировка модели"
      ]
    },
    {
      "cell_type": "code",
      "source": [
        "import matplotlib.pyplot as plt\n",
        "from IPython.display import clear_output\n",
        "import numpy as np\n",
        "\n",
        "# Гиперпараметры\n",
        "learning_rate = 0.001\n",
        "epochs = 20\n",
        "warmup_epochs = 3  # Количество эпох для warmup\n",
        "patience = 5       # Количество эпох для ранней остановки\n",
        "\n",
        "# Функция потерь и оптимизатор\n",
        "criterion = nn.CrossEntropyLoss()\n",
        "optimizer = torch.optim.Adam(model.parameters(), lr=learning_rate)\n",
        "\n",
        "# Списки для хранения истории метрик\n",
        "train_loss_history = []\n",
        "train_acc_history = []\n",
        "val_loss_history = []\n",
        "val_acc_history = []\n",
        "\n",
        "# Переменные для ранней остановки\n",
        "best_val_loss = np.inf\n",
        "epochs_no_improve = 0\n",
        "early_stop = False\n",
        "\n",
        "# Функция для отрисовки графиков\n",
        "def plot_metrics():\n",
        "    clear_output(wait=True)\n",
        "    plt.figure(figsize=(12, 5))\n",
        "\n",
        "    # График потерь\n",
        "    plt.subplot(1, 2, 1)\n",
        "    plt.plot(train_loss_history, label='Train Loss')\n",
        "    plt.plot(val_loss_history, label='Validation Loss')\n",
        "    plt.title('Loss over epochs')\n",
        "    plt.xlabel('Epoch')\n",
        "    plt.ylabel('Loss')\n",
        "    plt.legend()\n",
        "\n",
        "    # График точности\n",
        "    plt.subplot(1, 2, 2)\n",
        "    plt.plot(train_acc_history, label='Train Accuracy')\n",
        "    plt.plot(val_acc_history, label='Validation Accuracy')\n",
        "    plt.title('Accuracy over epochs')\n",
        "    plt.xlabel('Epoch')\n",
        "    plt.ylabel('Accuracy')\n",
        "    plt.legend()\n",
        "\n",
        "    plt.tight_layout()\n",
        "    plt.show()\n",
        "\n",
        "# Цикл обучения\n",
        "for epoch in range(epochs):\n",
        "    # Реализация warmup\n",
        "    if epoch < warmup_epochs:\n",
        "        lr = learning_rate * (epoch + 1) / warmup_epochs\n",
        "        for param_group in optimizer.param_groups:\n",
        "            param_group['lr'] = lr\n",
        "\n",
        "    # Обучение\n",
        "    model.train()\n",
        "    train_loss = 0\n",
        "    train_acc = 0\n",
        "\n",
        "    for batch, labels in train_loader:\n",
        "        batch, labels = batch.to(device), labels.to(device)\n",
        "\n",
        "        optimizer.zero_grad()\n",
        "        outputs = model(batch)\n",
        "        loss = criterion(outputs, labels)\n",
        "        loss.backward()\n",
        "        optimizer.step()\n",
        "\n",
        "        train_loss += loss.item()\n",
        "        train_acc += accuracy(outputs, labels)\n",
        "\n",
        "    # Валидация\n",
        "    model.eval()\n",
        "    val_loss = 0\n",
        "    val_acc = 0\n",
        "\n",
        "    with torch.no_grad():\n",
        "        for batch, labels in val_loader:\n",
        "            batch, labels = batch.to(device), labels.to(device)\n",
        "            outputs = model(batch)\n",
        "            val_loss += criterion(outputs, labels).item()\n",
        "            val_acc += accuracy(outputs, labels)\n",
        "\n",
        "    # Сохраняем метрики\n",
        "    train_loss_history.append(train_loss/len(train_loader))\n",
        "    train_acc_history.append((train_acc/len(train_loader)).cpu().numpy())\n",
        "    val_loss_history.append(val_loss/len(val_loader))\n",
        "    val_acc_history.append((val_acc/len(val_loader)).cpu().numpy())\n",
        "\n",
        "    # Проверка на улучшение val_loss для ранней остановки\n",
        "    if val_loss_history[-1] < best_val_loss:\n",
        "        best_val_loss = val_loss_history[-1]\n",
        "        epochs_no_improve = 0\n",
        "        # Сохраняем лучшие веса модели\n",
        "        torch.save(model.state_dict(), 'best_model_aug_nu.pth')\n",
        "    else:\n",
        "        epochs_no_improve += 1\n",
        "        if epochs_no_improve >= patience:\n",
        "            early_stop = True\n",
        "\n",
        "    # Вывод статистики\n",
        "    print(f\"Epoch {epoch+1}/{epochs}:\")\n",
        "    print(f\"Learning Rate: {optimizer.param_groups[0]['lr']:.6f}\")\n",
        "    print(f\"Train Loss: {train_loss_history[-1]:.4f} | Train Acc: {train_acc_history[-1]:.4f}\")\n",
        "    print(f\"Val Loss: {val_loss_history[-1]:.4f} | Val Acc: {val_acc_history[-1]:.4f}\")\n",
        "    if epochs_no_improve > 0:\n",
        "        print(f\"No improvement for {epochs_no_improve} epochs\")\n",
        "    print(\"-\" * 50)\n",
        "\n",
        "    # Отрисовка графиков\n",
        "    plot_metrics()\n",
        "\n",
        "    # Ранняя остановка\n",
        "    if early_stop:\n",
        "        print(f\"Early stopping triggered after {epoch+1} epochs!\")\n",
        "        # Загружаем лучшие веса модели\n",
        "        model.load_state_dict(torch.load('best_model_aug_nu.pth'))\n",
        "        break\n",
        "\n",
        "# Финальная оценка на тестовом наборе\n",
        "model.eval()\n",
        "test_loss = 0\n",
        "test_acc = 0\n",
        "\n",
        "with torch.no_grad():\n",
        "    for batch, labels in test_loader:\n",
        "        batch, labels = batch.to(device), labels.to(device)\n",
        "        outputs = model(batch)\n",
        "        test_loss += criterion(outputs, labels).item()\n",
        "        test_acc += accuracy(outputs, labels)\n",
        "\n",
        "print(\"\\nFinal Test Results:\")\n",
        "print(f\"Test Loss: {test_loss/len(test_loader):.4f}\")\n",
        "print(f\"Test Accuracy: {test_acc/len(test_loader):.4f}\")"
      ],
      "metadata": {
        "colab": {
          "base_uri": "https://localhost:8080/",
          "height": 581
        },
        "id": "mJG4eawJvndj",
        "outputId": "6e1f490c-d8aa-4b6a-b94f-9232b8672ab5"
      },
      "execution_count": 28,
      "outputs": [
        {
          "output_type": "display_data",
          "data": {
            "text/plain": [
              "<Figure size 1200x500 with 2 Axes>"
            ],
            "image/png": "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\n"
          },
          "metadata": {}
        },
        {
          "output_type": "stream",
          "name": "stdout",
          "text": [
            "\n",
            "Final Test Results:\n",
            "Test Loss: 0.3792\n",
            "Test Accuracy: 0.8695\n"
          ]
        }
      ]
    },
    {
      "cell_type": "markdown",
      "metadata": {
        "id": "BiePGFnb-nbN"
      },
      "source": [
        "### Обучение модели `SpeechCommandModel`\n",
        "\n",
        "Для обучения модели используется функция `train_model(model, loader, epochs)`:\n",
        "\n",
        "- **Оптимизатор**: `Adam` с learning rate `0.001`.\n",
        "- **Функция потерь**: `CrossEntropyLoss`, так как задача — многоклассовая классификация.\n",
        "- **Цикл по эпохам**:\n",
        "  - перевод модели в режим обучения (`model.train()`);\n",
        "  - перебор батчей из `DataLoader`;\n",
        "  - перемещение данных и меток на устройство (`device`);\n",
        "  - обнуление градиентов;\n",
        "  - прямой проход (forward pass);\n",
        "  - вычисление ошибки и обратное распространение (backpropagation);\n",
        "  - шаг оптимизации (`optimizer.step()`).\n",
        "\n",
        "Каждая эпоха выводит среднее значение ошибки (`loss`) по всем батчам, что помогает следить за динамикой обучения.\n",
        "\n",
        "В выводе видно, что loss уменьшается от `2` до `0.25`, что говорит о процессе обучения модели.\n",
        "\n"
      ]
    }
  ],
  "metadata": {
    "colab": {
      "provenance": [],
      "gpuType": "T4"
    },
    "kernelspec": {
      "display_name": "Python 3",
      "name": "python3"
    },
    "language_info": {
      "codemirror_mode": {
        "name": "ipython",
        "version": 3
      },
      "file_extension": ".py",
      "mimetype": "text/x-python",
      "name": "python",
      "nbconvert_exporter": "python",
      "pygments_lexer": "ipython3",
      "version": "3.12.4"
    },
    "accelerator": "GPU"
  },
  "nbformat": 4,
  "nbformat_minor": 0
}



import pickle

# Сохраняем модель
torch.save(model.state_dict(), "best_model_aug_nu.pth")
# Сохраняем label2idx для декодирования классов
with open("label2idx.pkl", "wb") as f:
    pickle.dump(label2idx, f)

print("Модель и словарь меток сохранены!")
